{
 "cells": [
  {
   "cell_type": "code",
   "execution_count": 1,
   "id": "972dc1bd-9f3d-46b4-b762-7b361d74c51e",
   "metadata": {},
   "outputs": [],
   "source": [
    "import numpy as np"
   ]
  },
  {
   "cell_type": "code",
   "execution_count": 2,
   "id": "276b5989-c67e-4451-9383-3de49c717d3c",
   "metadata": {},
   "outputs": [
    {
     "data": {
      "text/plain": [
       "array([ 1,  2,  3,  4,  5,  6,  7,  8,  9, 10])"
      ]
     },
     "execution_count": 2,
     "metadata": {},
     "output_type": "execute_result"
    }
   ],
   "source": [
    "my_list = [1, 2, 3, 4, 5, 6, 7, 8, 9, 10]\n",
    "my_array = np.array(my_list); my_array"
   ]
  },
  {
   "cell_type": "code",
   "execution_count": 3,
   "id": "8531141d-6e2b-44b7-96bd-c562532b36c7",
   "metadata": {},
   "outputs": [
    {
     "data": {
      "text/plain": [
       "numpy.ndarray"
      ]
     },
     "execution_count": 3,
     "metadata": {},
     "output_type": "execute_result"
    }
   ],
   "source": [
    "type(my_array)"
   ]
  },
  {
   "cell_type": "code",
   "execution_count": 4,
   "id": "d4390201-dca5-405a-8f26-3ab47d289500",
   "metadata": {},
   "outputs": [
    {
     "data": {
      "text/plain": [
       "(10,)"
      ]
     },
     "execution_count": 4,
     "metadata": {},
     "output_type": "execute_result"
    }
   ],
   "source": [
    "my_array.shape"
   ]
  },
  {
   "cell_type": "code",
   "execution_count": 5,
   "id": "e499a2d6-ee10-49f4-98d0-e4cdf8207ed7",
   "metadata": {},
   "outputs": [
    {
     "data": {
      "text/plain": [
       "array([0, 1, 2, 3, 4, 5, 6, 7, 8, 9])"
      ]
     },
     "execution_count": 5,
     "metadata": {},
     "output_type": "execute_result"
    }
   ],
   "source": [
    "arange_array = np.arange(10); arange_array"
   ]
  },
  {
   "cell_type": "code",
   "execution_count": 6,
   "id": "6dbabac7-3485-45bc-b4cd-4ecd29559571",
   "metadata": {},
   "outputs": [
    {
     "data": {
      "text/plain": [
       "array([0, 2, 4, 6, 8])"
      ]
     },
     "execution_count": 6,
     "metadata": {},
     "output_type": "execute_result"
    }
   ],
   "source": [
    "np.arange(0, 10, 2)"
   ]
  },
  {
   "cell_type": "code",
   "execution_count": 7,
   "id": "f2050082-1e8a-4f66-897f-bdc12e033156",
   "metadata": {},
   "outputs": [
    {
     "data": {
      "text/plain": [
       "array([0., 0., 0., 0., 0., 0., 0., 0., 0., 0.])"
      ]
     },
     "execution_count": 7,
     "metadata": {},
     "output_type": "execute_result"
    }
   ],
   "source": [
    "np.zeros(10)"
   ]
  },
  {
   "cell_type": "code",
   "execution_count": 8,
   "id": "f312d8eb-5a85-4d1c-b899-fd9b99a787b6",
   "metadata": {},
   "outputs": [
    {
     "data": {
      "text/plain": [
       "array([[0., 0., 0., 0., 0.],\n",
       "       [0., 0., 0., 0., 0.],\n",
       "       [0., 0., 0., 0., 0.],\n",
       "       [0., 0., 0., 0., 0.]])"
      ]
     },
     "execution_count": 8,
     "metadata": {},
     "output_type": "execute_result"
    }
   ],
   "source": [
    "np.zeros((4, 5))"
   ]
  },
  {
   "cell_type": "code",
   "execution_count": 9,
   "id": "08e63018-e3a9-48a9-a5c7-0226fe7f3f0f",
   "metadata": {
    "scrolled": true
   },
   "outputs": [
    {
     "data": {
      "text/plain": [
       "array([[6, 6, 6, 6],\n",
       "       [6, 6, 6, 6],\n",
       "       [6, 6, 6, 6],\n",
       "       [6, 6, 6, 6],\n",
       "       [6, 6, 6, 6]])"
      ]
     },
     "execution_count": 9,
     "metadata": {},
     "output_type": "execute_result"
    }
   ],
   "source": [
    "np.full((5, 4), 6)"
   ]
  },
  {
   "cell_type": "markdown",
   "id": "772d7e99-5b9c-4523-af25-75f5207433a9",
   "metadata": {},
   "source": [
    "# Slicing Arrays"
   ]
  },
  {
   "cell_type": "code",
   "execution_count": 10,
   "id": "743792e4-08ee-4edf-bb5b-baf28ec7bddd",
   "metadata": {},
   "outputs": [
    {
     "data": {
      "text/plain": [
       "array([1, 2, 3, 4, 5, 6, 7, 8, 9])"
      ]
     },
     "execution_count": 10,
     "metadata": {},
     "output_type": "execute_result"
    }
   ],
   "source": [
    "np1 = np.arange(1, 10); np1"
   ]
  },
  {
   "cell_type": "code",
   "execution_count": 11,
   "id": "21c252d8-30a3-4385-b36b-4dd6cc08cd1f",
   "metadata": {},
   "outputs": [
    {
     "data": {
      "text/plain": [
       "array([2, 3, 4, 5, 6])"
      ]
     },
     "execution_count": 11,
     "metadata": {},
     "output_type": "execute_result"
    }
   ],
   "source": [
    "# Return 2,3,4,5,6\n",
    "np1[1:6]"
   ]
  },
  {
   "cell_type": "code",
   "execution_count": 12,
   "id": "4caedea8-f853-420b-ab99-860728108f58",
   "metadata": {},
   "outputs": [
    {
     "data": {
      "text/plain": [
       "array([7, 8])"
      ]
     },
     "execution_count": 12,
     "metadata": {},
     "output_type": "execute_result"
    }
   ],
   "source": [
    "# Return 7,8 with negative slice\n",
    "np1[-3:-1]"
   ]
  },
  {
   "cell_type": "code",
   "execution_count": 13,
   "id": "e7f5f8a3-1cce-4d6c-8c56-c9194fade7d2",
   "metadata": {},
   "outputs": [
    {
     "data": {
      "text/plain": [
       "array([2, 4, 6])"
      ]
     },
     "execution_count": 13,
     "metadata": {},
     "output_type": "execute_result"
    }
   ],
   "source": [
    "# 2-6 in steps 2\n",
    "np1[1:6:2]"
   ]
  },
  {
   "cell_type": "markdown",
   "id": "c3c197c1-09d7-482a-9daa-8190e1d00823",
   "metadata": {},
   "source": [
    "## 2D Arrays"
   ]
  },
  {
   "cell_type": "code",
   "execution_count": 14,
   "id": "5e1a6174-cde3-4097-b53a-8f4808ddafc0",
   "metadata": {},
   "outputs": [
    {
     "data": {
      "text/plain": [
       "array([[ 9, 36, 15,  0, 28],\n",
       "       [25, 29, 29,  8,  9],\n",
       "       [ 0, 36, 16, 36, 11],\n",
       "       [24, 33,  8, 36, 14],\n",
       "       [13,  5, 13, 25, 13]])"
      ]
     },
     "execution_count": 14,
     "metadata": {},
     "output_type": "execute_result"
    }
   ],
   "source": [
    "np.random.seed(10)\n",
    "random_array = np.random.randint(0, 40, size=(5, 5)); random_array"
   ]
  },
  {
   "cell_type": "code",
   "execution_count": 15,
   "id": "285620b3-f8b0-4c9c-8219-c6f765915ae1",
   "metadata": {},
   "outputs": [
    {
     "data": {
      "text/plain": [
       "array([[36, 16, 36],\n",
       "       [33,  8, 36],\n",
       "       [ 5, 13, 25]])"
      ]
     },
     "execution_count": 15,
     "metadata": {},
     "output_type": "execute_result"
    }
   ],
   "source": [
    "random_array[2:, 1:4]"
   ]
  },
  {
   "cell_type": "code",
   "execution_count": 16,
   "id": "1616af41-cc4a-4a2a-a0c4-08dbeb79fe3e",
   "metadata": {},
   "outputs": [
    {
     "name": "stdout",
     "output_type": "stream",
     "text": [
      "19\n"
     ]
    }
   ],
   "source": [
    "np2 = np.arange(20)\n",
    "print(np2.max())"
   ]
  },
  {
   "cell_type": "markdown",
   "id": "9f513fe2-f74f-4cc4-9093-8fd3eae5a545",
   "metadata": {},
   "source": [
    "# Copy vs View"
   ]
  },
  {
   "cell_type": "code",
   "execution_count": 17,
   "id": "2b728629-c5e6-4900-91a5-c86970ddc8da",
   "metadata": {},
   "outputs": [
    {
     "name": "stdout",
     "output_type": "stream",
     "text": [
      "Original NP1:      [0 1 2 3 4 5 6 7 8 9]\n",
      "Original View NP2: [0 1 2 3 4 5 6 7 8 9]\n",
      "Original Copy NP3: [0 1 2 3 4 5 6 7 8 9]\n"
     ]
    }
   ],
   "source": [
    "np1 = np.arange(10)\n",
    "np2 = np1.view() # Create a view\n",
    "np3 = np1.copy() # Create a copy\n",
    "print(f\"Original NP1:      {np1}\")\n",
    "print(f\"Original View NP2: {np2}\")\n",
    "print(f\"Original Copy NP3: {np3}\")"
   ]
  },
  {
   "cell_type": "code",
   "execution_count": 18,
   "id": "052b9c15-0138-4fc7-89fd-528b37b2678b",
   "metadata": {},
   "outputs": [
    {
     "name": "stdout",
     "output_type": "stream",
     "text": [
      "Changed NP1:       [17  1  2  3  4  5  6  7  8  9]\n",
      "Original View NP2: [17  1  2  3  4  5  6  7  8  9]\n",
      "Original Copy NP3: [0 1 2 3 4 5 6 7 8 9]\n"
     ]
    }
   ],
   "source": [
    "# Change first item of Np1\n",
    "np1[0] = 17\n",
    "print(f\"Changed NP1:       {np1}\")\n",
    "print(f\"Original View NP2: {np2}\")\n",
    "print(f\"Original Copy NP3: {np3}\")"
   ]
  },
  {
   "cell_type": "code",
   "execution_count": 19,
   "id": "de194370-89f0-4997-b039-cb15140c32f9",
   "metadata": {},
   "outputs": [
    {
     "name": "stdout",
     "output_type": "stream",
     "text": [
      "Changed NP1:       [17  1  2  3  4  5  6  7  8  9]\n",
      "Original View NP2: [17  1  2  3  4  5  6  7  8  9]\n",
      "Changed Copy NP3:  [99  1  2  3  4  5  6  7  8  9]\n"
     ]
    }
   ],
   "source": [
    "# Change first item of Copy\n",
    "np3[0] = 99\n",
    "print(f\"Changed NP1:       {np1}\")\n",
    "print(f\"Original View NP2: {np2}\")\n",
    "print(f\"Changed Copy NP3:  {np3}\")"
   ]
  },
  {
   "cell_type": "code",
   "execution_count": 20,
   "id": "b238afde-29c7-4006-bd47-8c2f0632b965",
   "metadata": {},
   "outputs": [
    {
     "name": "stdout",
     "output_type": "stream",
     "text": [
      "Changed NP1:       [22  1  2  3  4  5  6  7  8  9]\n",
      "Changed View NP2:  [22  1  2  3  4  5  6  7  8  9]\n",
      "Changed Copy NP3:  [99  1  2  3  4  5  6  7  8  9]\n"
     ]
    }
   ],
   "source": [
    "# Change first item of view\n",
    "np2[0] = 22\n",
    "print(f\"Changed NP1:       {np1}\")\n",
    "print(f\"Changed View NP2:  {np2}\")\n",
    "print(f\"Changed Copy NP3:  {np3}\")"
   ]
  },
  {
   "cell_type": "markdown",
   "id": "766b1913-cc5c-4834-b954-021cd79f8568",
   "metadata": {},
   "source": [
    "# Shape and Reshape Arrays"
   ]
  },
  {
   "cell_type": "code",
   "execution_count": 22,
   "id": "fbfa3042-2452-47d4-a307-c6262ded8bf1",
   "metadata": {},
   "outputs": [
    {
     "name": "stdout",
     "output_type": "stream",
     "text": [
      "[ 0  1  2  3  4  5  6  7  8  9 10 11 12 13 14]\n",
      "Shape: (15,)\n"
     ]
    }
   ],
   "source": [
    "np1 = np.arange(15)\n",
    "print(np1)\n",
    "print(f\"Shape: {np1.shape}\")"
   ]
  },
  {
   "cell_type": "code",
   "execution_count": 38,
   "id": "1ebeb7c2-db34-41ac-b6fa-f6e8e96b4ebc",
   "metadata": {},
   "outputs": [
    {
     "name": "stdout",
     "output_type": "stream",
     "text": [
      "[[82 22 15 10]\n",
      " [38 37 81 85]\n",
      " [95 57 27 41]\n",
      " [33 42 72 20]]\n",
      "Shape: (4, 4)\n"
     ]
    }
   ],
   "source": [
    "np.random.seed(15)\n",
    "np2 = np.random.randint(10,99, (4, 4))\n",
    "print(np2)\n",
    "print(f\"Shape: {np2.shape}\")"
   ]
  },
  {
   "cell_type": "code",
   "execution_count": 43,
   "id": "cb023e3c-df09-483c-95ed-60b3ee566bcb",
   "metadata": {},
   "outputs": [
    {
     "name": "stdout",
     "output_type": "stream",
     "text": [
      "[[82 22 15 10 38 37 81 85]\n",
      " [95 57 27 41 33 42 72 20]]\n",
      "Shape: (2, 8)\n"
     ]
    }
   ],
   "source": [
    "np2 = np2.reshape(2,-1)\n",
    "print(np2)\n",
    "print(f\"Shape: {np2.shape}\")"
   ]
  },
  {
   "cell_type": "code",
   "execution_count": 44,
   "id": "686e2d0a-73b9-47f5-af00-eeed9b956d5e",
   "metadata": {},
   "outputs": [
    {
     "name": "stdout",
     "output_type": "stream",
     "text": [
      "[[[82 22 15 10]\n",
      "  [38 37 81 85]]\n",
      "\n",
      " [[95 57 27 41]\n",
      "  [33 42 72 20]]]\n",
      "Shape: (2, 2, 4)\n"
     ]
    }
   ],
   "source": [
    "np2 = np2.reshape(2, 2, 4)\n",
    "print(np2)\n",
    "print(f\"Shape: {np2.shape}\")"
   ]
  },
  {
   "cell_type": "code",
   "execution_count": 52,
   "id": "ab843a01-82e2-47ac-beb5-ace6ef7e6b90",
   "metadata": {},
   "outputs": [
    {
     "name": "stdout",
     "output_type": "stream",
     "text": [
      "[82 22 15 10 38 37 81 85 95 57 27 41 33 42 72 20]\n",
      "Shape: (16,)\n"
     ]
    }
   ],
   "source": [
    "# Flatten to 1-D\n",
    "np2 = np2.reshape(-1)\n",
    "print(np2)\n",
    "print(f\"Shape: {np2.shape}\")"
   ]
  },
  {
   "cell_type": "markdown",
   "id": "c97f00d6-2889-4540-9c2d-30f65247284d",
   "metadata": {},
   "source": [
    "# Iterating Arrays"
   ]
  },
  {
   "cell_type": "code",
   "execution_count": 56,
   "id": "85ca923b-3e08-4a96-aaa9-2339d262098f",
   "metadata": {},
   "outputs": [
    {
     "name": "stdout",
     "output_type": "stream",
     "text": [
      "0\n",
      "1\n",
      "2\n",
      "3\n",
      "4\n",
      "5\n",
      "6\n",
      "7\n",
      "8\n",
      "9\n"
     ]
    }
   ],
   "source": [
    "np1 = np.arange(10).reshape(2, 5)\n",
    "\"\"\"for row in np1:\n",
    "    for item in row:\n",
    "        print(item)\n",
    "\"\"\"\n",
    "for item in np.nditer(np1):\n",
    "    print(item)"
   ]
  },
  {
   "cell_type": "markdown",
   "id": "04c7938a-02ab-4c65-8595-ff660928dcee",
   "metadata": {},
   "source": [
    "# Sorting Arrays"
   ]
  },
  {
   "cell_type": "code",
   "execution_count": 60,
   "id": "08149c02-abfd-4570-8a43-cf9ae1bc7451",
   "metadata": {},
   "outputs": [
    {
     "name": "stdout",
     "output_type": "stream",
     "text": [
      "Np1:        [10  9  8  7  6  5  4  3  2  1]\n",
      "Sorted Np1: [ 1  2  3  4  5  6  7  8  9 10]\n"
     ]
    }
   ],
   "source": [
    "np1 = np.arange(10, 0, -1)\n",
    "sorted_np1 = np.sort(np1)\n",
    "print(f\"Np1:        {np1}\")\n",
    "print(f\"Sorted Np1: {sorted_np1}\")"
   ]
  },
  {
   "cell_type": "code",
   "execution_count": 61,
   "id": "ac70abad-3dcf-49d7-9e4b-e56b8b240ead",
   "metadata": {},
   "outputs": [
    {
     "name": "stdout",
     "output_type": "stream",
     "text": [
      "Np1:        [10  9  8  7  6  5  4  3  2  1]\n",
      "Sorted Np1: [ 1  2  3  4  5  6  7  8  9 10]\n",
      "Np1:        [10  9  8  7  6  5  4  3  2  1]\n"
     ]
    }
   ],
   "source": [
    "# Return a copy\n",
    "print(f\"Np1:        {np1}\")\n",
    "print(f\"Sorted Np1: {sorted_np1}\")\n",
    "print(f\"Np1:        {np1}\")"
   ]
  },
  {
   "cell_type": "code",
   "execution_count": 79,
   "id": "59dd779e-a579-4fa4-a68d-9ac1409826df",
   "metadata": {},
   "outputs": [
    {
     "name": "stdout",
     "output_type": "stream",
     "text": [
      "Original Np2\n",
      "\n",
      " [[[82 22 15]\n",
      "  [10 38 37]]\n",
      "\n",
      " [[81 85 95]\n",
      "  [57 27 41]]] \n",
      "\n",
      "Sorted Np2\n",
      "\n",
      "[[[15 22 82]\n",
      "  [10 37 38]]\n",
      "\n",
      " [[81 85 95]\n",
      "  [27 41 57]]]\n"
     ]
    }
   ],
   "source": [
    "np.random.seed(15)\n",
    "np2 = np.random.randint(10, 99, (2, 2, 3))\n",
    "sorted_np2 = np.sort(np2)\n",
    "print(f\"Original Np2\\n\\n {np2} \\n\")\n",
    "print(\"Sorted Np2\\n\")\n",
    "print(sorted_np2)"
   ]
  },
  {
   "cell_type": "code",
   "execution_count": null,
   "id": "ce3b115c-b58b-445e-a425-43708f892b9d",
   "metadata": {},
   "outputs": [],
   "source": []
  }
 ],
 "metadata": {
  "kernelspec": {
   "display_name": "Python 3 (ipykernel)",
   "language": "python",
   "name": "python3"
  },
  "language_info": {
   "codemirror_mode": {
    "name": "ipython",
    "version": 3
   },
   "file_extension": ".py",
   "mimetype": "text/x-python",
   "name": "python",
   "nbconvert_exporter": "python",
   "pygments_lexer": "ipython3",
   "version": "3.11.4"
  }
 },
 "nbformat": 4,
 "nbformat_minor": 5
}
