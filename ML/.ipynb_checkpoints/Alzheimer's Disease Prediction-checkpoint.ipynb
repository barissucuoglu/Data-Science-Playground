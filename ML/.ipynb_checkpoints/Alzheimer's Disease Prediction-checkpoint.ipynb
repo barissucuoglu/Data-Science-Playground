{
 "cells": [
  {
   "cell_type": "markdown",
   "id": "a7f9d1bb-6cc0-4a29-ac4f-4adcda5bbe1a",
   "metadata": {},
   "source": [
    "# Dataset Overview\n",
    "This dataset contains detailed health information for **2,149 patients**, each identified by a unique ID ranging from **4751 to 6900**. The data encompasses demographic details, lifestyle factors, medical history, clinical measurements, cognitive and functional assessments, symptoms, and an Alzheimer's Disease diagnosis. This dataset is valuable for researchers and data scientists interested in exploring Alzheimer's-related factors, developing predictive models, and conducting statistical analyses.\n",
    "\n",
    "## Table of Contents\n",
    "1. [Patient Information](#Patient-Information)\n",
    "2. [Lifestyle Factors](#Lifestyle-Factors)\n",
    "3. [Medical History](#Medical-History)\n",
    "4. [Clinical Measurements](#Clinical-Measurements)\n",
    "5. [Cognitive and Functional Assessments](#Cognitive-and-Functional-Assessments)\n",
    "6. [Symptoms](#Symptoms)\n",
    "7. [Diagnosis Information](#Diagnosis-Information)\n",
    "8. [Confidential Information](#Confidential-Information)\n",
    "9. [Citation](#Citation)\n",
    "\n",
    "---\n",
    "\n",
    "## 1. Patient Information <a id=\"Patient-Information\"></a>\n",
    "\n",
    "- **Patient ID**: A unique identifier assigned to each patient (from 4751 to 6900).\n",
    "\n",
    "### Demographic Details\n",
    "- **Age**: The age of patients, ranging from **60 to 90** years.\n",
    "- **Gender**: Gender of the patients, where **0 represents Male** and **1 represents Female**.\n",
    "- **Ethnicity**: Ethnicity of the patients, encoded as:\n",
    "  - 0: Caucasian\n",
    "  - 1: African American\n",
    "  - 2: Asian\n",
    "  - 3: Other\n",
    "- **Education Level**: Education level, encoded as:\n",
    "  - 0: None\n",
    "  - 1: High School\n",
    "  - 2: Bachelor's\n",
    "  - 3: Higher\n",
    "\n",
    "---\n",
    "\n",
    "## 2. Lifestyle Factors <a id=\"Lifestyle-Factors\"></a>\n",
    "\n",
    "- **BMI**: Body Mass Index, ranging from **15 to 40**.\n",
    "- **Smoking**: Smoking status, where **0 = No** and **1 = Yes**.\n",
    "- **Alcohol Consumption**: Weekly alcohol consumption in units, ranging from **0 to 20**.\n",
    "- **Physical Activity**: Weekly physical activity in hours, ranging from **0 to 10**.\n",
    "- **Diet Quality**: Diet quality score, ranging from **0 to 10**.\n",
    "- **Sleep Quality**: Sleep quality score, ranging from **4 to 10**.\n",
    "\n",
    "---\n",
    "\n",
    "## 3. Medical History <a id=\"Medical-History\"></a>\n",
    "\n",
    "- **Family History of Alzheimer’s**: Family history, where **0 = No** and **1 = Yes**.\n",
    "- **Cardiovascular Disease**: Presence of cardiovascular disease, where **0 = No** and **1 = Yes**.\n",
    "- **Diabetes**: Presence of diabetes, where **0 = No** and **1 = Yes**.\n",
    "- **Depression**: Presence of depression, where **0 = No** and **1 = Yes**.\n",
    "- **Head Injury**: History of head injury, where **0 = No** and **1 = Yes**.\n",
    "- **Hypertension**: Presence of hypertension, where **0 = No** and **1 = Yes**.\n",
    "\n",
    "---\n",
    "\n",
    "## 4. Clinical Measurements <a id=\"Clinical-Measurements\"></a>\n",
    "\n",
    "- **Systolic BP**: Systolic blood pressure, ranging from **90 to 180 mmHg**.\n",
    "- **Diastolic BP**: Diastolic blood pressure, ranging from **60 to 120 mmHg**.\n",
    "- **Cholesterol Total**: Total cholesterol levels, ranging from **150 to 300 mg/dL**.\n",
    "- **Cholesterol LDL**: Low-density lipoprotein levels, ranging from **50 to 200 mg/dL**.\n",
    "- **Cholesterol HDL**: High-density lipoprotein levels, ranging from **20 to 100 mg/dL**.\n",
    "- **Cholesterol Triglycerides**: Triglycerides levels, ranging from **50 to 400 mg/dL**.\n",
    "\n",
    "---\n",
    "\n",
    "## 5. Cognitive and Functional Assessments <a id=\"Cognitive-and-Functional-Assessments\"></a>\n",
    "\n",
    "- **MMSE**: Mini-Mental State Examination score, ranging from **0 to 30** (Lower scores indicate cognitive impairment).\n",
    "- **Functional Assessment**: Functional assessment score, ranging from **0 to 10** (Lower scores indicate greater impairment).\n",
    "- **Memory Complaints**: Memory complaints, where **0 = No** and **1 = Yes**.\n",
    "- **Behavioral Problems**: Behavioral problems, where **0 = No** and **1 = Yes**.\n",
    "- **ADL (Activities of Daily Living)**: Score ranging from **0 to 10** (Lower scores indicate greater impairment).\n",
    "\n",
    "---\n",
    "\n",
    "## 6. Symptoms <a id=\"Symptoms\"></a>\n",
    "\n",
    "- **Confusion**: Presence of confusion, where **0 = No** and **1 = Yes**.\n",
    "- **Disorientation**: Presence of disorientation, where **0 = No** and **1 = Yes**.\n",
    "- **Personality Changes**: Presence of personality changes, where **0 = No** and **1 = Yes**.\n",
    "- **Difficulty Completing Tasks**: Difficulty in task completion, where **0 = No** and **1 = Yes**.\n",
    "- **Forgetfulness**: Forgetfulness, where **0 = No** and **1 = Yes**.\n",
    "\n",
    "---\n",
    "\n",
    "## 7. Diagnosis Information <a id=\"Diagnosis-Information\"></a>\n",
    "\n",
    "- **Diagnosis**: Diagnosis status for Alzheimer's Disease, where **0 = No** and **1 = Yes**.\n",
    "\n",
    "---\n",
    "\n",
    "## 8. Confidential Information <a id=\"Confidential-Information\"></a>\n",
    "\n",
    "- **Doctor in Charge**: Confidential information about the doctor in charge, with \"XXXConfid\" as the value for all patients.\n",
    "\n",
    "---\n",
    "\n",
    "## 9. Citation <a id=\"Citation\"></a>\n",
    "\n",
    "```plaintext\n",
    "@misc{rabie_el_kharoua_2024,\n",
    "  title={Alzheimer's Disease Dataset},\n",
    "  url={https://www.kaggle.com/dsv/8668279},\n",
    "  DOI={10.34740/KAGGLE/DSV/8668279},\n",
    "  publisher={Kaggle},\n",
    "  author={Rabie El Kharoua},\n",
    "  year={2024}\n",
    "}\n"
   ]
  },
  {
   "cell_type": "markdown",
   "id": "f77ecd08-db87-494d-a6f5-dec53f8b7b22",
   "metadata": {},
   "source": [
    "# Imports"
   ]
  },
  {
   "cell_type": "code",
   "execution_count": 1,
   "id": "2dd307d6-a927-4297-8625-3ba56fc2088d",
   "metadata": {},
   "outputs": [],
   "source": [
    "import pandas as pd\n",
    "import numpy as np\n",
    "import matplotlib.pyplot as plt\n",
    "import seaborn as sns\n",
    "import plotly.express as px\n",
    "\n",
    "from imblearn.over_sampling import SMOTE\n",
    "from sklearn.feature_selection import VarianceThreshold, SelectKBest, f_classif, RFE\n",
    "from sklearn.decomposition import PCA\n",
    "\n",
    "from sklearn.model_selection import train_test_split, cross_val_score\n",
    "from sklearn.tree import DecisionTreeClassifier\n",
    "from sklearn.ensemble import RandomForestClassifier\n",
    "from sklearn.linear_model import LogisticRegression\n",
    "from sklearn.metrics import accuracy_score"
   ]
  },
  {
   "cell_type": "markdown",
   "id": "8af5594c-daf8-4ad9-824c-de99ba65533b",
   "metadata": {},
   "source": [
    "# Gathering Data\n",
    "### Initial Overview of the Data\n",
    "\n",
    "Upon the initial examination of the dataset, we observe a total of **2149 unique patients** and **35 different features**, which are categorized under the following headings:\n",
    "\n",
    "- **Patient Information**\n",
    "- **Medical History**\n",
    "- **Demographic Details**\n",
    "- **Lifestyle Factors**\n",
    "- **Clinical Measurements**\n",
    "- **Cognitive and Functional Assessments**\n",
    "- **Symptoms**\n",
    "- **Diagnosis Information**\n",
    "- **Confidential Information**\n",
    "\n",
    "While most of these features provide valuable information for the analysis and model building process, the **PatientID** and **DoctorInCharge** columns will be removed during the Data Cleaning phase, as they do not contribute meaningful information to the models. **PatientID** serves only as a unique identifier for patients, and **DoctorInCharge** contains confidential information, with all values being \"XXXConfid\". Removing these columns ensures that the model focuses on relevant features."
   ]
  },
  {
   "cell_type": "code",
   "execution_count": 2,
   "id": "a7238fac-909b-4596-b6a5-cb05a78f0991",
   "metadata": {},
   "outputs": [
    {
     "data": {
      "text/html": [
       "<div>\n",
       "<style scoped>\n",
       "    .dataframe tbody tr th:only-of-type {\n",
       "        vertical-align: middle;\n",
       "    }\n",
       "\n",
       "    .dataframe tbody tr th {\n",
       "        vertical-align: top;\n",
       "    }\n",
       "\n",
       "    .dataframe thead th {\n",
       "        text-align: right;\n",
       "    }\n",
       "</style>\n",
       "<table border=\"1\" class=\"dataframe\">\n",
       "  <thead>\n",
       "    <tr style=\"text-align: right;\">\n",
       "      <th></th>\n",
       "      <th>PatientID</th>\n",
       "      <th>Age</th>\n",
       "      <th>Gender</th>\n",
       "      <th>Ethnicity</th>\n",
       "      <th>EducationLevel</th>\n",
       "      <th>BMI</th>\n",
       "      <th>Smoking</th>\n",
       "      <th>AlcoholConsumption</th>\n",
       "      <th>PhysicalActivity</th>\n",
       "      <th>DietQuality</th>\n",
       "      <th>...</th>\n",
       "      <th>MemoryComplaints</th>\n",
       "      <th>BehavioralProblems</th>\n",
       "      <th>ADL</th>\n",
       "      <th>Confusion</th>\n",
       "      <th>Disorientation</th>\n",
       "      <th>PersonalityChanges</th>\n",
       "      <th>DifficultyCompletingTasks</th>\n",
       "      <th>Forgetfulness</th>\n",
       "      <th>Diagnosis</th>\n",
       "      <th>DoctorInCharge</th>\n",
       "    </tr>\n",
       "  </thead>\n",
       "  <tbody>\n",
       "    <tr>\n",
       "      <th>0</th>\n",
       "      <td>4751</td>\n",
       "      <td>73</td>\n",
       "      <td>0</td>\n",
       "      <td>0</td>\n",
       "      <td>2</td>\n",
       "      <td>22.927749</td>\n",
       "      <td>0</td>\n",
       "      <td>13.297218</td>\n",
       "      <td>6.327112</td>\n",
       "      <td>1.347214</td>\n",
       "      <td>...</td>\n",
       "      <td>0</td>\n",
       "      <td>0</td>\n",
       "      <td>1.725883</td>\n",
       "      <td>0</td>\n",
       "      <td>0</td>\n",
       "      <td>0</td>\n",
       "      <td>1</td>\n",
       "      <td>0</td>\n",
       "      <td>0</td>\n",
       "      <td>XXXConfid</td>\n",
       "    </tr>\n",
       "    <tr>\n",
       "      <th>1</th>\n",
       "      <td>4752</td>\n",
       "      <td>89</td>\n",
       "      <td>0</td>\n",
       "      <td>0</td>\n",
       "      <td>0</td>\n",
       "      <td>26.827681</td>\n",
       "      <td>0</td>\n",
       "      <td>4.542524</td>\n",
       "      <td>7.619885</td>\n",
       "      <td>0.518767</td>\n",
       "      <td>...</td>\n",
       "      <td>0</td>\n",
       "      <td>0</td>\n",
       "      <td>2.592424</td>\n",
       "      <td>0</td>\n",
       "      <td>0</td>\n",
       "      <td>0</td>\n",
       "      <td>0</td>\n",
       "      <td>1</td>\n",
       "      <td>0</td>\n",
       "      <td>XXXConfid</td>\n",
       "    </tr>\n",
       "    <tr>\n",
       "      <th>2</th>\n",
       "      <td>4753</td>\n",
       "      <td>73</td>\n",
       "      <td>0</td>\n",
       "      <td>3</td>\n",
       "      <td>1</td>\n",
       "      <td>17.795882</td>\n",
       "      <td>0</td>\n",
       "      <td>19.555085</td>\n",
       "      <td>7.844988</td>\n",
       "      <td>1.826335</td>\n",
       "      <td>...</td>\n",
       "      <td>0</td>\n",
       "      <td>0</td>\n",
       "      <td>7.119548</td>\n",
       "      <td>0</td>\n",
       "      <td>1</td>\n",
       "      <td>0</td>\n",
       "      <td>1</td>\n",
       "      <td>0</td>\n",
       "      <td>0</td>\n",
       "      <td>XXXConfid</td>\n",
       "    </tr>\n",
       "    <tr>\n",
       "      <th>3</th>\n",
       "      <td>4754</td>\n",
       "      <td>74</td>\n",
       "      <td>1</td>\n",
       "      <td>0</td>\n",
       "      <td>1</td>\n",
       "      <td>33.800817</td>\n",
       "      <td>1</td>\n",
       "      <td>12.209266</td>\n",
       "      <td>8.428001</td>\n",
       "      <td>7.435604</td>\n",
       "      <td>...</td>\n",
       "      <td>0</td>\n",
       "      <td>1</td>\n",
       "      <td>6.481226</td>\n",
       "      <td>0</td>\n",
       "      <td>0</td>\n",
       "      <td>0</td>\n",
       "      <td>0</td>\n",
       "      <td>0</td>\n",
       "      <td>0</td>\n",
       "      <td>XXXConfid</td>\n",
       "    </tr>\n",
       "    <tr>\n",
       "      <th>4</th>\n",
       "      <td>4755</td>\n",
       "      <td>89</td>\n",
       "      <td>0</td>\n",
       "      <td>0</td>\n",
       "      <td>0</td>\n",
       "      <td>20.716974</td>\n",
       "      <td>0</td>\n",
       "      <td>18.454356</td>\n",
       "      <td>6.310461</td>\n",
       "      <td>0.795498</td>\n",
       "      <td>...</td>\n",
       "      <td>0</td>\n",
       "      <td>0</td>\n",
       "      <td>0.014691</td>\n",
       "      <td>0</td>\n",
       "      <td>0</td>\n",
       "      <td>1</td>\n",
       "      <td>1</td>\n",
       "      <td>0</td>\n",
       "      <td>0</td>\n",
       "      <td>XXXConfid</td>\n",
       "    </tr>\n",
       "  </tbody>\n",
       "</table>\n",
       "<p>5 rows × 35 columns</p>\n",
       "</div>"
      ],
      "text/plain": [
       "   PatientID  Age  Gender  Ethnicity  EducationLevel        BMI  Smoking  \\\n",
       "0       4751   73       0          0               2  22.927749        0   \n",
       "1       4752   89       0          0               0  26.827681        0   \n",
       "2       4753   73       0          3               1  17.795882        0   \n",
       "3       4754   74       1          0               1  33.800817        1   \n",
       "4       4755   89       0          0               0  20.716974        0   \n",
       "\n",
       "   AlcoholConsumption  PhysicalActivity  DietQuality  ...  MemoryComplaints  \\\n",
       "0           13.297218          6.327112     1.347214  ...                 0   \n",
       "1            4.542524          7.619885     0.518767  ...                 0   \n",
       "2           19.555085          7.844988     1.826335  ...                 0   \n",
       "3           12.209266          8.428001     7.435604  ...                 0   \n",
       "4           18.454356          6.310461     0.795498  ...                 0   \n",
       "\n",
       "   BehavioralProblems       ADL  Confusion  Disorientation  \\\n",
       "0                   0  1.725883          0               0   \n",
       "1                   0  2.592424          0               0   \n",
       "2                   0  7.119548          0               1   \n",
       "3                   1  6.481226          0               0   \n",
       "4                   0  0.014691          0               0   \n",
       "\n",
       "   PersonalityChanges  DifficultyCompletingTasks  Forgetfulness  Diagnosis  \\\n",
       "0                   0                          1              0          0   \n",
       "1                   0                          0              1          0   \n",
       "2                   0                          1              0          0   \n",
       "3                   0                          0              0          0   \n",
       "4                   1                          1              0          0   \n",
       "\n",
       "   DoctorInCharge  \n",
       "0       XXXConfid  \n",
       "1       XXXConfid  \n",
       "2       XXXConfid  \n",
       "3       XXXConfid  \n",
       "4       XXXConfid  \n",
       "\n",
       "[5 rows x 35 columns]"
      ]
     },
     "execution_count": 2,
     "metadata": {},
     "output_type": "execute_result"
    }
   ],
   "source": [
    "df = pd.read_csv(\"data/alzheimers_disease_data.csv\")\n",
    "df.head()"
   ]
  },
  {
   "cell_type": "code",
   "execution_count": 3,
   "id": "45e62941-c489-408b-8681-ad09938051cd",
   "metadata": {},
   "outputs": [
    {
     "data": {
      "text/plain": [
       "(2149, 35)"
      ]
     },
     "execution_count": 3,
     "metadata": {},
     "output_type": "execute_result"
    }
   ],
   "source": [
    "df.shape"
   ]
  },
  {
   "cell_type": "code",
   "execution_count": 4,
   "id": "09c7a6d1-dc84-4a0d-a7e5-82a324a980a2",
   "metadata": {},
   "outputs": [
    {
     "name": "stdout",
     "output_type": "stream",
     "text": [
      "<class 'pandas.core.frame.DataFrame'>\n",
      "RangeIndex: 2149 entries, 0 to 2148\n",
      "Data columns (total 35 columns):\n",
      " #   Column                     Non-Null Count  Dtype  \n",
      "---  ------                     --------------  -----  \n",
      " 0   PatientID                  2149 non-null   int64  \n",
      " 1   Age                        2149 non-null   int64  \n",
      " 2   Gender                     2149 non-null   int64  \n",
      " 3   Ethnicity                  2149 non-null   int64  \n",
      " 4   EducationLevel             2149 non-null   int64  \n",
      " 5   BMI                        2149 non-null   float64\n",
      " 6   Smoking                    2149 non-null   int64  \n",
      " 7   AlcoholConsumption         2149 non-null   float64\n",
      " 8   PhysicalActivity           2149 non-null   float64\n",
      " 9   DietQuality                2149 non-null   float64\n",
      " 10  SleepQuality               2149 non-null   float64\n",
      " 11  FamilyHistoryAlzheimers    2149 non-null   int64  \n",
      " 12  CardiovascularDisease      2149 non-null   int64  \n",
      " 13  Diabetes                   2149 non-null   int64  \n",
      " 14  Depression                 2149 non-null   int64  \n",
      " 15  HeadInjury                 2149 non-null   int64  \n",
      " 16  Hypertension               2149 non-null   int64  \n",
      " 17  SystolicBP                 2149 non-null   int64  \n",
      " 18  DiastolicBP                2149 non-null   int64  \n",
      " 19  CholesterolTotal           2149 non-null   float64\n",
      " 20  CholesterolLDL             2149 non-null   float64\n",
      " 21  CholesterolHDL             2149 non-null   float64\n",
      " 22  CholesterolTriglycerides   2149 non-null   float64\n",
      " 23  MMSE                       2149 non-null   float64\n",
      " 24  FunctionalAssessment       2149 non-null   float64\n",
      " 25  MemoryComplaints           2149 non-null   int64  \n",
      " 26  BehavioralProblems         2149 non-null   int64  \n",
      " 27  ADL                        2149 non-null   float64\n",
      " 28  Confusion                  2149 non-null   int64  \n",
      " 29  Disorientation             2149 non-null   int64  \n",
      " 30  PersonalityChanges         2149 non-null   int64  \n",
      " 31  DifficultyCompletingTasks  2149 non-null   int64  \n",
      " 32  Forgetfulness              2149 non-null   int64  \n",
      " 33  Diagnosis                  2149 non-null   int64  \n",
      " 34  DoctorInCharge             2149 non-null   object \n",
      "dtypes: float64(12), int64(22), object(1)\n",
      "memory usage: 587.7+ KB\n"
     ]
    }
   ],
   "source": [
    "df.info()"
   ]
  },
  {
   "cell_type": "code",
   "execution_count": 5,
   "id": "76946bbe-7365-4c1b-b8c1-e41bdfb1a5dc",
   "metadata": {},
   "outputs": [
    {
     "data": {
      "text/html": [
       "<div>\n",
       "<style scoped>\n",
       "    .dataframe tbody tr th:only-of-type {\n",
       "        vertical-align: middle;\n",
       "    }\n",
       "\n",
       "    .dataframe tbody tr th {\n",
       "        vertical-align: top;\n",
       "    }\n",
       "\n",
       "    .dataframe thead th {\n",
       "        text-align: right;\n",
       "    }\n",
       "</style>\n",
       "<table border=\"1\" class=\"dataframe\">\n",
       "  <thead>\n",
       "    <tr style=\"text-align: right;\">\n",
       "      <th></th>\n",
       "      <th>count</th>\n",
       "      <th>mean</th>\n",
       "      <th>std</th>\n",
       "      <th>min</th>\n",
       "      <th>25%</th>\n",
       "      <th>50%</th>\n",
       "      <th>75%</th>\n",
       "      <th>max</th>\n",
       "    </tr>\n",
       "  </thead>\n",
       "  <tbody>\n",
       "    <tr>\n",
       "      <th>PatientID</th>\n",
       "      <td>2149.0</td>\n",
       "      <td>5825.000000</td>\n",
       "      <td>620.507185</td>\n",
       "      <td>4751.000000</td>\n",
       "      <td>5288.000000</td>\n",
       "      <td>5825.000000</td>\n",
       "      <td>6362.000000</td>\n",
       "      <td>6899.000000</td>\n",
       "    </tr>\n",
       "    <tr>\n",
       "      <th>Age</th>\n",
       "      <td>2149.0</td>\n",
       "      <td>74.908795</td>\n",
       "      <td>8.990221</td>\n",
       "      <td>60.000000</td>\n",
       "      <td>67.000000</td>\n",
       "      <td>75.000000</td>\n",
       "      <td>83.000000</td>\n",
       "      <td>90.000000</td>\n",
       "    </tr>\n",
       "    <tr>\n",
       "      <th>Gender</th>\n",
       "      <td>2149.0</td>\n",
       "      <td>0.506282</td>\n",
       "      <td>0.500077</td>\n",
       "      <td>0.000000</td>\n",
       "      <td>0.000000</td>\n",
       "      <td>1.000000</td>\n",
       "      <td>1.000000</td>\n",
       "      <td>1.000000</td>\n",
       "    </tr>\n",
       "    <tr>\n",
       "      <th>Ethnicity</th>\n",
       "      <td>2149.0</td>\n",
       "      <td>0.697534</td>\n",
       "      <td>0.996128</td>\n",
       "      <td>0.000000</td>\n",
       "      <td>0.000000</td>\n",
       "      <td>0.000000</td>\n",
       "      <td>1.000000</td>\n",
       "      <td>3.000000</td>\n",
       "    </tr>\n",
       "    <tr>\n",
       "      <th>EducationLevel</th>\n",
       "      <td>2149.0</td>\n",
       "      <td>1.286645</td>\n",
       "      <td>0.904527</td>\n",
       "      <td>0.000000</td>\n",
       "      <td>1.000000</td>\n",
       "      <td>1.000000</td>\n",
       "      <td>2.000000</td>\n",
       "      <td>3.000000</td>\n",
       "    </tr>\n",
       "    <tr>\n",
       "      <th>BMI</th>\n",
       "      <td>2149.0</td>\n",
       "      <td>27.655697</td>\n",
       "      <td>7.217438</td>\n",
       "      <td>15.008851</td>\n",
       "      <td>21.611408</td>\n",
       "      <td>27.823924</td>\n",
       "      <td>33.869778</td>\n",
       "      <td>39.992767</td>\n",
       "    </tr>\n",
       "    <tr>\n",
       "      <th>Smoking</th>\n",
       "      <td>2149.0</td>\n",
       "      <td>0.288506</td>\n",
       "      <td>0.453173</td>\n",
       "      <td>0.000000</td>\n",
       "      <td>0.000000</td>\n",
       "      <td>0.000000</td>\n",
       "      <td>1.000000</td>\n",
       "      <td>1.000000</td>\n",
       "    </tr>\n",
       "    <tr>\n",
       "      <th>AlcoholConsumption</th>\n",
       "      <td>2149.0</td>\n",
       "      <td>10.039442</td>\n",
       "      <td>5.757910</td>\n",
       "      <td>0.002003</td>\n",
       "      <td>5.139810</td>\n",
       "      <td>9.934412</td>\n",
       "      <td>15.157931</td>\n",
       "      <td>19.989293</td>\n",
       "    </tr>\n",
       "    <tr>\n",
       "      <th>PhysicalActivity</th>\n",
       "      <td>2149.0</td>\n",
       "      <td>4.920202</td>\n",
       "      <td>2.857191</td>\n",
       "      <td>0.003616</td>\n",
       "      <td>2.570626</td>\n",
       "      <td>4.766424</td>\n",
       "      <td>7.427899</td>\n",
       "      <td>9.987429</td>\n",
       "    </tr>\n",
       "    <tr>\n",
       "      <th>DietQuality</th>\n",
       "      <td>2149.0</td>\n",
       "      <td>4.993138</td>\n",
       "      <td>2.909055</td>\n",
       "      <td>0.009385</td>\n",
       "      <td>2.458455</td>\n",
       "      <td>5.076087</td>\n",
       "      <td>7.558625</td>\n",
       "      <td>9.998346</td>\n",
       "    </tr>\n",
       "    <tr>\n",
       "      <th>SleepQuality</th>\n",
       "      <td>2149.0</td>\n",
       "      <td>7.051081</td>\n",
       "      <td>1.763573</td>\n",
       "      <td>4.002629</td>\n",
       "      <td>5.482997</td>\n",
       "      <td>7.115646</td>\n",
       "      <td>8.562521</td>\n",
       "      <td>9.999840</td>\n",
       "    </tr>\n",
       "    <tr>\n",
       "      <th>FamilyHistoryAlzheimers</th>\n",
       "      <td>2149.0</td>\n",
       "      <td>0.252210</td>\n",
       "      <td>0.434382</td>\n",
       "      <td>0.000000</td>\n",
       "      <td>0.000000</td>\n",
       "      <td>0.000000</td>\n",
       "      <td>1.000000</td>\n",
       "      <td>1.000000</td>\n",
       "    </tr>\n",
       "    <tr>\n",
       "      <th>CardiovascularDisease</th>\n",
       "      <td>2149.0</td>\n",
       "      <td>0.144253</td>\n",
       "      <td>0.351428</td>\n",
       "      <td>0.000000</td>\n",
       "      <td>0.000000</td>\n",
       "      <td>0.000000</td>\n",
       "      <td>0.000000</td>\n",
       "      <td>1.000000</td>\n",
       "    </tr>\n",
       "    <tr>\n",
       "      <th>Diabetes</th>\n",
       "      <td>2149.0</td>\n",
       "      <td>0.150768</td>\n",
       "      <td>0.357906</td>\n",
       "      <td>0.000000</td>\n",
       "      <td>0.000000</td>\n",
       "      <td>0.000000</td>\n",
       "      <td>0.000000</td>\n",
       "      <td>1.000000</td>\n",
       "    </tr>\n",
       "    <tr>\n",
       "      <th>Depression</th>\n",
       "      <td>2149.0</td>\n",
       "      <td>0.200558</td>\n",
       "      <td>0.400511</td>\n",
       "      <td>0.000000</td>\n",
       "      <td>0.000000</td>\n",
       "      <td>0.000000</td>\n",
       "      <td>0.000000</td>\n",
       "      <td>1.000000</td>\n",
       "    </tr>\n",
       "    <tr>\n",
       "      <th>HeadInjury</th>\n",
       "      <td>2149.0</td>\n",
       "      <td>0.092601</td>\n",
       "      <td>0.289940</td>\n",
       "      <td>0.000000</td>\n",
       "      <td>0.000000</td>\n",
       "      <td>0.000000</td>\n",
       "      <td>0.000000</td>\n",
       "      <td>1.000000</td>\n",
       "    </tr>\n",
       "    <tr>\n",
       "      <th>Hypertension</th>\n",
       "      <td>2149.0</td>\n",
       "      <td>0.148906</td>\n",
       "      <td>0.356079</td>\n",
       "      <td>0.000000</td>\n",
       "      <td>0.000000</td>\n",
       "      <td>0.000000</td>\n",
       "      <td>0.000000</td>\n",
       "      <td>1.000000</td>\n",
       "    </tr>\n",
       "    <tr>\n",
       "      <th>SystolicBP</th>\n",
       "      <td>2149.0</td>\n",
       "      <td>134.264774</td>\n",
       "      <td>25.949352</td>\n",
       "      <td>90.000000</td>\n",
       "      <td>112.000000</td>\n",
       "      <td>134.000000</td>\n",
       "      <td>157.000000</td>\n",
       "      <td>179.000000</td>\n",
       "    </tr>\n",
       "    <tr>\n",
       "      <th>DiastolicBP</th>\n",
       "      <td>2149.0</td>\n",
       "      <td>89.847836</td>\n",
       "      <td>17.592496</td>\n",
       "      <td>60.000000</td>\n",
       "      <td>74.000000</td>\n",
       "      <td>91.000000</td>\n",
       "      <td>105.000000</td>\n",
       "      <td>119.000000</td>\n",
       "    </tr>\n",
       "    <tr>\n",
       "      <th>CholesterolTotal</th>\n",
       "      <td>2149.0</td>\n",
       "      <td>225.197519</td>\n",
       "      <td>42.542233</td>\n",
       "      <td>150.093316</td>\n",
       "      <td>190.252963</td>\n",
       "      <td>225.086430</td>\n",
       "      <td>262.031657</td>\n",
       "      <td>299.993352</td>\n",
       "    </tr>\n",
       "    <tr>\n",
       "      <th>CholesterolLDL</th>\n",
       "      <td>2149.0</td>\n",
       "      <td>124.335944</td>\n",
       "      <td>43.366584</td>\n",
       "      <td>50.230707</td>\n",
       "      <td>87.195798</td>\n",
       "      <td>123.342593</td>\n",
       "      <td>161.733733</td>\n",
       "      <td>199.965665</td>\n",
       "    </tr>\n",
       "    <tr>\n",
       "      <th>CholesterolHDL</th>\n",
       "      <td>2149.0</td>\n",
       "      <td>59.463533</td>\n",
       "      <td>23.139174</td>\n",
       "      <td>20.003434</td>\n",
       "      <td>39.095698</td>\n",
       "      <td>59.768237</td>\n",
       "      <td>78.939050</td>\n",
       "      <td>99.980324</td>\n",
       "    </tr>\n",
       "    <tr>\n",
       "      <th>CholesterolTriglycerides</th>\n",
       "      <td>2149.0</td>\n",
       "      <td>228.281496</td>\n",
       "      <td>101.986721</td>\n",
       "      <td>50.407194</td>\n",
       "      <td>137.583222</td>\n",
       "      <td>230.301983</td>\n",
       "      <td>314.839046</td>\n",
       "      <td>399.941862</td>\n",
       "    </tr>\n",
       "    <tr>\n",
       "      <th>MMSE</th>\n",
       "      <td>2149.0</td>\n",
       "      <td>14.755132</td>\n",
       "      <td>8.613151</td>\n",
       "      <td>0.005312</td>\n",
       "      <td>7.167602</td>\n",
       "      <td>14.441660</td>\n",
       "      <td>22.161028</td>\n",
       "      <td>29.991381</td>\n",
       "    </tr>\n",
       "    <tr>\n",
       "      <th>FunctionalAssessment</th>\n",
       "      <td>2149.0</td>\n",
       "      <td>5.080055</td>\n",
       "      <td>2.892743</td>\n",
       "      <td>0.000460</td>\n",
       "      <td>2.566281</td>\n",
       "      <td>5.094439</td>\n",
       "      <td>7.546981</td>\n",
       "      <td>9.996467</td>\n",
       "    </tr>\n",
       "    <tr>\n",
       "      <th>MemoryComplaints</th>\n",
       "      <td>2149.0</td>\n",
       "      <td>0.208004</td>\n",
       "      <td>0.405974</td>\n",
       "      <td>0.000000</td>\n",
       "      <td>0.000000</td>\n",
       "      <td>0.000000</td>\n",
       "      <td>0.000000</td>\n",
       "      <td>1.000000</td>\n",
       "    </tr>\n",
       "    <tr>\n",
       "      <th>BehavioralProblems</th>\n",
       "      <td>2149.0</td>\n",
       "      <td>0.156817</td>\n",
       "      <td>0.363713</td>\n",
       "      <td>0.000000</td>\n",
       "      <td>0.000000</td>\n",
       "      <td>0.000000</td>\n",
       "      <td>0.000000</td>\n",
       "      <td>1.000000</td>\n",
       "    </tr>\n",
       "    <tr>\n",
       "      <th>ADL</th>\n",
       "      <td>2149.0</td>\n",
       "      <td>4.982958</td>\n",
       "      <td>2.949775</td>\n",
       "      <td>0.001288</td>\n",
       "      <td>2.342836</td>\n",
       "      <td>5.038973</td>\n",
       "      <td>7.581490</td>\n",
       "      <td>9.999747</td>\n",
       "    </tr>\n",
       "    <tr>\n",
       "      <th>Confusion</th>\n",
       "      <td>2149.0</td>\n",
       "      <td>0.205212</td>\n",
       "      <td>0.403950</td>\n",
       "      <td>0.000000</td>\n",
       "      <td>0.000000</td>\n",
       "      <td>0.000000</td>\n",
       "      <td>0.000000</td>\n",
       "      <td>1.000000</td>\n",
       "    </tr>\n",
       "    <tr>\n",
       "      <th>Disorientation</th>\n",
       "      <td>2149.0</td>\n",
       "      <td>0.158213</td>\n",
       "      <td>0.365026</td>\n",
       "      <td>0.000000</td>\n",
       "      <td>0.000000</td>\n",
       "      <td>0.000000</td>\n",
       "      <td>0.000000</td>\n",
       "      <td>1.000000</td>\n",
       "    </tr>\n",
       "    <tr>\n",
       "      <th>PersonalityChanges</th>\n",
       "      <td>2149.0</td>\n",
       "      <td>0.150768</td>\n",
       "      <td>0.357906</td>\n",
       "      <td>0.000000</td>\n",
       "      <td>0.000000</td>\n",
       "      <td>0.000000</td>\n",
       "      <td>0.000000</td>\n",
       "      <td>1.000000</td>\n",
       "    </tr>\n",
       "    <tr>\n",
       "      <th>DifficultyCompletingTasks</th>\n",
       "      <td>2149.0</td>\n",
       "      <td>0.158678</td>\n",
       "      <td>0.365461</td>\n",
       "      <td>0.000000</td>\n",
       "      <td>0.000000</td>\n",
       "      <td>0.000000</td>\n",
       "      <td>0.000000</td>\n",
       "      <td>1.000000</td>\n",
       "    </tr>\n",
       "    <tr>\n",
       "      <th>Forgetfulness</th>\n",
       "      <td>2149.0</td>\n",
       "      <td>0.301536</td>\n",
       "      <td>0.459032</td>\n",
       "      <td>0.000000</td>\n",
       "      <td>0.000000</td>\n",
       "      <td>0.000000</td>\n",
       "      <td>1.000000</td>\n",
       "      <td>1.000000</td>\n",
       "    </tr>\n",
       "    <tr>\n",
       "      <th>Diagnosis</th>\n",
       "      <td>2149.0</td>\n",
       "      <td>0.353653</td>\n",
       "      <td>0.478214</td>\n",
       "      <td>0.000000</td>\n",
       "      <td>0.000000</td>\n",
       "      <td>0.000000</td>\n",
       "      <td>1.000000</td>\n",
       "      <td>1.000000</td>\n",
       "    </tr>\n",
       "  </tbody>\n",
       "</table>\n",
       "</div>"
      ],
      "text/plain": [
       "                            count         mean         std          min  \\\n",
       "PatientID                  2149.0  5825.000000  620.507185  4751.000000   \n",
       "Age                        2149.0    74.908795    8.990221    60.000000   \n",
       "Gender                     2149.0     0.506282    0.500077     0.000000   \n",
       "Ethnicity                  2149.0     0.697534    0.996128     0.000000   \n",
       "EducationLevel             2149.0     1.286645    0.904527     0.000000   \n",
       "BMI                        2149.0    27.655697    7.217438    15.008851   \n",
       "Smoking                    2149.0     0.288506    0.453173     0.000000   \n",
       "AlcoholConsumption         2149.0    10.039442    5.757910     0.002003   \n",
       "PhysicalActivity           2149.0     4.920202    2.857191     0.003616   \n",
       "DietQuality                2149.0     4.993138    2.909055     0.009385   \n",
       "SleepQuality               2149.0     7.051081    1.763573     4.002629   \n",
       "FamilyHistoryAlzheimers    2149.0     0.252210    0.434382     0.000000   \n",
       "CardiovascularDisease      2149.0     0.144253    0.351428     0.000000   \n",
       "Diabetes                   2149.0     0.150768    0.357906     0.000000   \n",
       "Depression                 2149.0     0.200558    0.400511     0.000000   \n",
       "HeadInjury                 2149.0     0.092601    0.289940     0.000000   \n",
       "Hypertension               2149.0     0.148906    0.356079     0.000000   \n",
       "SystolicBP                 2149.0   134.264774   25.949352    90.000000   \n",
       "DiastolicBP                2149.0    89.847836   17.592496    60.000000   \n",
       "CholesterolTotal           2149.0   225.197519   42.542233   150.093316   \n",
       "CholesterolLDL             2149.0   124.335944   43.366584    50.230707   \n",
       "CholesterolHDL             2149.0    59.463533   23.139174    20.003434   \n",
       "CholesterolTriglycerides   2149.0   228.281496  101.986721    50.407194   \n",
       "MMSE                       2149.0    14.755132    8.613151     0.005312   \n",
       "FunctionalAssessment       2149.0     5.080055    2.892743     0.000460   \n",
       "MemoryComplaints           2149.0     0.208004    0.405974     0.000000   \n",
       "BehavioralProblems         2149.0     0.156817    0.363713     0.000000   \n",
       "ADL                        2149.0     4.982958    2.949775     0.001288   \n",
       "Confusion                  2149.0     0.205212    0.403950     0.000000   \n",
       "Disorientation             2149.0     0.158213    0.365026     0.000000   \n",
       "PersonalityChanges         2149.0     0.150768    0.357906     0.000000   \n",
       "DifficultyCompletingTasks  2149.0     0.158678    0.365461     0.000000   \n",
       "Forgetfulness              2149.0     0.301536    0.459032     0.000000   \n",
       "Diagnosis                  2149.0     0.353653    0.478214     0.000000   \n",
       "\n",
       "                                   25%          50%          75%          max  \n",
       "PatientID                  5288.000000  5825.000000  6362.000000  6899.000000  \n",
       "Age                          67.000000    75.000000    83.000000    90.000000  \n",
       "Gender                        0.000000     1.000000     1.000000     1.000000  \n",
       "Ethnicity                     0.000000     0.000000     1.000000     3.000000  \n",
       "EducationLevel                1.000000     1.000000     2.000000     3.000000  \n",
       "BMI                          21.611408    27.823924    33.869778    39.992767  \n",
       "Smoking                       0.000000     0.000000     1.000000     1.000000  \n",
       "AlcoholConsumption            5.139810     9.934412    15.157931    19.989293  \n",
       "PhysicalActivity              2.570626     4.766424     7.427899     9.987429  \n",
       "DietQuality                   2.458455     5.076087     7.558625     9.998346  \n",
       "SleepQuality                  5.482997     7.115646     8.562521     9.999840  \n",
       "FamilyHistoryAlzheimers       0.000000     0.000000     1.000000     1.000000  \n",
       "CardiovascularDisease         0.000000     0.000000     0.000000     1.000000  \n",
       "Diabetes                      0.000000     0.000000     0.000000     1.000000  \n",
       "Depression                    0.000000     0.000000     0.000000     1.000000  \n",
       "HeadInjury                    0.000000     0.000000     0.000000     1.000000  \n",
       "Hypertension                  0.000000     0.000000     0.000000     1.000000  \n",
       "SystolicBP                  112.000000   134.000000   157.000000   179.000000  \n",
       "DiastolicBP                  74.000000    91.000000   105.000000   119.000000  \n",
       "CholesterolTotal            190.252963   225.086430   262.031657   299.993352  \n",
       "CholesterolLDL               87.195798   123.342593   161.733733   199.965665  \n",
       "CholesterolHDL               39.095698    59.768237    78.939050    99.980324  \n",
       "CholesterolTriglycerides    137.583222   230.301983   314.839046   399.941862  \n",
       "MMSE                          7.167602    14.441660    22.161028    29.991381  \n",
       "FunctionalAssessment          2.566281     5.094439     7.546981     9.996467  \n",
       "MemoryComplaints              0.000000     0.000000     0.000000     1.000000  \n",
       "BehavioralProblems            0.000000     0.000000     0.000000     1.000000  \n",
       "ADL                           2.342836     5.038973     7.581490     9.999747  \n",
       "Confusion                     0.000000     0.000000     0.000000     1.000000  \n",
       "Disorientation                0.000000     0.000000     0.000000     1.000000  \n",
       "PersonalityChanges            0.000000     0.000000     0.000000     1.000000  \n",
       "DifficultyCompletingTasks     0.000000     0.000000     0.000000     1.000000  \n",
       "Forgetfulness                 0.000000     0.000000     1.000000     1.000000  \n",
       "Diagnosis                     0.000000     0.000000     1.000000     1.000000  "
      ]
     },
     "execution_count": 5,
     "metadata": {},
     "output_type": "execute_result"
    }
   ],
   "source": [
    "df.describe().T"
   ]
  },
  {
   "cell_type": "markdown",
   "id": "c58ad102-1eaa-48b3-b3de-1a4c7e28564f",
   "metadata": {},
   "source": [
    "# Data Cleaning: Checking for Missing Values and Duplicate Rows"
   ]
  },
  {
   "cell_type": "markdown",
   "id": "754bf946-96ec-4025-aa53-bef64f4ff225",
   "metadata": {},
   "source": [
    "## Checking for Missing Data\n",
    "\n",
    "During the data cleaning process, I found no missing or duplicate values. Considering the features, I decided to remove the **PatientID** and **DoctorInCharge** columns, as they do not provide predictive value for the models to be built later. **PatientID** is a unique identifier, and **DoctorInCharge** contains confidential information with the value \"XXXConfid\" for all patients. Removing them ensures the models focus on meaningful features."
   ]
  },
  {
   "cell_type": "code",
   "execution_count": 6,
   "id": "130be68f-d6cd-463e-b36a-51231fedc41e",
   "metadata": {},
   "outputs": [
    {
     "data": {
      "text/plain": [
       "PatientID                    0\n",
       "Age                          0\n",
       "Gender                       0\n",
       "Ethnicity                    0\n",
       "EducationLevel               0\n",
       "BMI                          0\n",
       "Smoking                      0\n",
       "AlcoholConsumption           0\n",
       "PhysicalActivity             0\n",
       "DietQuality                  0\n",
       "SleepQuality                 0\n",
       "FamilyHistoryAlzheimers      0\n",
       "CardiovascularDisease        0\n",
       "Diabetes                     0\n",
       "Depression                   0\n",
       "HeadInjury                   0\n",
       "Hypertension                 0\n",
       "SystolicBP                   0\n",
       "DiastolicBP                  0\n",
       "CholesterolTotal             0\n",
       "CholesterolLDL               0\n",
       "CholesterolHDL               0\n",
       "CholesterolTriglycerides     0\n",
       "MMSE                         0\n",
       "FunctionalAssessment         0\n",
       "MemoryComplaints             0\n",
       "BehavioralProblems           0\n",
       "ADL                          0\n",
       "Confusion                    0\n",
       "Disorientation               0\n",
       "PersonalityChanges           0\n",
       "DifficultyCompletingTasks    0\n",
       "Forgetfulness                0\n",
       "Diagnosis                    0\n",
       "DoctorInCharge               0\n",
       "dtype: int64"
      ]
     },
     "execution_count": 6,
     "metadata": {},
     "output_type": "execute_result"
    }
   ],
   "source": [
    "df.isnull().sum()"
   ]
  },
  {
   "cell_type": "code",
   "execution_count": 7,
   "id": "127bd4e0-6b38-4dc3-8197-4bad96115809",
   "metadata": {},
   "outputs": [
    {
     "data": {
      "text/plain": [
       "0"
      ]
     },
     "execution_count": 7,
     "metadata": {},
     "output_type": "execute_result"
    }
   ],
   "source": [
    "df.isnull().sum().sum()"
   ]
  },
  {
   "cell_type": "markdown",
   "id": "19edd530-7983-4d03-89d9-c71943efe6b3",
   "metadata": {},
   "source": [
    "## Checking For Duplicate Rows"
   ]
  },
  {
   "cell_type": "code",
   "execution_count": 8,
   "id": "ed90226d-956c-482c-bd4b-e4aaa83b2a23",
   "metadata": {},
   "outputs": [
    {
     "data": {
      "text/plain": [
       "False"
      ]
     },
     "execution_count": 8,
     "metadata": {},
     "output_type": "execute_result"
    }
   ],
   "source": [
    "df.duplicated().any()"
   ]
  },
  {
   "cell_type": "code",
   "execution_count": 9,
   "id": "6f236156-436f-4dbe-922a-241c8d8b3618",
   "metadata": {},
   "outputs": [
    {
     "data": {
      "text/html": [
       "<div>\n",
       "<style scoped>\n",
       "    .dataframe tbody tr th:only-of-type {\n",
       "        vertical-align: middle;\n",
       "    }\n",
       "\n",
       "    .dataframe tbody tr th {\n",
       "        vertical-align: top;\n",
       "    }\n",
       "\n",
       "    .dataframe thead th {\n",
       "        text-align: right;\n",
       "    }\n",
       "</style>\n",
       "<table border=\"1\" class=\"dataframe\">\n",
       "  <thead>\n",
       "    <tr style=\"text-align: right;\">\n",
       "      <th></th>\n",
       "      <th>PatientID</th>\n",
       "      <th>Age</th>\n",
       "      <th>Gender</th>\n",
       "      <th>Ethnicity</th>\n",
       "      <th>EducationLevel</th>\n",
       "      <th>BMI</th>\n",
       "      <th>Smoking</th>\n",
       "      <th>AlcoholConsumption</th>\n",
       "      <th>PhysicalActivity</th>\n",
       "      <th>DietQuality</th>\n",
       "      <th>...</th>\n",
       "      <th>MemoryComplaints</th>\n",
       "      <th>BehavioralProblems</th>\n",
       "      <th>ADL</th>\n",
       "      <th>Confusion</th>\n",
       "      <th>Disorientation</th>\n",
       "      <th>PersonalityChanges</th>\n",
       "      <th>DifficultyCompletingTasks</th>\n",
       "      <th>Forgetfulness</th>\n",
       "      <th>Diagnosis</th>\n",
       "      <th>DoctorInCharge</th>\n",
       "    </tr>\n",
       "  </thead>\n",
       "  <tbody>\n",
       "  </tbody>\n",
       "</table>\n",
       "<p>0 rows × 35 columns</p>\n",
       "</div>"
      ],
      "text/plain": [
       "Empty DataFrame\n",
       "Columns: [PatientID, Age, Gender, Ethnicity, EducationLevel, BMI, Smoking, AlcoholConsumption, PhysicalActivity, DietQuality, SleepQuality, FamilyHistoryAlzheimers, CardiovascularDisease, Diabetes, Depression, HeadInjury, Hypertension, SystolicBP, DiastolicBP, CholesterolTotal, CholesterolLDL, CholesterolHDL, CholesterolTriglycerides, MMSE, FunctionalAssessment, MemoryComplaints, BehavioralProblems, ADL, Confusion, Disorientation, PersonalityChanges, DifficultyCompletingTasks, Forgetfulness, Diagnosis, DoctorInCharge]\n",
       "Index: []\n",
       "\n",
       "[0 rows x 35 columns]"
      ]
     },
     "execution_count": 9,
     "metadata": {},
     "output_type": "execute_result"
    }
   ],
   "source": [
    "df[df.duplicated()]"
   ]
  },
  {
   "cell_type": "markdown",
   "id": "df679a2a-34c4-4b00-b0b1-72b821197fc4",
   "metadata": {},
   "source": [
    "## Dropping Unnecesary Columns"
   ]
  },
  {
   "cell_type": "code",
   "execution_count": 10,
   "id": "416586cb-50e5-434d-97a2-a6fdce35cd42",
   "metadata": {},
   "outputs": [
    {
     "data": {
      "text/plain": [
       "(2149, 33)"
      ]
     },
     "execution_count": 10,
     "metadata": {},
     "output_type": "execute_result"
    }
   ],
   "source": [
    "df.drop([\"PatientID\", \"DoctorInCharge\"], axis=1, inplace=True)\n",
    "df.shape"
   ]
  },
  {
   "cell_type": "markdown",
   "id": "c843a110-eabc-4c03-a490-2c9a54dd1aa3",
   "metadata": {},
   "source": [
    "# Exploratory Data Analysis\n",
    "Upon examining the data, we can observe that the dataset is well-prepared in terms of data types. Most columns have been correctly assigned appropriate data types.\n",
    "\n",
    "However, since I know that the **Ethnicity** column, which is currently represented as an integer, is a nominal variable, I will convert it into string values for better categorization. This is necessary because I plan to apply **One-Hot Encoding** later in the modeling process.\n",
    "\n",
    "On the other hand, the **Education Level** column is an ordinal variable, where the order of the values carries importance. Therefore, I will keep it in its current integer format, as this representation is appropriate for ordinal data."
   ]
  },
  {
   "cell_type": "code",
   "execution_count": 11,
   "id": "3f4d8df7-7f70-4030-b625-156f00b7fca1",
   "metadata": {},
   "outputs": [],
   "source": [
    "df.Ethnicity = df.Ethnicity.replace({0: \"Caucasian\", 1: \"African American\", 2: \"Asian\", 3: \"Other\"})"
   ]
  },
  {
   "cell_type": "markdown",
   "id": "efe91b27-5895-467d-b42b-84e9da9e4a7e",
   "metadata": {},
   "source": [
    "- A total of **1389 patients** have not been diagnosed with Alzheimer's, while **760 patients** have been diagnosed with the disease. The patients diagnosed as Alzheimer positive represent **35.4%** of the total patients in the dataset."
   ]
  },
  {
   "cell_type": "code",
   "execution_count": 12,
   "id": "9bfe0143-b170-4416-b352-cec3a297e831",
   "metadata": {},
   "outputs": [
    {
     "data": {
      "text/plain": [
       "Diagnosis\n",
       "0    1389\n",
       "1     760\n",
       "Name: count, dtype: int64"
      ]
     },
     "execution_count": 12,
     "metadata": {},
     "output_type": "execute_result"
    }
   ],
   "source": [
    "df.Diagnosis.value_counts()"
   ]
  },
  {
   "cell_type": "code",
   "execution_count": 13,
   "id": "97da9a40-c285-44de-8cf8-9f023fb7cc14",
   "metadata": {},
   "outputs": [
    {
     "data": {
      "image/png": "[encoded data removed]",
      "text/plain": [
       "<Figure size 600x600 with 1 Axes>"
      ]
     },
     "metadata": {},
     "output_type": "display_data"
    }
   ],
   "source": [
    "num_non_alzheimer_cases = df.Diagnosis.value_counts()[0]\n",
    "num_alzheimer_cases = df.Diagnosis.value_counts()[1]\n",
    "\n",
    "category_names = [\"Alzheimer Positive\", \"Alzheimer Negative\"]\n",
    "sizes = [num_alzheimer_cases, num_non_alzheimer_cases]\n",
    "custom_colors = [\"#e74c3c\", \"#f1c40f\"]\n",
    "\n",
    "plt.figure(figsize=(6, 6))\n",
    "\n",
    "plt.title(\"Alzheimer Diagnosis Distribution\", fontsize=16, weight=\"bold\")\n",
    "plt.pie(sizes, \n",
    "        labels=category_names, \n",
    "        textprops={\"fontsize\": 14, \"weight\": \"bold\"},\n",
    "        startangle=90, \n",
    "        autopct=\"%1.1f%%\",\n",
    "        colors=custom_colors, \n",
    "        explode=[0, 0.1],\n",
    "        wedgeprops={\"edgecolor\": \"black\", \"linewidth\": 1})\n",
    "plt.show()"
   ]
  },
  {
   "cell_type": "markdown",
   "id": "b36e81e3-7bc3-4112-915f-e2edb0327191",
   "metadata": {},
   "source": [
    "---\n",
    "The following `for loop` provides a rough overview of how categorical features relate to Alzheimer's diagnosis. From this initial analysis, a few interesting variables will be selected for further investigation in the following sections."
   ]
  },
  {
   "cell_type": "code",
   "execution_count": 14,
   "id": "cd5f1454-822a-4e2a-bc5c-d561db5f0746",
   "metadata": {},
   "outputs": [],
   "source": [
    "# Split Columns as numeric and category\n",
    "numerical_columns = [col for col in df.columns if df[col].dtype in [\"int64\", \"float64\"] and df[col].nunique() > 20]\n",
    "categorical_columns = [col for col in df.columns if col not in numerical_columns]"
   ]
  },
  {
   "cell_type": "code",
   "execution_count": 15,
   "id": "3a6411c4-68e0-4d7e-8847-065ed268fe76",
   "metadata": {},
   "outputs": [
    {
     "name": "stdout",
     "output_type": "stream",
     "text": [
      "Crosstab for Gender vs Diagnosis:\n",
      "\n"
     ]
    },
    {
     "data": {
      "text/html": [
       "<div>\n",
       "<style scoped>\n",
       "    .dataframe tbody tr th:only-of-type {\n",
       "        vertical-align: middle;\n",
       "    }\n",
       "\n",
       "    .dataframe tbody tr th {\n",
       "        vertical-align: top;\n",
       "    }\n",
       "\n",
       "    .dataframe thead th {\n",
       "        text-align: right;\n",
       "    }\n",
       "</style>\n",
       "<table border=\"1\" class=\"dataframe\">\n",
       "  <thead>\n",
       "    <tr style=\"text-align: right;\">\n",
       "      <th></th>\n",
       "      <th>Alzheimer Negative</th>\n",
       "      <th>Alzheimer Positive</th>\n",
       "    </tr>\n",
       "    <tr>\n",
       "      <th>Gender</th>\n",
       "      <th></th>\n",
       "      <th></th>\n",
       "    </tr>\n",
       "  </thead>\n",
       "  <tbody>\n",
       "    <tr>\n",
       "      <th>0</th>\n",
       "      <td>63.619227</td>\n",
       "      <td>36.380773</td>\n",
       "    </tr>\n",
       "    <tr>\n",
       "      <th>1</th>\n",
       "      <td>65.625000</td>\n",
       "      <td>34.375000</td>\n",
       "    </tr>\n",
       "  </tbody>\n",
       "</table>\n",
       "</div>"
      ],
      "text/plain": [
       "        Alzheimer Negative  Alzheimer Positive\n",
       "Gender                                        \n",
       "0                63.619227           36.380773\n",
       "1                65.625000           34.375000"
      ]
     },
     "metadata": {},
     "output_type": "display_data"
    },
    {
     "name": "stdout",
     "output_type": "stream",
     "text": [
      "\n",
      "--------------------------------------------------\n",
      "\n",
      "Crosstab for Ethnicity vs Diagnosis:\n",
      "\n"
     ]
    },
    {
     "data": {
      "text/html": [
       "<div>\n",
       "<style scoped>\n",
       "    .dataframe tbody tr th:only-of-type {\n",
       "        vertical-align: middle;\n",
       "    }\n",
       "\n",
       "    .dataframe tbody tr th {\n",
       "        vertical-align: top;\n",
       "    }\n",
       "\n",
       "    .dataframe thead th {\n",
       "        text-align: right;\n",
       "    }\n",
       "</style>\n",
       "<table border=\"1\" class=\"dataframe\">\n",
       "  <thead>\n",
       "    <tr style=\"text-align: right;\">\n",
       "      <th></th>\n",
       "      <th>Alzheimer Negative</th>\n",
       "      <th>Alzheimer Positive</th>\n",
       "    </tr>\n",
       "    <tr>\n",
       "      <th>Ethnicity</th>\n",
       "      <th></th>\n",
       "      <th></th>\n",
       "    </tr>\n",
       "  </thead>\n",
       "  <tbody>\n",
       "    <tr>\n",
       "      <th>African American</th>\n",
       "      <td>67.841410</td>\n",
       "      <td>32.158590</td>\n",
       "    </tr>\n",
       "    <tr>\n",
       "      <th>Asian</th>\n",
       "      <td>59.223301</td>\n",
       "      <td>40.776699</td>\n",
       "    </tr>\n",
       "    <tr>\n",
       "      <th>Caucasian</th>\n",
       "      <td>63.771518</td>\n",
       "      <td>36.228482</td>\n",
       "    </tr>\n",
       "    <tr>\n",
       "      <th>Other</th>\n",
       "      <td>68.246445</td>\n",
       "      <td>31.753555</td>\n",
       "    </tr>\n",
       "  </tbody>\n",
       "</table>\n",
       "</div>"
      ],
      "text/plain": [
       "                  Alzheimer Negative  Alzheimer Positive\n",
       "Ethnicity                                               \n",
       "African American           67.841410           32.158590\n",
       "Asian                      59.223301           40.776699\n",
       "Caucasian                  63.771518           36.228482\n",
       "Other                      68.246445           31.753555"
      ]
     },
     "metadata": {},
     "output_type": "display_data"
    },
    {
     "name": "stdout",
     "output_type": "stream",
     "text": [
      "\n",
      "--------------------------------------------------\n",
      "\n",
      "Crosstab for EducationLevel vs Diagnosis:\n",
      "\n"
     ]
    },
    {
     "data": {
      "text/html": [
       "<div>\n",
       "<style scoped>\n",
       "    .dataframe tbody tr th:only-of-type {\n",
       "        vertical-align: middle;\n",
       "    }\n",
       "\n",
       "    .dataframe tbody tr th {\n",
       "        vertical-align: top;\n",
       "    }\n",
       "\n",
       "    .dataframe thead th {\n",
       "        text-align: right;\n",
       "    }\n",
       "</style>\n",
       "<table border=\"1\" class=\"dataframe\">\n",
       "  <thead>\n",
       "    <tr style=\"text-align: right;\">\n",
       "      <th></th>\n",
       "      <th>Alzheimer Negative</th>\n",
       "      <th>Alzheimer Positive</th>\n",
       "    </tr>\n",
       "    <tr>\n",
       "      <th>EducationLevel</th>\n",
       "      <th></th>\n",
       "      <th></th>\n",
       "    </tr>\n",
       "  </thead>\n",
       "  <tbody>\n",
       "    <tr>\n",
       "      <th>0</th>\n",
       "      <td>60.986547</td>\n",
       "      <td>39.013453</td>\n",
       "    </tr>\n",
       "    <tr>\n",
       "      <th>1</th>\n",
       "      <td>64.637002</td>\n",
       "      <td>35.362998</td>\n",
       "    </tr>\n",
       "    <tr>\n",
       "      <th>2</th>\n",
       "      <td>65.880503</td>\n",
       "      <td>34.119497</td>\n",
       "    </tr>\n",
       "    <tr>\n",
       "      <th>3</th>\n",
       "      <td>68.544601</td>\n",
       "      <td>31.455399</td>\n",
       "    </tr>\n",
       "  </tbody>\n",
       "</table>\n",
       "</div>"
      ],
      "text/plain": [
       "                Alzheimer Negative  Alzheimer Positive\n",
       "EducationLevel                                        \n",
       "0                        60.986547           39.013453\n",
       "1                        64.637002           35.362998\n",
       "2                        65.880503           34.119497\n",
       "3                        68.544601           31.455399"
      ]
     },
     "metadata": {},
     "output_type": "display_data"
    },
    {
     "name": "stdout",
     "output_type": "stream",
     "text": [
      "\n",
      "--------------------------------------------------\n",
      "\n",
      "Crosstab for Smoking vs Diagnosis:\n",
      "\n"
     ]
    },
    {
     "data": {
      "text/html": [
       "<div>\n",
       "<style scoped>\n",
       "    .dataframe tbody tr th:only-of-type {\n",
       "        vertical-align: middle;\n",
       "    }\n",
       "\n",
       "    .dataframe tbody tr th {\n",
       "        vertical-align: top;\n",
       "    }\n",
       "\n",
       "    .dataframe thead th {\n",
       "        text-align: right;\n",
       "    }\n",
       "</style>\n",
       "<table border=\"1\" class=\"dataframe\">\n",
       "  <thead>\n",
       "    <tr style=\"text-align: right;\">\n",
       "      <th></th>\n",
       "      <th>Alzheimer Negative</th>\n",
       "      <th>Alzheimer Positive</th>\n",
       "    </tr>\n",
       "    <tr>\n",
       "      <th>Smoking</th>\n",
       "      <th></th>\n",
       "      <th></th>\n",
       "    </tr>\n",
       "  </thead>\n",
       "  <tbody>\n",
       "    <tr>\n",
       "      <th>0</th>\n",
       "      <td>64.486593</td>\n",
       "      <td>35.513407</td>\n",
       "    </tr>\n",
       "    <tr>\n",
       "      <th>1</th>\n",
       "      <td>65.000000</td>\n",
       "      <td>35.000000</td>\n",
       "    </tr>\n",
       "  </tbody>\n",
       "</table>\n",
       "</div>"
      ],
      "text/plain": [
       "         Alzheimer Negative  Alzheimer Positive\n",
       "Smoking                                        \n",
       "0                 64.486593           35.513407\n",
       "1                 65.000000           35.000000"
      ]
     },
     "metadata": {},
     "output_type": "display_data"
    },
    {
     "name": "stdout",
     "output_type": "stream",
     "text": [
      "\n",
      "--------------------------------------------------\n",
      "\n",
      "Crosstab for FamilyHistoryAlzheimers vs Diagnosis:\n",
      "\n"
     ]
    },
    {
     "data": {
      "text/html": [
       "<div>\n",
       "<style scoped>\n",
       "    .dataframe tbody tr th:only-of-type {\n",
       "        vertical-align: middle;\n",
       "    }\n",
       "\n",
       "    .dataframe tbody tr th {\n",
       "        vertical-align: top;\n",
       "    }\n",
       "\n",
       "    .dataframe thead th {\n",
       "        text-align: right;\n",
       "    }\n",
       "</style>\n",
       "<table border=\"1\" class=\"dataframe\">\n",
       "  <thead>\n",
       "    <tr style=\"text-align: right;\">\n",
       "      <th></th>\n",
       "      <th>Alzheimer Negative</th>\n",
       "      <th>Alzheimer Positive</th>\n",
       "    </tr>\n",
       "    <tr>\n",
       "      <th>FamilyHistoryAlzheimers</th>\n",
       "      <th></th>\n",
       "      <th></th>\n",
       "    </tr>\n",
       "  </thead>\n",
       "  <tbody>\n",
       "    <tr>\n",
       "      <th>0</th>\n",
       "      <td>63.721220</td>\n",
       "      <td>36.278780</td>\n",
       "    </tr>\n",
       "    <tr>\n",
       "      <th>1</th>\n",
       "      <td>67.343173</td>\n",
       "      <td>32.656827</td>\n",
       "    </tr>\n",
       "  </tbody>\n",
       "</table>\n",
       "</div>"
      ],
      "text/plain": [
       "                         Alzheimer Negative  Alzheimer Positive\n",
       "FamilyHistoryAlzheimers                                        \n",
       "0                                 63.721220           36.278780\n",
       "1                                 67.343173           32.656827"
      ]
     },
     "metadata": {},
     "output_type": "display_data"
    },
    {
     "name": "stdout",
     "output_type": "stream",
     "text": [
      "\n",
      "--------------------------------------------------\n",
      "\n",
      "Crosstab for CardiovascularDisease vs Diagnosis:\n",
      "\n"
     ]
    },
    {
     "data": {
      "text/html": [
       "<div>\n",
       "<style scoped>\n",
       "    .dataframe tbody tr th:only-of-type {\n",
       "        vertical-align: middle;\n",
       "    }\n",
       "\n",
       "    .dataframe tbody tr th {\n",
       "        vertical-align: top;\n",
       "    }\n",
       "\n",
       "    .dataframe thead th {\n",
       "        text-align: right;\n",
       "    }\n",
       "</style>\n",
       "<table border=\"1\" class=\"dataframe\">\n",
       "  <thead>\n",
       "    <tr style=\"text-align: right;\">\n",
       "      <th></th>\n",
       "      <th>Alzheimer Negative</th>\n",
       "      <th>Alzheimer Positive</th>\n",
       "    </tr>\n",
       "    <tr>\n",
       "      <th>CardiovascularDisease</th>\n",
       "      <th></th>\n",
       "      <th></th>\n",
       "    </tr>\n",
       "  </thead>\n",
       "  <tbody>\n",
       "    <tr>\n",
       "      <th>0</th>\n",
       "      <td>65.252855</td>\n",
       "      <td>34.747145</td>\n",
       "    </tr>\n",
       "    <tr>\n",
       "      <th>1</th>\n",
       "      <td>60.967742</td>\n",
       "      <td>39.032258</td>\n",
       "    </tr>\n",
       "  </tbody>\n",
       "</table>\n",
       "</div>"
      ],
      "text/plain": [
       "                       Alzheimer Negative  Alzheimer Positive\n",
       "CardiovascularDisease                                        \n",
       "0                               65.252855           34.747145\n",
       "1                               60.967742           39.032258"
      ]
     },
     "metadata": {},
     "output_type": "display_data"
    },
    {
     "name": "stdout",
     "output_type": "stream",
     "text": [
      "\n",
      "--------------------------------------------------\n",
      "\n",
      "Crosstab for Diabetes vs Diagnosis:\n",
      "\n"
     ]
    },
    {
     "data": {
      "text/html": [
       "<div>\n",
       "<style scoped>\n",
       "    .dataframe tbody tr th:only-of-type {\n",
       "        vertical-align: middle;\n",
       "    }\n",
       "\n",
       "    .dataframe tbody tr th {\n",
       "        vertical-align: top;\n",
       "    }\n",
       "\n",
       "    .dataframe thead th {\n",
       "        text-align: right;\n",
       "    }\n",
       "</style>\n",
       "<table border=\"1\" class=\"dataframe\">\n",
       "  <thead>\n",
       "    <tr style=\"text-align: right;\">\n",
       "      <th></th>\n",
       "      <th>Alzheimer Negative</th>\n",
       "      <th>Alzheimer Positive</th>\n",
       "    </tr>\n",
       "    <tr>\n",
       "      <th>Diabetes</th>\n",
       "      <th></th>\n",
       "      <th></th>\n",
       "    </tr>\n",
       "  </thead>\n",
       "  <tbody>\n",
       "    <tr>\n",
       "      <th>0</th>\n",
       "      <td>64.000000</td>\n",
       "      <td>36.000000</td>\n",
       "    </tr>\n",
       "    <tr>\n",
       "      <th>1</th>\n",
       "      <td>68.209877</td>\n",
       "      <td>31.790123</td>\n",
       "    </tr>\n",
       "  </tbody>\n",
       "</table>\n",
       "</div>"
      ],
      "text/plain": [
       "          Alzheimer Negative  Alzheimer Positive\n",
       "Diabetes                                        \n",
       "0                  64.000000           36.000000\n",
       "1                  68.209877           31.790123"
      ]
     },
     "metadata": {},
     "output_type": "display_data"
    },
    {
     "name": "stdout",
     "output_type": "stream",
     "text": [
      "\n",
      "--------------------------------------------------\n",
      "\n",
      "Crosstab for Depression vs Diagnosis:\n",
      "\n"
     ]
    },
    {
     "data": {
      "text/html": [
       "<div>\n",
       "<style scoped>\n",
       "    .dataframe tbody tr th:only-of-type {\n",
       "        vertical-align: middle;\n",
       "    }\n",
       "\n",
       "    .dataframe tbody tr th {\n",
       "        vertical-align: top;\n",
       "    }\n",
       "\n",
       "    .dataframe thead th {\n",
       "        text-align: right;\n",
       "    }\n",
       "</style>\n",
       "<table border=\"1\" class=\"dataframe\">\n",
       "  <thead>\n",
       "    <tr style=\"text-align: right;\">\n",
       "      <th></th>\n",
       "      <th>Alzheimer Negative</th>\n",
       "      <th>Alzheimer Positive</th>\n",
       "    </tr>\n",
       "    <tr>\n",
       "      <th>Depression</th>\n",
       "      <th></th>\n",
       "      <th></th>\n",
       "    </tr>\n",
       "  </thead>\n",
       "  <tbody>\n",
       "    <tr>\n",
       "      <th>0</th>\n",
       "      <td>64.493597</td>\n",
       "      <td>35.506403</td>\n",
       "    </tr>\n",
       "    <tr>\n",
       "      <th>1</th>\n",
       "      <td>65.197216</td>\n",
       "      <td>34.802784</td>\n",
       "    </tr>\n",
       "  </tbody>\n",
       "</table>\n",
       "</div>"
      ],
      "text/plain": [
       "            Alzheimer Negative  Alzheimer Positive\n",
       "Depression                                        \n",
       "0                    64.493597           35.506403\n",
       "1                    65.197216           34.802784"
      ]
     },
     "metadata": {},
     "output_type": "display_data"
    },
    {
     "name": "stdout",
     "output_type": "stream",
     "text": [
      "\n",
      "--------------------------------------------------\n",
      "\n",
      "Crosstab for HeadInjury vs Diagnosis:\n",
      "\n"
     ]
    },
    {
     "data": {
      "text/html": [
       "<div>\n",
       "<style scoped>\n",
       "    .dataframe tbody tr th:only-of-type {\n",
       "        vertical-align: middle;\n",
       "    }\n",
       "\n",
       "    .dataframe tbody tr th {\n",
       "        vertical-align: top;\n",
       "    }\n",
       "\n",
       "    .dataframe thead th {\n",
       "        text-align: right;\n",
       "    }\n",
       "</style>\n",
       "<table border=\"1\" class=\"dataframe\">\n",
       "  <thead>\n",
       "    <tr style=\"text-align: right;\">\n",
       "      <th></th>\n",
       "      <th>Alzheimer Negative</th>\n",
       "      <th>Alzheimer Positive</th>\n",
       "    </tr>\n",
       "    <tr>\n",
       "      <th>HeadInjury</th>\n",
       "      <th></th>\n",
       "      <th></th>\n",
       "    </tr>\n",
       "  </thead>\n",
       "  <tbody>\n",
       "    <tr>\n",
       "      <th>0</th>\n",
       "      <td>64.307692</td>\n",
       "      <td>35.692308</td>\n",
       "    </tr>\n",
       "    <tr>\n",
       "      <th>1</th>\n",
       "      <td>67.839196</td>\n",
       "      <td>32.160804</td>\n",
       "    </tr>\n",
       "  </tbody>\n",
       "</table>\n",
       "</div>"
      ],
      "text/plain": [
       "            Alzheimer Negative  Alzheimer Positive\n",
       "HeadInjury                                        \n",
       "0                    64.307692           35.692308\n",
       "1                    67.839196           32.160804"
      ]
     },
     "metadata": {},
     "output_type": "display_data"
    },
    {
     "name": "stdout",
     "output_type": "stream",
     "text": [
      "\n",
      "--------------------------------------------------\n",
      "\n",
      "Crosstab for Hypertension vs Diagnosis:\n",
      "\n"
     ]
    },
    {
     "data": {
      "text/html": [
       "<div>\n",
       "<style scoped>\n",
       "    .dataframe tbody tr th:only-of-type {\n",
       "        vertical-align: middle;\n",
       "    }\n",
       "\n",
       "    .dataframe tbody tr th {\n",
       "        vertical-align: top;\n",
       "    }\n",
       "\n",
       "    .dataframe thead th {\n",
       "        text-align: right;\n",
       "    }\n",
       "</style>\n",
       "<table border=\"1\" class=\"dataframe\">\n",
       "  <thead>\n",
       "    <tr style=\"text-align: right;\">\n",
       "      <th></th>\n",
       "      <th>Alzheimer Negative</th>\n",
       "      <th>Alzheimer Positive</th>\n",
       "    </tr>\n",
       "    <tr>\n",
       "      <th>Hypertension</th>\n",
       "      <th></th>\n",
       "      <th></th>\n",
       "    </tr>\n",
       "  </thead>\n",
       "  <tbody>\n",
       "    <tr>\n",
       "      <th>0</th>\n",
       "      <td>65.336249</td>\n",
       "      <td>34.663751</td>\n",
       "    </tr>\n",
       "    <tr>\n",
       "      <th>1</th>\n",
       "      <td>60.625000</td>\n",
       "      <td>39.375000</td>\n",
       "    </tr>\n",
       "  </tbody>\n",
       "</table>\n",
       "</div>"
      ],
      "text/plain": [
       "              Alzheimer Negative  Alzheimer Positive\n",
       "Hypertension                                        \n",
       "0                      65.336249           34.663751\n",
       "1                      60.625000           39.375000"
      ]
     },
     "metadata": {},
     "output_type": "display_data"
    },
    {
     "name": "stdout",
     "output_type": "stream",
     "text": [
      "\n",
      "--------------------------------------------------\n",
      "\n",
      "Crosstab for MemoryComplaints vs Diagnosis:\n",
      "\n"
     ]
    },
    {
     "data": {
      "text/html": [
       "<div>\n",
       "<style scoped>\n",
       "    .dataframe tbody tr th:only-of-type {\n",
       "        vertical-align: middle;\n",
       "    }\n",
       "\n",
       "    .dataframe tbody tr th {\n",
       "        vertical-align: top;\n",
       "    }\n",
       "\n",
       "    .dataframe thead th {\n",
       "        text-align: right;\n",
       "    }\n",
       "</style>\n",
       "<table border=\"1\" class=\"dataframe\">\n",
       "  <thead>\n",
       "    <tr style=\"text-align: right;\">\n",
       "      <th></th>\n",
       "      <th>Alzheimer Negative</th>\n",
       "      <th>Alzheimer Positive</th>\n",
       "    </tr>\n",
       "    <tr>\n",
       "      <th>MemoryComplaints</th>\n",
       "      <th></th>\n",
       "      <th></th>\n",
       "    </tr>\n",
       "  </thead>\n",
       "  <tbody>\n",
       "    <tr>\n",
       "      <th>0</th>\n",
       "      <td>72.150411</td>\n",
       "      <td>27.849589</td>\n",
       "    </tr>\n",
       "    <tr>\n",
       "      <th>1</th>\n",
       "      <td>36.017897</td>\n",
       "      <td>63.982103</td>\n",
       "    </tr>\n",
       "  </tbody>\n",
       "</table>\n",
       "</div>"
      ],
      "text/plain": [
       "                  Alzheimer Negative  Alzheimer Positive\n",
       "MemoryComplaints                                        \n",
       "0                          72.150411           27.849589\n",
       "1                          36.017897           63.982103"
      ]
     },
     "metadata": {},
     "output_type": "display_data"
    },
    {
     "name": "stdout",
     "output_type": "stream",
     "text": [
      "\n",
      "--------------------------------------------------\n",
      "\n",
      "Crosstab for BehavioralProblems vs Diagnosis:\n",
      "\n"
     ]
    },
    {
     "data": {
      "text/html": [
       "<div>\n",
       "<style scoped>\n",
       "    .dataframe tbody tr th:only-of-type {\n",
       "        vertical-align: middle;\n",
       "    }\n",
       "\n",
       "    .dataframe tbody tr th {\n",
       "        vertical-align: top;\n",
       "    }\n",
       "\n",
       "    .dataframe thead th {\n",
       "        text-align: right;\n",
       "    }\n",
       "</style>\n",
       "<table border=\"1\" class=\"dataframe\">\n",
       "  <thead>\n",
       "    <tr style=\"text-align: right;\">\n",
       "      <th></th>\n",
       "      <th>Alzheimer Negative</th>\n",
       "      <th>Alzheimer Positive</th>\n",
       "    </tr>\n",
       "    <tr>\n",
       "      <th>BehavioralProblems</th>\n",
       "      <th></th>\n",
       "      <th></th>\n",
       "    </tr>\n",
       "  </thead>\n",
       "  <tbody>\n",
       "    <tr>\n",
       "      <th>0</th>\n",
       "      <td>69.260486</td>\n",
       "      <td>30.739514</td>\n",
       "    </tr>\n",
       "    <tr>\n",
       "      <th>1</th>\n",
       "      <td>39.762611</td>\n",
       "      <td>60.237389</td>\n",
       "    </tr>\n",
       "  </tbody>\n",
       "</table>\n",
       "</div>"
      ],
      "text/plain": [
       "                    Alzheimer Negative  Alzheimer Positive\n",
       "BehavioralProblems                                        \n",
       "0                            69.260486           30.739514\n",
       "1                            39.762611           60.237389"
      ]
     },
     "metadata": {},
     "output_type": "display_data"
    },
    {
     "name": "stdout",
     "output_type": "stream",
     "text": [
      "\n",
      "--------------------------------------------------\n",
      "\n",
      "Crosstab for Confusion vs Diagnosis:\n",
      "\n"
     ]
    },
    {
     "data": {
      "text/html": [
       "<div>\n",
       "<style scoped>\n",
       "    .dataframe tbody tr th:only-of-type {\n",
       "        vertical-align: middle;\n",
       "    }\n",
       "\n",
       "    .dataframe tbody tr th {\n",
       "        vertical-align: top;\n",
       "    }\n",
       "\n",
       "    .dataframe thead th {\n",
       "        text-align: right;\n",
       "    }\n",
       "</style>\n",
       "<table border=\"1\" class=\"dataframe\">\n",
       "  <thead>\n",
       "    <tr style=\"text-align: right;\">\n",
       "      <th></th>\n",
       "      <th>Alzheimer Negative</th>\n",
       "      <th>Alzheimer Positive</th>\n",
       "    </tr>\n",
       "    <tr>\n",
       "      <th>Confusion</th>\n",
       "      <th></th>\n",
       "      <th></th>\n",
       "    </tr>\n",
       "  </thead>\n",
       "  <tbody>\n",
       "    <tr>\n",
       "      <th>0</th>\n",
       "      <td>64.168618</td>\n",
       "      <td>35.831382</td>\n",
       "    </tr>\n",
       "    <tr>\n",
       "      <th>1</th>\n",
       "      <td>66.439909</td>\n",
       "      <td>33.560091</td>\n",
       "    </tr>\n",
       "  </tbody>\n",
       "</table>\n",
       "</div>"
      ],
      "text/plain": [
       "           Alzheimer Negative  Alzheimer Positive\n",
       "Confusion                                        \n",
       "0                   64.168618           35.831382\n",
       "1                   66.439909           33.560091"
      ]
     },
     "metadata": {},
     "output_type": "display_data"
    },
    {
     "name": "stdout",
     "output_type": "stream",
     "text": [
      "\n",
      "--------------------------------------------------\n",
      "\n",
      "Crosstab for Disorientation vs Diagnosis:\n",
      "\n"
     ]
    },
    {
     "data": {
      "text/html": [
       "<div>\n",
       "<style scoped>\n",
       "    .dataframe tbody tr th:only-of-type {\n",
       "        vertical-align: middle;\n",
       "    }\n",
       "\n",
       "    .dataframe tbody tr th {\n",
       "        vertical-align: top;\n",
       "    }\n",
       "\n",
       "    .dataframe thead th {\n",
       "        text-align: right;\n",
       "    }\n",
       "</style>\n",
       "<table border=\"1\" class=\"dataframe\">\n",
       "  <thead>\n",
       "    <tr style=\"text-align: right;\">\n",
       "      <th></th>\n",
       "      <th>Alzheimer Negative</th>\n",
       "      <th>Alzheimer Positive</th>\n",
       "    </tr>\n",
       "    <tr>\n",
       "      <th>Disorientation</th>\n",
       "      <th></th>\n",
       "      <th></th>\n",
       "    </tr>\n",
       "  </thead>\n",
       "  <tbody>\n",
       "    <tr>\n",
       "      <th>0</th>\n",
       "      <td>64.123825</td>\n",
       "      <td>35.876175</td>\n",
       "    </tr>\n",
       "    <tr>\n",
       "      <th>1</th>\n",
       "      <td>67.352941</td>\n",
       "      <td>32.647059</td>\n",
       "    </tr>\n",
       "  </tbody>\n",
       "</table>\n",
       "</div>"
      ],
      "text/plain": [
       "                Alzheimer Negative  Alzheimer Positive\n",
       "Disorientation                                        \n",
       "0                        64.123825           35.876175\n",
       "1                        67.352941           32.647059"
      ]
     },
     "metadata": {},
     "output_type": "display_data"
    },
    {
     "name": "stdout",
     "output_type": "stream",
     "text": [
      "\n",
      "--------------------------------------------------\n",
      "\n",
      "Crosstab for PersonalityChanges vs Diagnosis:\n",
      "\n"
     ]
    },
    {
     "data": {
      "text/html": [
       "<div>\n",
       "<style scoped>\n",
       "    .dataframe tbody tr th:only-of-type {\n",
       "        vertical-align: middle;\n",
       "    }\n",
       "\n",
       "    .dataframe tbody tr th {\n",
       "        vertical-align: top;\n",
       "    }\n",
       "\n",
       "    .dataframe thead th {\n",
       "        text-align: right;\n",
       "    }\n",
       "</style>\n",
       "<table border=\"1\" class=\"dataframe\">\n",
       "  <thead>\n",
       "    <tr style=\"text-align: right;\">\n",
       "      <th></th>\n",
       "      <th>Alzheimer Negative</th>\n",
       "      <th>Alzheimer Positive</th>\n",
       "    </tr>\n",
       "    <tr>\n",
       "      <th>PersonalityChanges</th>\n",
       "      <th></th>\n",
       "      <th></th>\n",
       "    </tr>\n",
       "  </thead>\n",
       "  <tbody>\n",
       "    <tr>\n",
       "      <th>0</th>\n",
       "      <td>64.219178</td>\n",
       "      <td>35.780822</td>\n",
       "    </tr>\n",
       "    <tr>\n",
       "      <th>1</th>\n",
       "      <td>66.975309</td>\n",
       "      <td>33.024691</td>\n",
       "    </tr>\n",
       "  </tbody>\n",
       "</table>\n",
       "</div>"
      ],
      "text/plain": [
       "                    Alzheimer Negative  Alzheimer Positive\n",
       "PersonalityChanges                                        \n",
       "0                            64.219178           35.780822\n",
       "1                            66.975309           33.024691"
      ]
     },
     "metadata": {},
     "output_type": "display_data"
    },
    {
     "name": "stdout",
     "output_type": "stream",
     "text": [
      "\n",
      "--------------------------------------------------\n",
      "\n",
      "Crosstab for DifficultyCompletingTasks vs Diagnosis:\n",
      "\n"
     ]
    },
    {
     "data": {
      "text/html": [
       "<div>\n",
       "<style scoped>\n",
       "    .dataframe tbody tr th:only-of-type {\n",
       "        vertical-align: middle;\n",
       "    }\n",
       "\n",
       "    .dataframe tbody tr th {\n",
       "        vertical-align: top;\n",
       "    }\n",
       "\n",
       "    .dataframe thead th {\n",
       "        text-align: right;\n",
       "    }\n",
       "</style>\n",
       "<table border=\"1\" class=\"dataframe\">\n",
       "  <thead>\n",
       "    <tr style=\"text-align: right;\">\n",
       "      <th></th>\n",
       "      <th>Alzheimer Negative</th>\n",
       "      <th>Alzheimer Positive</th>\n",
       "    </tr>\n",
       "    <tr>\n",
       "      <th>DifficultyCompletingTasks</th>\n",
       "      <th></th>\n",
       "      <th></th>\n",
       "    </tr>\n",
       "  </thead>\n",
       "  <tbody>\n",
       "    <tr>\n",
       "      <th>0</th>\n",
       "      <td>64.823009</td>\n",
       "      <td>35.176991</td>\n",
       "    </tr>\n",
       "    <tr>\n",
       "      <th>1</th>\n",
       "      <td>63.636364</td>\n",
       "      <td>36.363636</td>\n",
       "    </tr>\n",
       "  </tbody>\n",
       "</table>\n",
       "</div>"
      ],
      "text/plain": [
       "                           Alzheimer Negative  Alzheimer Positive\n",
       "DifficultyCompletingTasks                                        \n",
       "0                                   64.823009           35.176991\n",
       "1                                   63.636364           36.363636"
      ]
     },
     "metadata": {},
     "output_type": "display_data"
    },
    {
     "name": "stdout",
     "output_type": "stream",
     "text": [
      "\n",
      "--------------------------------------------------\n",
      "\n",
      "Crosstab for Forgetfulness vs Diagnosis:\n",
      "\n"
     ]
    },
    {
     "data": {
      "text/html": [
       "<div>\n",
       "<style scoped>\n",
       "    .dataframe tbody tr th:only-of-type {\n",
       "        vertical-align: middle;\n",
       "    }\n",
       "\n",
       "    .dataframe tbody tr th {\n",
       "        vertical-align: top;\n",
       "    }\n",
       "\n",
       "    .dataframe thead th {\n",
       "        text-align: right;\n",
       "    }\n",
       "</style>\n",
       "<table border=\"1\" class=\"dataframe\">\n",
       "  <thead>\n",
       "    <tr style=\"text-align: right;\">\n",
       "      <th></th>\n",
       "      <th>Alzheimer Negative</th>\n",
       "      <th>Alzheimer Positive</th>\n",
       "    </tr>\n",
       "    <tr>\n",
       "      <th>Forgetfulness</th>\n",
       "      <th></th>\n",
       "      <th></th>\n",
       "    </tr>\n",
       "  </thead>\n",
       "  <tbody>\n",
       "    <tr>\n",
       "      <th>0</th>\n",
       "      <td>64.623584</td>\n",
       "      <td>35.376416</td>\n",
       "    </tr>\n",
       "    <tr>\n",
       "      <th>1</th>\n",
       "      <td>64.660494</td>\n",
       "      <td>35.339506</td>\n",
       "    </tr>\n",
       "  </tbody>\n",
       "</table>\n",
       "</div>"
      ],
      "text/plain": [
       "               Alzheimer Negative  Alzheimer Positive\n",
       "Forgetfulness                                        \n",
       "0                       64.623584           35.376416\n",
       "1                       64.660494           35.339506"
      ]
     },
     "metadata": {},
     "output_type": "display_data"
    },
    {
     "name": "stdout",
     "output_type": "stream",
     "text": [
      "\n",
      "--------------------------------------------------\n",
      "\n"
     ]
    }
   ],
   "source": [
    "for column in categorical_columns[:-1]:\n",
    "    crosstab = pd.crosstab(df[column], df.Diagnosis, normalize=\"index\") * 100\n",
    "    crosstab.columns = [\"Alzheimer Negative\", \"Alzheimer Positive\"]\n",
    "    print(f\"Crosstab for {column} vs Diagnosis:\\n\")\n",
    "    display(crosstab)\n",
    "    print('\\n' + '-'*50 + '\\n')"
   ]
  },
  {
   "cell_type": "markdown",
   "id": "6e36eff2-5e14-43ac-8874-db499ef2ed17",
   "metadata": {},
   "source": [
    "---\n",
    "### Impact of Education Level on Alzheimer's Diagnosis\n",
    "\n",
    "The analysis reveals that **education level** may play a significant role in predicting Alzheimer's diagnosis:\n",
    "\n",
    "- **Patients with no education (39%)** and **high school graduates (35%)** show higher proportions of Alzheimer's diagnoses.\n",
    "- **Higher education levels**, such as Bachelor's or above, are associated with lower diagnosis rates (around **31-34%**).\n",
    "- The dataset contains more patients from lower education groups, which might lead the model to place more weight on these groups when making predictions.\n",
    "\n",
    "The model is likely to consider **lower education levels** as a key indicator of Alzheimer's diagnosis. However, it's essential to balance this with other important features to avoid bias in the predictions."
   ]
  },
  {
   "cell_type": "code",
   "execution_count": 16,
   "id": "34c08067-1787-4074-9a4e-64e1b28c97b4",
   "metadata": {},
   "outputs": [
    {
     "data": {
      "text/html": [
       "<div>\n",
       "<style scoped>\n",
       "    .dataframe tbody tr th:only-of-type {\n",
       "        vertical-align: middle;\n",
       "    }\n",
       "\n",
       "    .dataframe tbody tr th {\n",
       "        vertical-align: top;\n",
       "    }\n",
       "\n",
       "    .dataframe thead th {\n",
       "        text-align: right;\n",
       "    }\n",
       "</style>\n",
       "<table border=\"1\" class=\"dataframe\">\n",
       "  <thead>\n",
       "    <tr style=\"text-align: right;\">\n",
       "      <th></th>\n",
       "      <th>size</th>\n",
       "      <th>sum</th>\n",
       "      <th>mean</th>\n",
       "    </tr>\n",
       "  </thead>\n",
       "  <tbody>\n",
       "    <tr>\n",
       "      <th>None</th>\n",
       "      <td>446</td>\n",
       "      <td>174</td>\n",
       "      <td>0.390135</td>\n",
       "    </tr>\n",
       "    <tr>\n",
       "      <th>Highschool</th>\n",
       "      <td>854</td>\n",
       "      <td>302</td>\n",
       "      <td>0.353630</td>\n",
       "    </tr>\n",
       "    <tr>\n",
       "      <th>Bachelor's</th>\n",
       "      <td>636</td>\n",
       "      <td>217</td>\n",
       "      <td>0.341195</td>\n",
       "    </tr>\n",
       "    <tr>\n",
       "      <th>Higher</th>\n",
       "      <td>213</td>\n",
       "      <td>67</td>\n",
       "      <td>0.314554</td>\n",
       "    </tr>\n",
       "  </tbody>\n",
       "</table>\n",
       "</div>"
      ],
      "text/plain": [
       "            size  sum      mean\n",
       "None         446  174  0.390135\n",
       "Highschool   854  302  0.353630\n",
       "Bachelor's   636  217  0.341195\n",
       "Higher       213   67  0.314554"
      ]
     },
     "execution_count": 16,
     "metadata": {},
     "output_type": "execute_result"
    }
   ],
   "source": [
    "education_labels = [\"None\", \"Highschool\", \"Bachelor's\", \"Higher\"]\n",
    "education_impact_on_alzheimer = df.groupby(\"EducationLevel\")[\"Diagnosis\"].agg([\"size\", \"sum\", \"mean\"])\n",
    "education_impact_on_alzheimer.index = education_labels\n",
    "education_impact_on_alzheimer"
   ]
  },
  {
   "cell_type": "code",
   "execution_count": 17,
   "id": "4c53572b-deed-4d5c-815f-329ec8f28f18",
   "metadata": {},
   "outputs": [
    {
     "data": {
      "text/html": [
       "<div>\n",
       "<style scoped>\n",
       "    .dataframe tbody tr th:only-of-type {\n",
       "        vertical-align: middle;\n",
       "    }\n",
       "\n",
       "    .dataframe tbody tr th {\n",
       "        vertical-align: top;\n",
       "    }\n",
       "\n",
       "    .dataframe thead th {\n",
       "        text-align: right;\n",
       "    }\n",
       "</style>\n",
       "<table border=\"1\" class=\"dataframe\">\n",
       "  <thead>\n",
       "    <tr style=\"text-align: right;\">\n",
       "      <th>Diagnosis</th>\n",
       "      <th>0</th>\n",
       "      <th>1</th>\n",
       "    </tr>\n",
       "    <tr>\n",
       "      <th>EducationLevel</th>\n",
       "      <th></th>\n",
       "      <th></th>\n",
       "    </tr>\n",
       "  </thead>\n",
       "  <tbody>\n",
       "    <tr>\n",
       "      <th>0</th>\n",
       "      <td>272</td>\n",
       "      <td>174</td>\n",
       "    </tr>\n",
       "    <tr>\n",
       "      <th>1</th>\n",
       "      <td>552</td>\n",
       "      <td>302</td>\n",
       "    </tr>\n",
       "    <tr>\n",
       "      <th>2</th>\n",
       "      <td>419</td>\n",
       "      <td>217</td>\n",
       "    </tr>\n",
       "    <tr>\n",
       "      <th>3</th>\n",
       "      <td>146</td>\n",
       "      <td>67</td>\n",
       "    </tr>\n",
       "  </tbody>\n",
       "</table>\n",
       "</div>"
      ],
      "text/plain": [
       "Diagnosis         0    1\n",
       "EducationLevel          \n",
       "0               272  174\n",
       "1               552  302\n",
       "2               419  217\n",
       "3               146   67"
      ]
     },
     "execution_count": 17,
     "metadata": {},
     "output_type": "execute_result"
    }
   ],
   "source": [
    "df.groupby([\"EducationLevel\", \"Diagnosis\"]).size().unstack()"
   ]
  },
  {
   "cell_type": "code",
   "execution_count": 18,
   "id": "c0e25b1b-4fbf-4f9c-b30a-4e1e98f96bb7",
   "metadata": {},
   "outputs": [
    {
     "data": {
      "image/png": "[encoded data removed]",
      "text/plain": [
       "<Figure size 1000x600 with 1 Axes>"
      ]
     },
     "metadata": {},
     "output_type": "display_data"
    }
   ],
   "source": [
    "alzheimer_by_education_level = df.groupby([\"EducationLevel\", \"Diagnosis\"]).size().unstack()\n",
    "alzheimer_by_education_level.index = education_labels\n",
    "bars = alzheimer_by_education_level.plot(kind='bar', stacked=False, color=['lightblue', 'salmon'], figsize=(10,6))\n",
    "\n",
    "plt.title(\"Alzheimer Diagnosis by Education Level\", fontsize=14)\n",
    "plt.xlabel(\"Education Level\", fontsize=12)\n",
    "plt.ylabel(\"Number of Patients\", fontsize=12)\n",
    "plt.legend([\"Have not Alzheimer\", \"Have Alzheimer\"], loc=\"best\")\n",
    "\n",
    "plt.xticks(rotation=0)\n",
    "\n",
    "for container in bars.containers:\n",
    "    for bar in container:\n",
    "        height = bar.get_height()\n",
    "        plt.text(bar.get_x() + bar.get_width()/2, height/2, int(height), ha=\"center\", color=\"black\", weight=\"bold\", fontsize=12)\n",
    "\n",
    "plt.tight_layout()\n",
    "plt.show()"
   ]
  },
  {
   "cell_type": "markdown",
   "id": "21ada497-54f5-49f8-a588-b6af52ebe2f7",
   "metadata": {},
   "source": [
    "---\n",
    "### Summary of Alzheimer's Diagnosis by Ethnicity and Gender\n",
    "\n",
    "- **Ethnicity and Alzheimer's Diagnosis**:\n",
    "  - **Asian individuals** have the highest proportion of Alzheimer's diagnoses, with approximately **40.8%** of individuals diagnosed.\n",
    "  - **Caucasian individuals** also show a relatively high diagnosis rate, with **36.2%** diagnosed.\n",
    "  - **African American** and **Other ethnicities** have slightly lower diagnosis rates, with **32.2%** and **31.8%** respectively.\n",
    "  - In terms of absolute numbers, **Caucasian patients** make up the largest share of diagnosed Alzheimer's cases, accounting for **60.9%** of the total diagnosed patients.\n",
    "    \n",
    "<br>\n",
    "\n",
    "- **Gender Distribution**:\n",
    "  - The diagnosis rates between **male** and **female** patients are relatively close, showing no significant gender-based discrepancy in the dataset. Both genders appear to be nearly equally affected by Alzheimer's, suggesting that gender might not play a critical role in predicting diagnosis in this particular dataset.\n",
    "\n",
    "According to observations  **ethnicity** may be an important feature to consider in predicting Alzheimer's diagnosis. However, **gender**, due to its relatively equal distribution between diagnosed and non-diagnosed patients, may have a smaller impact on the model's predictive power. Further investigation incorporating other factors such as age, medical history, and lifestyle is recommended to build a more robust predictive model.\n"
   ]
  },
  {
   "cell_type": "code",
   "execution_count": 19,
   "id": "824c0293-3a72-4a70-8ea2-8ed30d9e74d0",
   "metadata": {},
   "outputs": [
    {
     "data": {
      "text/html": [
       "<div>\n",
       "<style scoped>\n",
       "    .dataframe tbody tr th:only-of-type {\n",
       "        vertical-align: middle;\n",
       "    }\n",
       "\n",
       "    .dataframe tbody tr th {\n",
       "        vertical-align: top;\n",
       "    }\n",
       "\n",
       "    .dataframe thead th {\n",
       "        text-align: right;\n",
       "    }\n",
       "</style>\n",
       "<table border=\"1\" class=\"dataframe\">\n",
       "  <thead>\n",
       "    <tr style=\"text-align: right;\">\n",
       "      <th></th>\n",
       "      <th></th>\n",
       "      <th>mean</th>\n",
       "      <th>sum</th>\n",
       "      <th>size</th>\n",
       "    </tr>\n",
       "    <tr>\n",
       "      <th>Ethnicity</th>\n",
       "      <th>Gender</th>\n",
       "      <th></th>\n",
       "      <th></th>\n",
       "      <th></th>\n",
       "    </tr>\n",
       "  </thead>\n",
       "  <tbody>\n",
       "    <tr>\n",
       "      <th rowspan=\"2\" valign=\"top\">African American</th>\n",
       "      <th>Male</th>\n",
       "      <td>0.321429</td>\n",
       "      <td>72</td>\n",
       "      <td>224</td>\n",
       "    </tr>\n",
       "    <tr>\n",
       "      <th>Female</th>\n",
       "      <td>0.321739</td>\n",
       "      <td>74</td>\n",
       "      <td>230</td>\n",
       "    </tr>\n",
       "    <tr>\n",
       "      <th rowspan=\"2\" valign=\"top\">Asian</th>\n",
       "      <th>Male</th>\n",
       "      <td>0.410526</td>\n",
       "      <td>39</td>\n",
       "      <td>95</td>\n",
       "    </tr>\n",
       "    <tr>\n",
       "      <th>Female</th>\n",
       "      <td>0.405405</td>\n",
       "      <td>45</td>\n",
       "      <td>111</td>\n",
       "    </tr>\n",
       "    <tr>\n",
       "      <th rowspan=\"2\" valign=\"top\">Caucasian</th>\n",
       "      <th>Male</th>\n",
       "      <td>0.378165</td>\n",
       "      <td>239</td>\n",
       "      <td>632</td>\n",
       "    </tr>\n",
       "    <tr>\n",
       "      <th>Female</th>\n",
       "      <td>0.346749</td>\n",
       "      <td>224</td>\n",
       "      <td>646</td>\n",
       "    </tr>\n",
       "    <tr>\n",
       "      <th rowspan=\"2\" valign=\"top\">Other</th>\n",
       "      <th>Male</th>\n",
       "      <td>0.327273</td>\n",
       "      <td>36</td>\n",
       "      <td>110</td>\n",
       "    </tr>\n",
       "    <tr>\n",
       "      <th>Female</th>\n",
       "      <td>0.306931</td>\n",
       "      <td>31</td>\n",
       "      <td>101</td>\n",
       "    </tr>\n",
       "  </tbody>\n",
       "</table>\n",
       "</div>"
      ],
      "text/plain": [
       "                             mean  sum  size\n",
       "Ethnicity        Gender                     \n",
       "African American Male    0.321429   72   224\n",
       "                 Female  0.321739   74   230\n",
       "Asian            Male    0.410526   39    95\n",
       "                 Female  0.405405   45   111\n",
       "Caucasian        Male    0.378165  239   632\n",
       "                 Female  0.346749  224   646\n",
       "Other            Male    0.327273   36   110\n",
       "                 Female  0.306931   31   101"
      ]
     },
     "execution_count": 19,
     "metadata": {},
     "output_type": "execute_result"
    }
   ],
   "source": [
    "ethnicity_gender_impact_on_alzheimer = df.groupby([\"Ethnicity\", \"Gender\"])[\"Diagnosis\"].agg([\"mean\", \"sum\", \"size\"])\n",
    "\n",
    "ethnicity_gender_impact_on_alzheimer.index = ethnicity_gender_impact_on_alzheimer.index.set_levels(\n",
    "    ethnicity_gender_impact_on_alzheimer.index.levels[1].map({0: 'Male', 1: 'Female'}), level=1)\n",
    "\n",
    "ethnicity_gender_impact_on_alzheimer"
   ]
  },
  {
   "cell_type": "code",
   "execution_count": 20,
   "id": "18cd6b5c-32df-4114-91ec-09e88edabd92",
   "metadata": {},
   "outputs": [
    {
     "data": {
      "text/html": [
       "<div>\n",
       "<style scoped>\n",
       "    .dataframe tbody tr th:only-of-type {\n",
       "        vertical-align: middle;\n",
       "    }\n",
       "\n",
       "    .dataframe tbody tr th {\n",
       "        vertical-align: top;\n",
       "    }\n",
       "\n",
       "    .dataframe thead th {\n",
       "        text-align: right;\n",
       "    }\n",
       "</style>\n",
       "<table border=\"1\" class=\"dataframe\">\n",
       "  <thead>\n",
       "    <tr style=\"text-align: right;\">\n",
       "      <th></th>\n",
       "      <th>mean</th>\n",
       "      <th>sum</th>\n",
       "      <th>size</th>\n",
       "    </tr>\n",
       "    <tr>\n",
       "      <th>Ethnicity</th>\n",
       "      <th></th>\n",
       "      <th></th>\n",
       "      <th></th>\n",
       "    </tr>\n",
       "  </thead>\n",
       "  <tbody>\n",
       "    <tr>\n",
       "      <th>Asian</th>\n",
       "      <td>0.407767</td>\n",
       "      <td>84</td>\n",
       "      <td>206</td>\n",
       "    </tr>\n",
       "    <tr>\n",
       "      <th>Caucasian</th>\n",
       "      <td>0.362285</td>\n",
       "      <td>463</td>\n",
       "      <td>1278</td>\n",
       "    </tr>\n",
       "    <tr>\n",
       "      <th>African American</th>\n",
       "      <td>0.321586</td>\n",
       "      <td>146</td>\n",
       "      <td>454</td>\n",
       "    </tr>\n",
       "    <tr>\n",
       "      <th>Other</th>\n",
       "      <td>0.317536</td>\n",
       "      <td>67</td>\n",
       "      <td>211</td>\n",
       "    </tr>\n",
       "  </tbody>\n",
       "</table>\n",
       "</div>"
      ],
      "text/plain": [
       "                      mean  sum  size\n",
       "Ethnicity                            \n",
       "Asian             0.407767   84   206\n",
       "Caucasian         0.362285  463  1278\n",
       "African American  0.321586  146   454\n",
       "Other             0.317536   67   211"
      ]
     },
     "execution_count": 20,
     "metadata": {},
     "output_type": "execute_result"
    }
   ],
   "source": [
    "df.groupby(\"Ethnicity\")[\"Diagnosis\"].agg([\"mean\", \"sum\", \"size\"]).sort_values(\"mean\", ascending=False)"
   ]
  },
  {
   "cell_type": "code",
   "execution_count": 21,
   "id": "95aefa07",
   "metadata": {},
   "outputs": [
    {
     "data": {
      "text/html": [
       "<div>\n",
       "<style scoped>\n",
       "    .dataframe tbody tr th:only-of-type {\n",
       "        vertical-align: middle;\n",
       "    }\n",
       "\n",
       "    .dataframe tbody tr th {\n",
       "        vertical-align: top;\n",
       "    }\n",
       "\n",
       "    .dataframe thead th {\n",
       "        text-align: right;\n",
       "    }\n",
       "</style>\n",
       "<table border=\"1\" class=\"dataframe\">\n",
       "  <thead>\n",
       "    <tr style=\"text-align: right;\">\n",
       "      <th></th>\n",
       "      <th>proportion</th>\n",
       "    </tr>\n",
       "    <tr>\n",
       "      <th>Ethnicity</th>\n",
       "      <th></th>\n",
       "    </tr>\n",
       "  </thead>\n",
       "  <tbody>\n",
       "    <tr>\n",
       "      <th>Caucasian</th>\n",
       "      <td>60.921053</td>\n",
       "    </tr>\n",
       "    <tr>\n",
       "      <th>African American</th>\n",
       "      <td>19.210526</td>\n",
       "    </tr>\n",
       "    <tr>\n",
       "      <th>Asian</th>\n",
       "      <td>11.052632</td>\n",
       "    </tr>\n",
       "    <tr>\n",
       "      <th>Other</th>\n",
       "      <td>8.815789</td>\n",
       "    </tr>\n",
       "  </tbody>\n",
       "</table>\n",
       "</div>"
      ],
      "text/plain": [
       "                  proportion\n",
       "Ethnicity                   \n",
       "Caucasian          60.921053\n",
       "African American   19.210526\n",
       "Asian              11.052632\n",
       "Other               8.815789"
      ]
     },
     "execution_count": 21,
     "metadata": {},
     "output_type": "execute_result"
    }
   ],
   "source": [
    "alzheimers_df = df[df['Diagnosis'] == 1]\n",
    "ethnicity_percentage = alzheimers_df['Ethnicity'].value_counts(normalize=True) * 100\n",
    "ethnicity_percentage.to_frame()"
   ]
  },
  {
   "cell_type": "code",
   "execution_count": 22,
   "id": "b5c4ab64-5a65-4e71-bc5e-03ce37b518ec",
   "metadata": {},
   "outputs": [
    {
     "data": {
      "text/plain": [
       "Ethnicity\n",
       "Caucasian           1278\n",
       "African American     454\n",
       "Other                211\n",
       "Asian                206\n",
       "Name: count, dtype: int64"
      ]
     },
     "execution_count": 22,
     "metadata": {},
     "output_type": "execute_result"
    }
   ],
   "source": [
    "ethnicity_counts = df.Ethnicity.value_counts()\n",
    "ethnicity_counts"
   ]
  },
  {
   "cell_type": "code",
   "execution_count": 23,
   "id": "96febf35-253c-4f71-abbf-d163ad09fdd7",
   "metadata": {},
   "outputs": [
    {
     "data": {
      "image/png": "[encoded data removed]",
      "text/plain": [
       "<Figure size 800x600 with 1 Axes>"
      ]
     },
     "metadata": {},
     "output_type": "display_data"
    }
   ],
   "source": [
    "plt.figure(figsize=(8,6))\n",
    "bars = plt.bar(ethnicity_counts.index, ethnicity_counts.values, color=\"indigo\")\n",
    "\n",
    "plt.title(\"Number of Alzheimer's Diagnoses by Ethnicity\", fontsize=14)\n",
    "plt.xlabel(\"Ethnicity\", fontsize=12)\n",
    "plt.ylabel(\"Number of Patients\", fontsize=12)\n",
    "\n",
    "# Adding the count values to the middle of the bars\n",
    "for bar in bars:\n",
    "    height = bar.get_height()\n",
    "    plt.text(bar.get_x() + bar.get_width()/2, height / 2, int(height), ha=\"center\", color=\"white\", weight=\"bold\", fontsize=12)\n",
    "\n",
    "plt.tight_layout()\n",
    "plt.show()"
   ]
  },
  {
   "cell_type": "markdown",
   "id": "11dab3d7-3e17-450f-b226-78067c75b69e",
   "metadata": {},
   "source": [
    "---\n",
    "### Summary of Alzheimer's Diagnosis by Familiy History\n",
    "- **Without Family History**: \n",
    "  - **64%** are not diagnosed with Alzheimer's.\n",
    "  - **36%** are diagnosed.\n",
    "\n",
    "- **With Family History**: \n",
    "  - **67%** are not diagnosed with Alzheimer's.\n",
    "  - **33%** are diagnosed.\n",
    "\n",
    "While family history has some impact, the proportions of Alzheimer's diagnosis are fairly similar between the two groups, which means that family history alone may not be a strong predictor in this dataset."
   ]
  },
  {
   "cell_type": "code",
   "execution_count": 24,
   "id": "71e6adee-6e20-4ec9-a8ef-99b2964cad3d",
   "metadata": {},
   "outputs": [
    {
     "data": {
      "text/html": [
       "<div>\n",
       "<style scoped>\n",
       "    .dataframe tbody tr th:only-of-type {\n",
       "        vertical-align: middle;\n",
       "    }\n",
       "\n",
       "    .dataframe tbody tr th {\n",
       "        vertical-align: top;\n",
       "    }\n",
       "\n",
       "    .dataframe thead th {\n",
       "        text-align: right;\n",
       "    }\n",
       "</style>\n",
       "<table border=\"1\" class=\"dataframe\">\n",
       "  <thead>\n",
       "    <tr style=\"text-align: right;\">\n",
       "      <th></th>\n",
       "      <th>size</th>\n",
       "      <th>sum</th>\n",
       "      <th>mean</th>\n",
       "    </tr>\n",
       "    <tr>\n",
       "      <th>FamilyHistoryAlzheimers</th>\n",
       "      <th></th>\n",
       "      <th></th>\n",
       "      <th></th>\n",
       "    </tr>\n",
       "  </thead>\n",
       "  <tbody>\n",
       "    <tr>\n",
       "      <th>0</th>\n",
       "      <td>1607</td>\n",
       "      <td>583</td>\n",
       "      <td>0.362788</td>\n",
       "    </tr>\n",
       "    <tr>\n",
       "      <th>1</th>\n",
       "      <td>542</td>\n",
       "      <td>177</td>\n",
       "      <td>0.326568</td>\n",
       "    </tr>\n",
       "  </tbody>\n",
       "</table>\n",
       "</div>"
      ],
      "text/plain": [
       "                         size  sum      mean\n",
       "FamilyHistoryAlzheimers                     \n",
       "0                        1607  583  0.362788\n",
       "1                         542  177  0.326568"
      ]
     },
     "execution_count": 24,
     "metadata": {},
     "output_type": "execute_result"
    }
   ],
   "source": [
    "df.groupby(\"FamilyHistoryAlzheimers\")[\"Diagnosis\"].agg([\"size\", \"sum\", \"mean\"])"
   ]
  },
  {
   "cell_type": "code",
   "execution_count": 25,
   "id": "007230f8-49df-4e27-b3eb-6e24dc36e462",
   "metadata": {},
   "outputs": [
    {
     "data": {
      "image/png": "[encoded data removed]",
      "text/plain": [
       "<Figure size 1000x600 with 1 Axes>"
      ]
     },
     "metadata": {},
     "output_type": "display_data"
    }
   ],
   "source": [
    "crosstab = pd.crosstab(df.FamilyHistoryAlzheimers, df.Diagnosis, normalize=\"index\") * 100\n",
    "crosstab.columns = [\"Patient Alzheimer Negative\", \"Patient Alzheimer Positive\"]\n",
    "crosstab.index = [\"Familiy Alzheimer Negative\", \"Familiy Alzheimer Positive\"]\n",
    "\n",
    "ax = crosstab.plot(kind=\"bar\", stacked=True, color=[\"#F79F1F\", \"#EE5A24\"], figsize=(10, 6))\n",
    "\n",
    "plt.title(\"Diagnosis vs. Family History of Alzheimer's, percentages\", fontsize=14)\n",
    "plt.xlabel(\"Family History of Alzheimer's\", fontsize=12)\n",
    "plt.ylabel(\"Percentage\", fontsize=12)\n",
    "plt.xticks(rotation=0)\n",
    "\n",
    "\n",
    "for p in ax.patches:\n",
    "    height = p.get_height()\n",
    "    if height > 0:\n",
    "        position = p.get_y() + height / 2 if p.get_y() == 0 else p.get_y() + height - 5\n",
    "        ax.annotate(f'{height:.0f}%', \n",
    "                    (p.get_x() + p.get_width() / 2., position),\n",
    "                    ha=\"center\", va=\"center\", color=\"black\", fontsize=12, weight=\"bold\")\n",
    "        \n",
    "plt.tight_layout()\n",
    "plt.legend(loc=\"best\")\n",
    "plt.show()"
   ]
  },
  {
   "cell_type": "markdown",
   "id": "0ec099fa-3b7d-49ee-a9b4-9bdfb649619a",
   "metadata": {},
   "source": [
    "---"
   ]
  },
  {
   "cell_type": "code",
   "execution_count": 26,
   "id": "2f58cfae-ec98-4c2b-83f6-f2cf9263f460",
   "metadata": {},
   "outputs": [],
   "source": [
    "# Patients who have alzheimer\n",
    "alzheimer_df = df[df.Diagnosis == 1]"
   ]
  },
  {
   "cell_type": "markdown",
   "id": "669b6b33-082e-4715-b6ec-4a4e9bbd4136",
   "metadata": {},
   "source": [
    "### Memory Complaints vs Alzheimer Diagnosis\n",
    "\n",
    "The analysis reveals that among patients who answered \"yes\" to the Memory Complaints question, approximately 64% have been diagnosed with Alzheimer's, while 36% have not received such a diagnosis. This indicates a significant association between reporting memory complaints and the likelihood of being diagnosed with Alzheimer's.\n",
    "\n",
    "Moreover, 37.6% of all Alzheimer-diagnosed patients reported memory complaints, meaning the majority (62.4%) of diagnosed patients did not report such issues. \n",
    "\n",
    "In conclusion, the Memory Complaints feature demonstrates considerable predictive value for Alzheimer's diagnosis and should be treated as a key variable in any predictive model. Its inclusion in the model is likely to enhance the accuracy of predictions related to Alzheimer's diagnosis."
   ]
  },
  {
   "cell_type": "code",
   "execution_count": 27,
   "id": "30f51528-f335-4daf-9416-8988e82efba5",
   "metadata": {},
   "outputs": [
    {
     "data": {
      "text/html": [
       "<div>\n",
       "<style scoped>\n",
       "    .dataframe tbody tr th:only-of-type {\n",
       "        vertical-align: middle;\n",
       "    }\n",
       "\n",
       "    .dataframe tbody tr th {\n",
       "        vertical-align: top;\n",
       "    }\n",
       "\n",
       "    .dataframe thead th {\n",
       "        text-align: right;\n",
       "    }\n",
       "</style>\n",
       "<table border=\"1\" class=\"dataframe\">\n",
       "  <thead>\n",
       "    <tr style=\"text-align: right;\">\n",
       "      <th></th>\n",
       "      <th>size</th>\n",
       "      <th>sum</th>\n",
       "      <th>mean</th>\n",
       "    </tr>\n",
       "    <tr>\n",
       "      <th>MemoryComplaints</th>\n",
       "      <th></th>\n",
       "      <th></th>\n",
       "      <th></th>\n",
       "    </tr>\n",
       "  </thead>\n",
       "  <tbody>\n",
       "    <tr>\n",
       "      <th>0</th>\n",
       "      <td>1702</td>\n",
       "      <td>474</td>\n",
       "      <td>0.278496</td>\n",
       "    </tr>\n",
       "    <tr>\n",
       "      <th>1</th>\n",
       "      <td>447</td>\n",
       "      <td>286</td>\n",
       "      <td>0.639821</td>\n",
       "    </tr>\n",
       "  </tbody>\n",
       "</table>\n",
       "</div>"
      ],
      "text/plain": [
       "                  size  sum      mean\n",
       "MemoryComplaints                     \n",
       "0                 1702  474  0.278496\n",
       "1                  447  286  0.639821"
      ]
     },
     "execution_count": 27,
     "metadata": {},
     "output_type": "execute_result"
    }
   ],
   "source": [
    "df.groupby(\"MemoryComplaints\")[\"Diagnosis\"].agg([\"size\", \"sum\", \"mean\"])"
   ]
  },
  {
   "cell_type": "code",
   "execution_count": 28,
   "id": "3a2fd578-610a-40c6-b8d1-26c80e777c85",
   "metadata": {},
   "outputs": [
    {
     "data": {
      "text/html": [
       "<div>\n",
       "<style scoped>\n",
       "    .dataframe tbody tr th:only-of-type {\n",
       "        vertical-align: middle;\n",
       "    }\n",
       "\n",
       "    .dataframe tbody tr th {\n",
       "        vertical-align: top;\n",
       "    }\n",
       "\n",
       "    .dataframe thead th {\n",
       "        text-align: right;\n",
       "    }\n",
       "</style>\n",
       "<table border=\"1\" class=\"dataframe\">\n",
       "  <thead>\n",
       "    <tr style=\"text-align: right;\">\n",
       "      <th>Diagnosis</th>\n",
       "      <th>0</th>\n",
       "      <th>1</th>\n",
       "    </tr>\n",
       "    <tr>\n",
       "      <th>MemoryComplaints</th>\n",
       "      <th></th>\n",
       "      <th></th>\n",
       "    </tr>\n",
       "  </thead>\n",
       "  <tbody>\n",
       "    <tr>\n",
       "      <th>0</th>\n",
       "      <td>0.721504</td>\n",
       "      <td>0.278496</td>\n",
       "    </tr>\n",
       "    <tr>\n",
       "      <th>1</th>\n",
       "      <td>0.360179</td>\n",
       "      <td>0.639821</td>\n",
       "    </tr>\n",
       "  </tbody>\n",
       "</table>\n",
       "</div>"
      ],
      "text/plain": [
       "Diagnosis                0         1\n",
       "MemoryComplaints                    \n",
       "0                 0.721504  0.278496\n",
       "1                 0.360179  0.639821"
      ]
     },
     "execution_count": 28,
     "metadata": {},
     "output_type": "execute_result"
    }
   ],
   "source": [
    "memory_complaints_crostab = pd.crosstab(df.MemoryComplaints, df.Diagnosis, normalize=\"index\")\n",
    "memory_complaints_crostab"
   ]
  },
  {
   "cell_type": "code",
   "execution_count": 29,
   "id": "7ad1d05e-9bb3-4cd7-9d22-51cb8ddd4976",
   "metadata": {},
   "outputs": [
    {
     "data": {
      "text/plain": [
       "MemoryComplaints\n",
       "0    0.623684\n",
       "1    0.376316\n",
       "Name: proportion, dtype: float64"
      ]
     },
     "execution_count": 29,
     "metadata": {},
     "output_type": "execute_result"
    }
   ],
   "source": [
    "memory_complaints_posalz_distribution = alzheimer_df.MemoryComplaints.value_counts(normalize=True)\n",
    "memory_complaints_posalz_distribution"
   ]
  },
  {
   "cell_type": "code",
   "execution_count": 30,
   "id": "0394e4af-c636-490e-a782-c3636347fd6b",
   "metadata": {},
   "outputs": [
    {
     "data": {
      "image/png": "[encoded data removed]",
      "text/plain": [
       "<Figure size 1000x800 with 2 Axes>"
      ]
     },
     "metadata": {},
     "output_type": "display_data"
    }
   ],
   "source": [
    "plt.figure(figsize=(10, 8))\n",
    "\n",
    "plt.subplot(2, 1, 1)\n",
    "plt.title(\"Alzheimer's Diagnosis for Individuals with Memory Complaints\", fontsize=14)\n",
    "plt.pie(memory_complaints_crostab.loc[1], labels=[\"Alzheimer Negative\", \"Alzheimer Positive\"], autopct=\"%1.1f%%\", \n",
    "        colors=[\"lightblue\", \"lightcoral\"], startangle=90, textprops={\"fontsize\": 12})\n",
    "\n",
    "plt.subplot(2, 1, 2)\n",
    "plt.title(\"Distribution of Memory Complaints in Alzheimer Diagnosed Patients\", fontsize=14)\n",
    "plt.pie(memory_complaints_posalz_distribution, labels=[\"No Memory Complaints\", \"Memory Complaints\"], autopct=\"%1.1f%%\", \n",
    "        colors=[\"lightgreen\", \"salmon\"], startangle=180, textprops={\"fontsize\": 12})\n",
    "\n",
    "plt.tight_layout()\n",
    "plt.show()"
   ]
  },
  {
   "cell_type": "markdown",
   "id": "458da883-fc12-42fd-925f-e73192062215",
   "metadata": {},
   "source": [
    "---\n",
    "### BehavioralProblems vs Alzheimer Diagnosis\n",
    "\n",
    "The analysis reveals that among patients who answered \"yes\" to the Behavioral Problems question, approximately 60.2% have been diagnosed with Alzheimer's, while 39.8% have not received such a diagnosis.\n",
    "\n",
    "Moreover, 37.6% of all Alzheimer-diagnosed patients reported behavioral problems, meaning the majority (62.4%) of diagnosed patients did not report such issues.\n",
    "\n",
    "The Behavioral Problems feature demonstrates predictive value for Alzheimer's diagnosis, but given the distribution, it should be considered alongside other features in a predictive model. Its inclusion may enhance the model’s accuracy in predicting Alzheimer's diagnosis, but it is not a standalone determinant."
   ]
  },
  {
   "cell_type": "code",
   "execution_count": 31,
   "id": "928937eb-d6db-4f49-8990-20a1264db934",
   "metadata": {},
   "outputs": [
    {
     "data": {
      "text/html": [
       "<div>\n",
       "<style scoped>\n",
       "    .dataframe tbody tr th:only-of-type {\n",
       "        vertical-align: middle;\n",
       "    }\n",
       "\n",
       "    .dataframe tbody tr th {\n",
       "        vertical-align: top;\n",
       "    }\n",
       "\n",
       "    .dataframe thead th {\n",
       "        text-align: right;\n",
       "    }\n",
       "</style>\n",
       "<table border=\"1\" class=\"dataframe\">\n",
       "  <thead>\n",
       "    <tr style=\"text-align: right;\">\n",
       "      <th></th>\n",
       "      <th>size</th>\n",
       "      <th>sum</th>\n",
       "      <th>mean</th>\n",
       "    </tr>\n",
       "    <tr>\n",
       "      <th>BehavioralProblems</th>\n",
       "      <th></th>\n",
       "      <th></th>\n",
       "      <th></th>\n",
       "    </tr>\n",
       "  </thead>\n",
       "  <tbody>\n",
       "    <tr>\n",
       "      <th>0</th>\n",
       "      <td>1812</td>\n",
       "      <td>557</td>\n",
       "      <td>0.307395</td>\n",
       "    </tr>\n",
       "    <tr>\n",
       "      <th>1</th>\n",
       "      <td>337</td>\n",
       "      <td>203</td>\n",
       "      <td>0.602374</td>\n",
       "    </tr>\n",
       "  </tbody>\n",
       "</table>\n",
       "</div>"
      ],
      "text/plain": [
       "                    size  sum      mean\n",
       "BehavioralProblems                     \n",
       "0                   1812  557  0.307395\n",
       "1                    337  203  0.602374"
      ]
     },
     "execution_count": 31,
     "metadata": {},
     "output_type": "execute_result"
    }
   ],
   "source": [
    "df.groupby(\"BehavioralProblems\")[\"Diagnosis\"].agg([\"size\", \"sum\", \"mean\"])"
   ]
  },
  {
   "cell_type": "code",
   "execution_count": 32,
   "id": "7f9408ff-039f-4b8e-a37d-ae72bdf9bcfc",
   "metadata": {},
   "outputs": [
    {
     "data": {
      "text/html": [
       "<div>\n",
       "<style scoped>\n",
       "    .dataframe tbody tr th:only-of-type {\n",
       "        vertical-align: middle;\n",
       "    }\n",
       "\n",
       "    .dataframe tbody tr th {\n",
       "        vertical-align: top;\n",
       "    }\n",
       "\n",
       "    .dataframe thead th {\n",
       "        text-align: right;\n",
       "    }\n",
       "</style>\n",
       "<table border=\"1\" class=\"dataframe\">\n",
       "  <thead>\n",
       "    <tr style=\"text-align: right;\">\n",
       "      <th>Diagnosis</th>\n",
       "      <th>0</th>\n",
       "      <th>1</th>\n",
       "    </tr>\n",
       "    <tr>\n",
       "      <th>BehavioralProblems</th>\n",
       "      <th></th>\n",
       "      <th></th>\n",
       "    </tr>\n",
       "  </thead>\n",
       "  <tbody>\n",
       "    <tr>\n",
       "      <th>0</th>\n",
       "      <td>0.692605</td>\n",
       "      <td>0.307395</td>\n",
       "    </tr>\n",
       "    <tr>\n",
       "      <th>1</th>\n",
       "      <td>0.397626</td>\n",
       "      <td>0.602374</td>\n",
       "    </tr>\n",
       "  </tbody>\n",
       "</table>\n",
       "</div>"
      ],
      "text/plain": [
       "Diagnosis                  0         1\n",
       "BehavioralProblems                    \n",
       "0                   0.692605  0.307395\n",
       "1                   0.397626  0.602374"
      ]
     },
     "execution_count": 32,
     "metadata": {},
     "output_type": "execute_result"
    }
   ],
   "source": [
    "behavioral_problems_crostab = pd.crosstab(df.BehavioralProblems, df.Diagnosis, normalize=\"index\")\n",
    "behavioral_problems_crostab"
   ]
  },
  {
   "cell_type": "code",
   "execution_count": 33,
   "id": "4a00547d-93f3-4e3b-b71c-4624af49e146",
   "metadata": {},
   "outputs": [
    {
     "data": {
      "text/plain": [
       "BehavioralProblems\n",
       "0    0.732895\n",
       "1    0.267105\n",
       "Name: proportion, dtype: float64"
      ]
     },
     "execution_count": 33,
     "metadata": {},
     "output_type": "execute_result"
    }
   ],
   "source": [
    "behavioral_problems_posalz_distribution = alzheimer_df.BehavioralProblems.value_counts(normalize=True)\n",
    "behavioral_problems_posalz_distribution"
   ]
  },
  {
   "cell_type": "code",
   "execution_count": 34,
   "id": "daf74330-b17f-4b90-bf00-ae6462725298",
   "metadata": {},
   "outputs": [
    {
     "data": {
      "image/png": "[encoded data removed]",
      "text/plain": [
       "<Figure size 1000x800 with 2 Axes>"
      ]
     },
     "metadata": {},
     "output_type": "display_data"
    }
   ],
   "source": [
    "plt.figure(figsize=(10, 8))\n",
    "\n",
    "plt.subplot(2, 1, 1)\n",
    "plt.title(\"Alzheimer's Diagnosis for Individuals with Behavioral Problems\", fontsize=14)\n",
    "plt.pie(behavioral_problems_crostab.loc[1], labels=[\"Alzheimer Negative\", \"Alzheimer Positive\"], autopct=\"%1.1f%%\", \n",
    "        colors=[\"lightblue\", \"lightcoral\"], startangle=90, textprops={\"fontsize\": 12})\n",
    "\n",
    "plt.subplot(2, 1, 2)\n",
    "plt.title(\"Distribution of Behavioral Problems in Alzheimer Diagnosed Patients\", fontsize=14)\n",
    "plt.pie(memory_complaints_posalz_distribution, labels=[\"No Behavioral Problems\", \"Behavioral Problems\"], autopct=\"%1.1f%%\", \n",
    "        colors=[\"lightgreen\", \"salmon\"], startangle=180, textprops={\"fontsize\": 12})\n",
    "\n",
    "plt.tight_layout()\n",
    "plt.show()"
   ]
  },
  {
   "cell_type": "markdown",
   "id": "4debf5a6-36be-4bd1-98f1-dc38fd804784",
   "metadata": {},
   "source": [
    "---\n",
    "### Forgetfulness vs Alzheimer Diagnosis\n",
    "\n",
    "Contrary to expectations, forgetfulness was not strongly associated with higher rates of Alzheimer’s in this dataset. Several factors may explain why forgetfulness did not emerge as a strong predictor of Alzheimer’s:\n",
    "\n",
    "1. **Nonspecific Symptom**: Forgetfulness is a common symptom that can result from various factors unrelated to Alzheimer's, such as stress, aging, or other health conditions. Its nonspecific nature means it may not serve as a reliable indicator of Alzheimer’s in its early stages.\n",
    "\n",
    "2. **Other More Prominent Symptoms**: Symptoms like **disorientation, confusion, or personality changes** may be more noticeable early on, making them stronger predictors than forgetfulness.\n",
    "\n",
    "3. **Later-stage Relevance**: Forgetfulness might become more relevant in the later stages of Alzheimer’s, while other symptoms dominate the early stages of the disease.\n",
    "\n",
    "4. **Underreporting**: Forgetfulness could be **underreported**, as patients may not always recognize or acknowledge memory issues, especially in the early stages of cognitive decline.\n",
    "\n",
    "5. **Variable Disease Progression**: Alzheimer’s presents differently across individuals. For some, forgetfulness may emerge later in the disease, while for others, it may appear earlier.\n",
    "\n",
    "These factors likely explain why forgetfulness alone was not a strong predictor in this dataset and should be considered alongside other cognitive symptoms to add more value in predicting Alzheimer’s.\n"
   ]
  },
  {
   "cell_type": "code",
   "execution_count": 35,
   "id": "2b7b5548-3d60-4204-9ccd-54e91abc9ede",
   "metadata": {},
   "outputs": [
    {
     "data": {
      "text/html": [
       "<div>\n",
       "<style scoped>\n",
       "    .dataframe tbody tr th:only-of-type {\n",
       "        vertical-align: middle;\n",
       "    }\n",
       "\n",
       "    .dataframe tbody tr th {\n",
       "        vertical-align: top;\n",
       "    }\n",
       "\n",
       "    .dataframe thead th {\n",
       "        text-align: right;\n",
       "    }\n",
       "</style>\n",
       "<table border=\"1\" class=\"dataframe\">\n",
       "  <thead>\n",
       "    <tr style=\"text-align: right;\">\n",
       "      <th></th>\n",
       "      <th>size</th>\n",
       "      <th>sum</th>\n",
       "      <th>mean</th>\n",
       "    </tr>\n",
       "    <tr>\n",
       "      <th>Forgetfulness</th>\n",
       "      <th></th>\n",
       "      <th></th>\n",
       "      <th></th>\n",
       "    </tr>\n",
       "  </thead>\n",
       "  <tbody>\n",
       "    <tr>\n",
       "      <th>0</th>\n",
       "      <td>1501</td>\n",
       "      <td>531</td>\n",
       "      <td>0.353764</td>\n",
       "    </tr>\n",
       "    <tr>\n",
       "      <th>1</th>\n",
       "      <td>648</td>\n",
       "      <td>229</td>\n",
       "      <td>0.353395</td>\n",
       "    </tr>\n",
       "  </tbody>\n",
       "</table>\n",
       "</div>"
      ],
      "text/plain": [
       "               size  sum      mean\n",
       "Forgetfulness                     \n",
       "0              1501  531  0.353764\n",
       "1               648  229  0.353395"
      ]
     },
     "execution_count": 35,
     "metadata": {},
     "output_type": "execute_result"
    }
   ],
   "source": [
    "df.groupby(\"Forgetfulness\")[\"Diagnosis\"].agg([\"size\", \"sum\", \"mean\"])"
   ]
  },
  {
   "cell_type": "code",
   "execution_count": 36,
   "id": "9a5df742-76d0-4665-bfde-be0009b527ab",
   "metadata": {},
   "outputs": [
    {
     "data": {
      "text/html": [
       "<div>\n",
       "<style scoped>\n",
       "    .dataframe tbody tr th:only-of-type {\n",
       "        vertical-align: middle;\n",
       "    }\n",
       "\n",
       "    .dataframe tbody tr th {\n",
       "        vertical-align: top;\n",
       "    }\n",
       "\n",
       "    .dataframe thead th {\n",
       "        text-align: right;\n",
       "    }\n",
       "</style>\n",
       "<table border=\"1\" class=\"dataframe\">\n",
       "  <thead>\n",
       "    <tr style=\"text-align: right;\">\n",
       "      <th>Diagnosis</th>\n",
       "      <th>0</th>\n",
       "      <th>1</th>\n",
       "    </tr>\n",
       "    <tr>\n",
       "      <th>Forgetfulness</th>\n",
       "      <th></th>\n",
       "      <th></th>\n",
       "    </tr>\n",
       "  </thead>\n",
       "  <tbody>\n",
       "    <tr>\n",
       "      <th>0</th>\n",
       "      <td>64.623584</td>\n",
       "      <td>35.376416</td>\n",
       "    </tr>\n",
       "    <tr>\n",
       "      <th>1</th>\n",
       "      <td>64.660494</td>\n",
       "      <td>35.339506</td>\n",
       "    </tr>\n",
       "  </tbody>\n",
       "</table>\n",
       "</div>"
      ],
      "text/plain": [
       "Diagnosis              0          1\n",
       "Forgetfulness                      \n",
       "0              64.623584  35.376416\n",
       "1              64.660494  35.339506"
      ]
     },
     "execution_count": 36,
     "metadata": {},
     "output_type": "execute_result"
    }
   ],
   "source": [
    "pd.crosstab(df.Forgetfulness, df.Diagnosis, normalize=\"index\") * 100"
   ]
  },
  {
   "cell_type": "code",
   "execution_count": 37,
   "id": "64e554e7-5eff-45a7-a9cd-ce8569e8908a",
   "metadata": {},
   "outputs": [
    {
     "data": {
      "text/plain": [
       "Forgetfulness\n",
       "0    0.698684\n",
       "1    0.301316\n",
       "Name: proportion, dtype: float64"
      ]
     },
     "execution_count": 37,
     "metadata": {},
     "output_type": "execute_result"
    }
   ],
   "source": [
    "alzheimer_df.Forgetfulness.value_counts(normalize=True)"
   ]
  },
  {
   "cell_type": "markdown",
   "id": "4d572b52-14ea-4c2d-bde9-795dea2bad18",
   "metadata": {},
   "source": [
    "---\n",
    "### Numerical Data Distribution Analysis\n",
    "\n",
    "Upon analyzing the histograms, it can be observed that the numerical features exhibit distributions close to **uniform**. The data points are spread relatively evenly across the ranges, indicating that no particular value range dominates the distribution. Additionally, it can be stated that **no significant outliers** are present in the data, as the distributions do not show any extreme deviations. This suggests that the numerical data is well-distributed and suitable for further analysis."
   ]
  },
  {
   "cell_type": "code",
   "execution_count": 38,
   "id": "c7194e59-c09b-4691-9f8f-a6eec092f225",
   "metadata": {},
   "outputs": [
    {
     "data": {
      "image/png": "[encoded data removed]",
      "text/plain": [
       "<Figure size 1400x2500 with 15 Axes>"
      ]
     },
     "metadata": {},
     "output_type": "display_data"
    }
   ],
   "source": [
    "number_of_rows =  len(numerical_columns) // 3\n",
    "colors = sns.color_palette(\"Spectral\", len(numerical_columns))\n",
    "\n",
    "plt.figure(figsize=(14, number_of_rows * 5))\n",
    "for i, column in enumerate(numerical_columns):\n",
    "    plt.subplot(number_of_rows, 3, i+1)\n",
    "    sns.histplot(df[column], kde=True, color=colors[i], edgecolor='black')\n",
    "    plt.title(f'Histogram of {column}', fontsize=14)\n",
    "    plt.xlabel(column, fontsize=12)\n",
    "    plt.ylabel('Frequency', fontsize=12)\n",
    "\n",
    "\n",
    "plt.tight_layout()\n",
    "plt.show()"
   ]
  },
  {
   "cell_type": "code",
   "execution_count": 51,
   "id": "5db0df7d-a6f1-41ea-b0e0-e4ea562708d7",
   "metadata": {},
   "outputs": [
    {
     "data": {
      "text/plain": [
       "['Gender',\n",
       " 'Ethnicity',\n",
       " 'EducationLevel',\n",
       " 'Smoking',\n",
       " 'FamilyHistoryAlzheimers',\n",
       " 'CardiovascularDisease',\n",
       " 'Diabetes',\n",
       " 'Depression',\n",
       " 'HeadInjury',\n",
       " 'Hypertension',\n",
       " 'MemoryComplaints',\n",
       " 'BehavioralProblems',\n",
       " 'Confusion',\n",
       " 'Disorientation',\n",
       " 'PersonalityChanges',\n",
       " 'DifficultyCompletingTasks',\n",
       " 'Forgetfulness',\n",
       " 'Diagnosis']"
      ]
     },
     "execution_count": 51,
     "metadata": {},
     "output_type": "execute_result"
    }
   ],
   "source": [
    "df.Ethnicity = df.Ethnicity.replace({\"Caucasian\": 0, \"African American\": 1, \"Asian\": 2, \"Other\": 3})\n",
    "\n",
    "\n",
    "\n",
    "mask = np.triu(np.ones_like(df[numerical_columns].corr(), dtype=bool))\n",
    "mask\n",
    "#df.Ethnicity = df.Ethnicity.replace({0: \"Caucasian\", 1: \"African American\", 2: \"Asian\", 3: \"Other\"})"
   ]
  },
  {
   "cell_type": "code",
   "execution_count": 47,
   "id": "11f82d4d-b33c-4efb-a259-cf6bc0e81d50",
   "metadata": {},
   "outputs": [
    {
     "data": {
      "text/plain": [
       "array([[ True,  True,  True,  True,  True,  True,  True,  True,  True,\n",
       "         True,  True,  True,  True,  True,  True],\n",
       "       [False,  True,  True,  True,  True,  True,  True,  True,  True,\n",
       "         True,  True,  True,  True,  True,  True],\n",
       "       [False, False,  True,  True,  True,  True,  True,  True,  True,\n",
       "         True,  True,  True,  True,  True,  True],\n",
       "       [False, False, False,  True,  True,  True,  True,  True,  True,\n",
       "         True,  True,  True,  True,  True,  True],\n",
       "       [False, False, False, False,  True,  True,  True,  True,  True,\n",
       "         True,  True,  True,  True,  True,  True],\n",
       "       [False, False, False, False, False,  True,  True,  True,  True,\n",
       "         True,  True,  True,  True,  True,  True],\n",
       "       [False, False, False, False, False, False,  True,  True,  True,\n",
       "         True,  True,  True,  True,  True,  True],\n",
       "       [False, False, False, False, False, False, False,  True,  True,\n",
       "         True,  True,  True,  True,  True,  True],\n",
       "       [False, False, False, False, False, False, False, False,  True,\n",
       "         True,  True,  True,  True,  True,  True],\n",
       "       [False, False, False, False, False, False, False, False, False,\n",
       "         True,  True,  True,  True,  True,  True],\n",
       "       [False, False, False, False, False, False, False, False, False,\n",
       "        False,  True,  True,  True,  True,  True],\n",
       "       [False, False, False, False, False, False, False, False, False,\n",
       "        False, False,  True,  True,  True,  True],\n",
       "       [False, False, False, False, False, False, False, False, False,\n",
       "        False, False, False,  True,  True,  True],\n",
       "       [False, False, False, False, False, False, False, False, False,\n",
       "        False, False, False, False,  True,  True],\n",
       "       [False, False, False, False, False, False, False, False, False,\n",
       "        False, False, False, False, False,  True]])"
      ]
     },
     "execution_count": 47,
     "metadata": {},
     "output_type": "execute_result"
    }
   ],
   "source": [
    "mask = np.triu(np.ones_like(df[numerical_columns].corr(), dtype=bool))\n",
    "mask"
   ]
  },
  {
   "cell_type": "markdown",
   "id": "90d8234e-9149-4552-8f68-3aa992894877",
   "metadata": {},
   "source": [
    "---\n",
    "# Feature Engineering\n",
    "### Outlier Detection Analysis\n",
    "\n",
    "When examining the boxplot for numerical values, we observe that the expectations set in the previous step are met, and **no outlier values** are detected. This confirms that the data distribution is clean and free of extreme values, making it suitable for further analysis without the need for additional outlier handling."
   ]
  },
  {
   "cell_type": "code",
   "execution_count": null,
   "id": "4ac7784a-6eee-4643-b01e-d2278a99c5c8",
   "metadata": {},
   "outputs": [],
   "source": [
    "fig = px.box(df, y=numerical_columns, title=\"Outlier Detection in Numerical Columns\", height=600, width=1000)\n",
    "fig.show()"
   ]
  },
  {
   "cell_type": "markdown",
   "id": "0f95d947-c3d2-46cf-a11c-19a318118288",
   "metadata": {},
   "source": [
    "---\n",
    "## Benchmarking & Feature Optimization\n",
    "\n",
    "In this section, we aim to optimize our dataset by adding and removing features. Given that our target variable is **Diagnosis** (a binary target), **logistic regression** is a suitable choice for modeling in this phase. The logistic regression model will allow us to evaluate the impact of each feature on predicting the **Diagnosis** variable and help guide feature selection for improved model performance."
   ]
  },
  {
   "cell_type": "code",
   "execution_count": null,
   "id": "9436287b-16bb-486d-96e7-9228ffb4cf09",
   "metadata": {},
   "outputs": [],
   "source": [
    "base_df = df.copy()\n",
    "base_df_dummy =  pd.get_dummies(base_df, drop_first=True)\n",
    "base_df_dummy.shape"
   ]
  },
  {
   "cell_type": "code",
   "execution_count": null,
   "id": "3a16dd24-558f-4362-99d4-a9171c5ebee1",
   "metadata": {},
   "outputs": [],
   "source": [
    "logreg = LogisticRegression(max_iter = 10000, penalty = None)\n",
    "\n",
    "X = base_df_dummy.drop(\"Diagnosis\", axis=1)\n",
    "y = base_df_dummy.Diagnosis\n",
    "\n",
    "X_train, X_valid, y_train, y_valid = train_test_split(X, y, test_size=0.2, random_state=42, stratify=y)\n",
    "\n",
    "#Cross Validation\n",
    "scores = cross_val_score(logreg, X_train, y_train, cv = 10, scoring = \"accuracy\")\n",
    "\n",
    "# Test Performance\n",
    "logreg.fit(X_train, y_train)\n",
    "y_pred = logreg.predict(X_valid)\n",
    "accuracy = accuracy_score(y_valid, y_pred)\n",
    "\n",
    "#Scores DataFrame Initializing\n",
    "results = pd.DataFrame([], columns=[\"Accuracy Mean (CV)\", \"Accuracy Std (CV)\", \"Accuracy Test\"])\n",
    "\n",
    "#Adding scores and accuracy into results DF\n",
    "results.loc[\"Base DF\"] = [scores.mean(), scores.std(), accuracy]"
   ]
  },
  {
   "cell_type": "code",
   "execution_count": null,
   "id": "f7be68e2-a861-4fd2-b308-29e6f9625dc3",
   "metadata": {},
   "outputs": [],
   "source": [
    "results"
   ]
  },
  {
   "cell_type": "markdown",
   "id": "28ddddf2-6489-416d-8b99-fa90ff5f51d7",
   "metadata": {},
   "source": [
    "The logistic regression model yielded a **cross-validation mean accuracy** of **83.6%** and a **test accuracy** of **82.1%**. The close alignment between the **CV mean** and **test accuracy** indicates that the model is generalizing well to unseen data, which is a positive sign for its robustness. The **low standard deviation (0.027)** from cross-validation further suggests that the model’s performance is consistent across different data splits. Moving forward, we aim to improve the accuracy score by exploring feature selection methods and other optimization techniques to enhance the model's predictive power."
   ]
  },
  {
   "cell_type": "markdown",
   "id": "4f8d8d99-9523-4ed2-b89d-116319943352",
   "metadata": {},
   "source": [
    "### SMOTE Oversampler\n",
    "\n",
    "Given that the **Diagnosis** target variable is distributed with approximately **64% Alzheimer Negative** and **36% Alzheimer Positive**, the **SMOTE oversampler** is applied to balance the classes and evaluate its impact on model performance. By oversampling the minority class, this approach aims to improve the model's ability to accurately predict Alzheimer-positive cases."
   ]
  },
  {
   "cell_type": "code",
   "execution_count": null,
   "id": "976ce320-83c0-4a7a-826c-2719fbb2bcdd",
   "metadata": {},
   "outputs": [],
   "source": [
    "# Initialize and apply SMOTE oversampler\n",
    "sampler = SMOTE()\n",
    "X_train_sampled , y_train_sampled = sampler.fit_resample(X_train, y_train)\n",
    "\n",
    "# Cross Validation\n",
    "scores = cross_val_score(logreg, X_train_sampled, y_train_sampled, cv=10, scoring=\"accuracy\")\n",
    "\n",
    "# Test Performance\n",
    "logreg.fit(X_train_sampled, y_train_sampled)\n",
    "y_pred = logreg.predict(X_valid)\n",
    "accuracy = accuracy_score(y_valid, y_pred)\n",
    "\n",
    "# Adding scores and accuracy into results DF\n",
    "results.loc[\"Base DF (SMOTE)\"] = [scores.mean(), scores.std(), accuracy]"
   ]
  },
  {
   "cell_type": "code",
   "execution_count": null,
   "id": "076450dd-585e-4219-92ed-f6e7a86d2eba",
   "metadata": {},
   "outputs": [],
   "source": [
    "results"
   ]
  },
  {
   "cell_type": "markdown",
   "id": "f161919f-70cc-4042-a246-b441435addbb",
   "metadata": {},
   "source": [
    "- **CV Accuracy (Mean)**: SMOTE reduced cross-validation accuracy from **0.8359** to **0.8250**, indicating a slight negative impact on performance.\n",
    "- **Test Accuracy**: The test accuracy decreased from **0.8209** to **0.7953**, suggesting poorer generalization on unseen data.\n",
    "- **Standard Deviation**: The standard deviation of CV accuracy increased from **0.02699** to **0.03137**, showing greater variability and less consistent model performance.\n",
    "\n",
    "SMOTE negatively affected both cross-validation and test accuracy, while also increasing performance variability."
   ]
  },
  {
   "cell_type": "code",
   "execution_count": null,
   "id": "210752cc-694f-48c5-91d9-0704349f9a6a",
   "metadata": {},
   "outputs": [],
   "source": [
    "y_train_sampled.value_counts()"
   ]
  },
  {
   "cell_type": "code",
   "execution_count": null,
   "id": "e289e264-1dec-4fbe-ad39-7e8c3af770e0",
   "metadata": {},
   "outputs": [],
   "source": [
    "y_train.value_counts()"
   ]
  },
  {
   "cell_type": "markdown",
   "id": "5b0a441a-b5a0-4adc-89d6-6727d1e4f10b",
   "metadata": {},
   "source": [
    "### Variance Treshold"
   ]
  },
  {
   "cell_type": "code",
   "execution_count": null,
   "id": "6e550fd2-50da-49f1-8ea8-4cf8ec7ea4f9",
   "metadata": {},
   "outputs": [],
   "source": [
    "# Initialize and apply VarianceThreshold selector\n",
    "selector = VarianceThreshold(threshold=0.01)\n",
    "\n",
    "X_train_selected = selector.fit_transform(X_train)\n",
    "X_valid_selected = selector.transform(X_valid)\n",
    "\n",
    "selected_columns = X_train.columns[selector.get_support()]\n",
    "selected_columns"
   ]
  },
  {
   "cell_type": "code",
   "execution_count": null,
   "id": "9db6d331-b376-4944-9fcc-72b610c8cd58",
   "metadata": {},
   "outputs": [],
   "source": [
    "selected_columns.shape"
   ]
  },
  {
   "cell_type": "code",
   "execution_count": null,
   "id": "f9d60965-5ad8-4931-a131-74dd0511349b",
   "metadata": {},
   "outputs": [],
   "source": [
    "X_train.shape"
   ]
  },
  {
   "cell_type": "code",
   "execution_count": null,
   "id": "d4e84cfa-94fa-4ef8-b290-a2ad130087c0",
   "metadata": {},
   "outputs": [],
   "source": [
    "# Calculate the variance for each feature\n",
    "variances = X_train.var()\n",
    "print(variances)\n",
    "print('\\n' + '-'*50 + '\\n')\n",
    "\n",
    "# Check for features with variance below the threshold\n",
    "low_variance_features = variances[variances < 0.01]\n",
    "print(f\"Low variance features (threshold < 0.01):\\n{low_variance_features}\")"
   ]
  },
  {
   "cell_type": "markdown",
   "id": "bdbd04d3-2d51-4aa2-94c6-c671b1bb739e",
   "metadata": {},
   "source": [
    "The Variance Threshold did not remove any features, as all had sufficient variance above the threshold (0.01). This indicates that no features in the dataset are near-constant, and applying this method does not affect the model's performance.\n",
    "\n",
    "Lowering the variance threshold further would likely not be useful, as it would retain features with almost no variability, which would not improve the model's performance. All features already contribute meaningful variability.\n",
    "\n",
    "Thus, variance-based feature selection is not necessary for this dataset."
   ]
  },
  {
   "cell_type": "markdown",
   "id": "ffd14242-4191-42ef-acc6-9e9726fe185e",
   "metadata": {},
   "source": [
    "### Select K-Best"
   ]
  },
  {
   "cell_type": "code",
   "execution_count": null,
   "id": "9def2ff6-a362-4669-93d5-ed43064398ca",
   "metadata": {},
   "outputs": [],
   "source": [
    "selector = SelectKBest(score_func=f_classif, k=\"all\")\n",
    "selector.fit(X_train, y_train)\n",
    "\n",
    "f_values = pd.Series(selector.scores_, index = X_train.columns)\n",
    "f_values = f_values.sort_values(ascending=False)\n",
    "f_values"
   ]
  },
  {
   "cell_type": "code",
   "execution_count": null,
   "id": "a0ba0ab1-b6a7-42bf-b7c0-8ffdbaae29ca",
   "metadata": {},
   "outputs": [],
   "source": [
    "best_accuracy = -np.inf\n",
    "\n",
    "for k in range(2, X_train.shape[1]):\n",
    "    best_columns = list(f_values[:k].index)\n",
    "    X_train_selected = X_train[best_columns]\n",
    "    scores = cross_val_score(logreg, X_train_selected, y_train, cv = 10)\n",
    "    if scores.mean() > best_accuracy:\n",
    "        best_accuracy = scores.mean()\n",
    "        best_k = k\n",
    "        \n",
    "print(f\"best-k: {best_k}\")\n",
    "print(f\"best_accuracy: {best_accuracy}\")"
   ]
  },
  {
   "cell_type": "code",
   "execution_count": null,
   "id": "c81794a3-f023-4209-8ec9-4c0ad38d6a9c",
   "metadata": {},
   "outputs": [],
   "source": [
    "k = 6\n",
    "best_columns = list(f_values[:k].index)\n",
    "\n",
    "X_train_selected = X_train[best_columns]\n",
    "X_valid_selected = X_valid[best_columns]\n",
    "\n",
    "print(X_train_selected.shape)\n",
    "\n",
    "# Cross Validation\n",
    "scores = cross_val_score(logreg, X_train_selected, y_train, cv=10, scoring=\"accuracy\")\n",
    "\n",
    "# Test Performance\n",
    "logreg.fit(X_train_selected, y_train)\n",
    "y_pred = logreg.predict(X_valid_selected)\n",
    "accuracy = accuracy_score(y_valid, y_pred)\n",
    "\n",
    "# Adding scores and accuracy into results DF\n",
    "results.loc[\"Select K-Best\"] = [scores.mean(), scores.std(), accuracy]"
   ]
  },
  {
   "cell_type": "code",
   "execution_count": null,
   "id": "d1018299-d8a1-4677-9301-9d24335b4f97",
   "metadata": {},
   "outputs": [],
   "source": [
    "results"
   ]
  },
  {
   "cell_type": "markdown",
   "id": "11ba1d0b-6edf-47d4-bbdc-452237564abf",
   "metadata": {},
   "source": [
    "### Recursive Feature Elimination (RFE)"
   ]
  },
  {
   "cell_type": "code",
   "execution_count": null,
   "id": "829c44f5-7471-4842-8132-0683e1c4c239",
   "metadata": {},
   "outputs": [],
   "source": [
    "selector = RFE(DecisionTreeClassifier(random_state=42), n_features_to_select=1)\n",
    "selector.fit(X_train, y_train)\n",
    "ranks = pd.Series(selector.ranking_, index = X_train.columns)\n",
    "ranks = ranks.sort_values()\n",
    "ranks"
   ]
  },
  {
   "cell_type": "code",
   "execution_count": null,
   "id": "cef03fad-4439-44a9-85e9-33a62b625709",
   "metadata": {},
   "outputs": [],
   "source": [
    "best_accuracy = -np.inf\n",
    "\n",
    "for k in range(2, X_train.shape[1]):\n",
    "    best_columns = list(ranks[:k].index)\n",
    "    X_train_selected = X_train[best_columns]\n",
    "    scores = cross_val_score(logreg, X_train_selected, y_train, cv = 10)\n",
    "    if scores.mean() > best_accuracy:\n",
    "        best_accuracy = scores.mean()\n",
    "        best_k = k\n",
    "\n",
    "print(f\"best-k: {best_k}\")\n",
    "print(f\"best_accuracy: {best_accuracy}\")"
   ]
  },
  {
   "cell_type": "code",
   "execution_count": null,
   "id": "12f93118-79e9-48e2-aea7-0421e24bcbff",
   "metadata": {},
   "outputs": [],
   "source": [
    "k = 7\n",
    "best_columns = list(ranks[:k].index)\n",
    "\n",
    "X_train_selected = X_train[best_columns]\n",
    "X_valid_selected = X_valid[best_columns]\n",
    "\n",
    "print(X_train_selected.shape)\n",
    "\n",
    "# Cross Validation\n",
    "scores = cross_val_score(logreg, X_train_selected, y_train, cv=10, scoring=\"accuracy\")\n",
    "\n",
    "# Test Performance\n",
    "logreg.fit(X_train_selected, y_train)\n",
    "y_pred = logreg.predict(X_valid_selected)\n",
    "accuracy = accuracy_score(y_valid, y_pred)\n",
    "\n",
    "# Adding scores and accuracy into results DF\n",
    "results.loc[\"RFE\"] = [scores.mean(), scores.std(), accuracy]"
   ]
  },
  {
   "cell_type": "code",
   "execution_count": null,
   "id": "e3178dfa-52e9-4675-96ca-57d474046a9a",
   "metadata": {},
   "outputs": [],
   "source": [
    "results"
   ]
  },
  {
   "cell_type": "markdown",
   "id": "b7cd7bb0-5bab-4ce0-8759-c4a9bbeba507",
   "metadata": {},
   "source": [
    "### Select From Model"
   ]
  },
  {
   "cell_type": "code",
   "execution_count": null,
   "id": "03192d25-14e5-468b-9a56-d3ec2b69bb8a",
   "metadata": {},
   "outputs": [],
   "source": [
    "rf_model = DecisionTreeClassifier(random_state=42)\n",
    "rf_model.fit(X_train, y_train)\n",
    "\n",
    "importance = rf_model.feature_importances_\n",
    "importance = pd.Series(importance, index=X_train.columns)\n",
    "importance = importance.sort_values(ascending=False)\n",
    "importance"
   ]
  },
  {
   "cell_type": "code",
   "execution_count": null,
   "id": "738cde5c-74ce-4654-b82f-f3e0badcdc36",
   "metadata": {},
   "outputs": [],
   "source": [
    "best_accuracy = -np.inf\n",
    "\n",
    "for k in range(2, X_train.shape[1]):\n",
    "    best_columns = list(importance[:k].index)\n",
    "    X_train_selected = X_train[best_columns]\n",
    "    scores = cross_val_score(logreg, X_train_selected, y_train, cv=10, scoring=\"accuracy\")\n",
    "    if scores.mean() > best_accuracy:\n",
    "        best_accuracy = scores.mean()\n",
    "        best_k = k\n",
    "\n",
    "print(f\"best-k: {best_k}\")\n",
    "print(f\"best_accuracy: {best_accuracy}\")"
   ]
  },
  {
   "cell_type": "code",
   "execution_count": null,
   "id": "539f8573-9504-4bd1-9a98-3d375d1adaf7",
   "metadata": {},
   "outputs": [],
   "source": [
    "k = 9\n",
    "best_columns = list(importance[:k].index)\n",
    "\n",
    "X_train_selected = X_train[best_columns]\n",
    "X_valid_selected = X_valid[best_columns]\n",
    "\n",
    "print(X_train_selected.shape)\n",
    "\n",
    "# Cross Validation\n",
    "scores = cross_val_score(logreg, X_train_selected, y_train, cv=10, scoring=\"accuracy\")\n",
    "\n",
    "# Test Performance\n",
    "logreg.fit(X_train_selected, y_train)\n",
    "y_pred = logreg.predict(X_valid_selected)\n",
    "accuracy = accuracy_score(y_valid, y_pred)\n",
    "\n",
    "# Adding scores and accuracy into results DF\n",
    "results.loc[\"Select From Model\"] = [scores.mean(), scores.std(), accuracy]"
   ]
  },
  {
   "cell_type": "code",
   "execution_count": null,
   "id": "a336a1e7-bec3-4ed2-87da-5b41783e87b6",
   "metadata": {},
   "outputs": [],
   "source": [
    "results"
   ]
  },
  {
   "cell_type": "markdown",
   "id": "a7c8326a-f320-4401-92ca-af93898ab75d",
   "metadata": {},
   "source": [
    "### Principal Component Analysis"
   ]
  },
  {
   "cell_type": "code",
   "execution_count": null,
   "id": "64d8addd-9d6c-448f-b182-06486f605ef3",
   "metadata": {},
   "outputs": [],
   "source": [
    "pca = PCA(n_components=10)\n",
    "pca.fit(X_train)\n",
    "\n",
    "X_train_pca = pca.transform(X_train)\n",
    "X_valid_pca = pca.transform(X_valid)\n",
    "\n",
    "print(X_train_pca.shape)\n",
    "\n",
    "# Cross Validation\n",
    "scores = cross_val_score(logreg, X_train_pca, y_train, cv=10, scoring=\"accuracy\")\n",
    "\n",
    "# Test Performance\n",
    "logreg.fit(X_train_pca, y_train)\n",
    "y_pred = logreg.predict(X_valid_pca)\n",
    "accuracy = accuracy_score(y_valid, y_pred)\n",
    "\n",
    "# Adding scores and accuracy into results DF\n",
    "results.loc[\"PCA\"] = [scores.mean(), scores.std(), accuracy]"
   ]
  },
  {
   "cell_type": "code",
   "execution_count": null,
   "id": "7bd65cc6-d523-4a1b-bac1-88e56617ef35",
   "metadata": {},
   "outputs": [],
   "source": [
    "results"
   ]
  },
  {
   "cell_type": "code",
   "execution_count": null,
   "id": "a2402b2b-897f-4608-8396-44b7fd2e8637",
   "metadata": {},
   "outputs": [],
   "source": [
    "np.cumsum(pca.explained_variance_ratio_)"
   ]
  },
  {
   "cell_type": "code",
   "execution_count": null,
   "id": "d1acb228-9203-4d1c-b486-897feec65a74",
   "metadata": {},
   "outputs": [],
   "source": [
    "mask = np.triu(np.ones_like(df.corr(), dtype=bool))\n",
    "mask"
   ]
  },
  {
   "cell_type": "code",
   "execution_count": null,
   "id": "87d6c416-ba47-4cef-b709-5694787a56c1",
   "metadata": {},
   "outputs": [],
   "source": [
    "sns.heatmap(,cmap=\"coolwarm\", cbar_kws={\"shrink\": .5})dddd"
   ]
  },
  {
   "cell_type": "code",
   "execution_count": null,
   "id": "40d32caf-3057-41bc-aabb-d202f6f58714",
   "metadata": {},
   "outputs": [],
   "source": [
    "df"
   ]
  },
  {
   "cell_type": "code",
   "execution_count": null,
   "id": "fa0bdab7-0aa2-40cf-8656-66904e3a7919",
   "metadata": {},
   "outputs": [],
   "source": [
    "base"
   ]
  },
  {
   "cell_type": "markdown",
   "id": "edca07f6-bf94-4459-a61f-26b9e1440642",
   "metadata": {},
   "source": [
    "---\n",
    "# Modelling"
   ]
  },
  {
   "cell_type": "code",
   "execution_count": null,
   "id": "4751de83-ec34-4199-979e-754631efea0f",
   "metadata": {},
   "outputs": [],
   "source": []
  }
 ],
 "metadata": {
  "kernelspec": {
   "display_name": "Python 3 (ipykernel)",
   "language": "python",
   "name": "python3"
  },
  "language_info": {
   "codemirror_mode": {
    "name": "ipython",
    "version": 3
   },
   "file_extension": ".py",
   "mimetype": "text/x-python",
   "name": "python",
   "nbconvert_exporter": "python",
   "pygments_lexer": "ipython3",
   "version": "3.12.4"
  }
 },
 "nbformat": 4,
 "nbformat_minor": 5
}
