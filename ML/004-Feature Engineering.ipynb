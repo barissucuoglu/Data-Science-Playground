{
 "cells": [
  {
   "cell_type": "code",
   "execution_count": 1,
   "metadata": {
    "id": "Yn6-VB3-MhFL"
   },
   "outputs": [],
   "source": [
    "import numpy as np\n",
    "import pandas as pd\n",
    "import matplotlib.pyplot as plt"
   ]
  },
  {
   "cell_type": "code",
   "execution_count": 2,
   "metadata": {
    "colab": {
     "base_uri": "https://localhost:8080/",
     "height": 286
    },
    "executionInfo": {
     "elapsed": 614,
     "status": "ok",
     "timestamp": 1724483680308,
     "user": {
      "displayName": "Ömer Faruk Beyca",
      "userId": "11206809171817528994"
     },
     "user_tz": -180
    },
    "id": "yorceGn0N00V",
    "outputId": "240bdad4-cb89-4dd7-997a-b347bacc2ff3"
   },
   "outputs": [
    {
     "data": {
      "text/html": [
       "<div>\n",
       "<style scoped>\n",
       "    .dataframe tbody tr th:only-of-type {\n",
       "        vertical-align: middle;\n",
       "    }\n",
       "\n",
       "    .dataframe tbody tr th {\n",
       "        vertical-align: top;\n",
       "    }\n",
       "\n",
       "    .dataframe thead th {\n",
       "        text-align: right;\n",
       "    }\n",
       "</style>\n",
       "<table border=\"1\" class=\"dataframe\">\n",
       "  <thead>\n",
       "    <tr style=\"text-align: right;\">\n",
       "      <th></th>\n",
       "      <th>MSSubClass</th>\n",
       "      <th>MSZoning</th>\n",
       "      <th>LotFrontage</th>\n",
       "      <th>LotArea</th>\n",
       "      <th>Street</th>\n",
       "      <th>Alley</th>\n",
       "      <th>LotShape</th>\n",
       "      <th>LandContour</th>\n",
       "      <th>Utilities</th>\n",
       "      <th>LotConfig</th>\n",
       "      <th>...</th>\n",
       "      <th>PoolArea</th>\n",
       "      <th>PoolQC</th>\n",
       "      <th>Fence</th>\n",
       "      <th>MiscFeature</th>\n",
       "      <th>MiscVal</th>\n",
       "      <th>MoSold</th>\n",
       "      <th>YrSold</th>\n",
       "      <th>SaleType</th>\n",
       "      <th>SaleCondition</th>\n",
       "      <th>SalePrice</th>\n",
       "    </tr>\n",
       "    <tr>\n",
       "      <th>Id</th>\n",
       "      <th></th>\n",
       "      <th></th>\n",
       "      <th></th>\n",
       "      <th></th>\n",
       "      <th></th>\n",
       "      <th></th>\n",
       "      <th></th>\n",
       "      <th></th>\n",
       "      <th></th>\n",
       "      <th></th>\n",
       "      <th></th>\n",
       "      <th></th>\n",
       "      <th></th>\n",
       "      <th></th>\n",
       "      <th></th>\n",
       "      <th></th>\n",
       "      <th></th>\n",
       "      <th></th>\n",
       "      <th></th>\n",
       "      <th></th>\n",
       "      <th></th>\n",
       "    </tr>\n",
       "  </thead>\n",
       "  <tbody>\n",
       "    <tr>\n",
       "      <th>1</th>\n",
       "      <td>60</td>\n",
       "      <td>RL</td>\n",
       "      <td>65.0</td>\n",
       "      <td>8450</td>\n",
       "      <td>Pave</td>\n",
       "      <td>NaN</td>\n",
       "      <td>Reg</td>\n",
       "      <td>Lvl</td>\n",
       "      <td>AllPub</td>\n",
       "      <td>Inside</td>\n",
       "      <td>...</td>\n",
       "      <td>0</td>\n",
       "      <td>NaN</td>\n",
       "      <td>NaN</td>\n",
       "      <td>NaN</td>\n",
       "      <td>0</td>\n",
       "      <td>2</td>\n",
       "      <td>2008</td>\n",
       "      <td>WD</td>\n",
       "      <td>Normal</td>\n",
       "      <td>208500</td>\n",
       "    </tr>\n",
       "    <tr>\n",
       "      <th>2</th>\n",
       "      <td>20</td>\n",
       "      <td>RL</td>\n",
       "      <td>80.0</td>\n",
       "      <td>9600</td>\n",
       "      <td>Pave</td>\n",
       "      <td>NaN</td>\n",
       "      <td>Reg</td>\n",
       "      <td>Lvl</td>\n",
       "      <td>AllPub</td>\n",
       "      <td>FR2</td>\n",
       "      <td>...</td>\n",
       "      <td>0</td>\n",
       "      <td>NaN</td>\n",
       "      <td>NaN</td>\n",
       "      <td>NaN</td>\n",
       "      <td>0</td>\n",
       "      <td>5</td>\n",
       "      <td>2007</td>\n",
       "      <td>WD</td>\n",
       "      <td>Normal</td>\n",
       "      <td>181500</td>\n",
       "    </tr>\n",
       "    <tr>\n",
       "      <th>3</th>\n",
       "      <td>60</td>\n",
       "      <td>RL</td>\n",
       "      <td>68.0</td>\n",
       "      <td>11250</td>\n",
       "      <td>Pave</td>\n",
       "      <td>NaN</td>\n",
       "      <td>IR1</td>\n",
       "      <td>Lvl</td>\n",
       "      <td>AllPub</td>\n",
       "      <td>Inside</td>\n",
       "      <td>...</td>\n",
       "      <td>0</td>\n",
       "      <td>NaN</td>\n",
       "      <td>NaN</td>\n",
       "      <td>NaN</td>\n",
       "      <td>0</td>\n",
       "      <td>9</td>\n",
       "      <td>2008</td>\n",
       "      <td>WD</td>\n",
       "      <td>Normal</td>\n",
       "      <td>223500</td>\n",
       "    </tr>\n",
       "    <tr>\n",
       "      <th>4</th>\n",
       "      <td>70</td>\n",
       "      <td>RL</td>\n",
       "      <td>60.0</td>\n",
       "      <td>9550</td>\n",
       "      <td>Pave</td>\n",
       "      <td>NaN</td>\n",
       "      <td>IR1</td>\n",
       "      <td>Lvl</td>\n",
       "      <td>AllPub</td>\n",
       "      <td>Corner</td>\n",
       "      <td>...</td>\n",
       "      <td>0</td>\n",
       "      <td>NaN</td>\n",
       "      <td>NaN</td>\n",
       "      <td>NaN</td>\n",
       "      <td>0</td>\n",
       "      <td>2</td>\n",
       "      <td>2006</td>\n",
       "      <td>WD</td>\n",
       "      <td>Abnorml</td>\n",
       "      <td>140000</td>\n",
       "    </tr>\n",
       "    <tr>\n",
       "      <th>5</th>\n",
       "      <td>60</td>\n",
       "      <td>RL</td>\n",
       "      <td>84.0</td>\n",
       "      <td>14260</td>\n",
       "      <td>Pave</td>\n",
       "      <td>NaN</td>\n",
       "      <td>IR1</td>\n",
       "      <td>Lvl</td>\n",
       "      <td>AllPub</td>\n",
       "      <td>FR2</td>\n",
       "      <td>...</td>\n",
       "      <td>0</td>\n",
       "      <td>NaN</td>\n",
       "      <td>NaN</td>\n",
       "      <td>NaN</td>\n",
       "      <td>0</td>\n",
       "      <td>12</td>\n",
       "      <td>2008</td>\n",
       "      <td>WD</td>\n",
       "      <td>Normal</td>\n",
       "      <td>250000</td>\n",
       "    </tr>\n",
       "  </tbody>\n",
       "</table>\n",
       "<p>5 rows × 80 columns</p>\n",
       "</div>"
      ],
      "text/plain": [
       "    MSSubClass MSZoning  LotFrontage  LotArea Street Alley LotShape  \\\n",
       "Id                                                                    \n",
       "1           60       RL         65.0     8450   Pave   NaN      Reg   \n",
       "2           20       RL         80.0     9600   Pave   NaN      Reg   \n",
       "3           60       RL         68.0    11250   Pave   NaN      IR1   \n",
       "4           70       RL         60.0     9550   Pave   NaN      IR1   \n",
       "5           60       RL         84.0    14260   Pave   NaN      IR1   \n",
       "\n",
       "   LandContour Utilities LotConfig  ... PoolArea PoolQC Fence MiscFeature  \\\n",
       "Id                                  ...                                     \n",
       "1          Lvl    AllPub    Inside  ...        0    NaN   NaN         NaN   \n",
       "2          Lvl    AllPub       FR2  ...        0    NaN   NaN         NaN   \n",
       "3          Lvl    AllPub    Inside  ...        0    NaN   NaN         NaN   \n",
       "4          Lvl    AllPub    Corner  ...        0    NaN   NaN         NaN   \n",
       "5          Lvl    AllPub       FR2  ...        0    NaN   NaN         NaN   \n",
       "\n",
       "   MiscVal MoSold  YrSold  SaleType  SaleCondition  SalePrice  \n",
       "Id                                                             \n",
       "1        0      2    2008        WD         Normal     208500  \n",
       "2        0      5    2007        WD         Normal     181500  \n",
       "3        0      9    2008        WD         Normal     223500  \n",
       "4        0      2    2006        WD        Abnorml     140000  \n",
       "5        0     12    2008        WD         Normal     250000  \n",
       "\n",
       "[5 rows x 80 columns]"
      ]
     },
     "execution_count": 2,
     "metadata": {},
     "output_type": "execute_result"
    }
   ],
   "source": [
    "house = pd.read_csv(\"data/house.csv\", index_col = 0)\n",
    "house.head()"
   ]
  },
  {
   "cell_type": "code",
   "execution_count": 3,
   "metadata": {
    "colab": {
     "base_uri": "https://localhost:8080/"
    },
    "executionInfo": {
     "elapsed": 23,
     "status": "ok",
     "timestamp": 1724483680308,
     "user": {
      "displayName": "Ömer Faruk Beyca",
      "userId": "11206809171817528994"
     },
     "user_tz": -180
    },
    "id": "W0li0hjLQAzm",
    "outputId": "029fe1ad-7a6c-4237-8422-704b29ad17f8"
   },
   "outputs": [
    {
     "data": {
      "text/plain": [
       "(1460, 80)"
      ]
     },
     "execution_count": 3,
     "metadata": {},
     "output_type": "execute_result"
    }
   ],
   "source": [
    "house.shape"
   ]
  },
  {
   "cell_type": "code",
   "execution_count": 4,
   "metadata": {
    "colab": {
     "base_uri": "https://localhost:8080/",
     "height": 458
    },
    "executionInfo": {
     "elapsed": 22,
     "status": "ok",
     "timestamp": 1724483680308,
     "user": {
      "displayName": "Ömer Faruk Beyca",
      "userId": "11206809171817528994"
     },
     "user_tz": -180
    },
    "id": "81iB4sEaOWdo",
    "outputId": "6b589bbe-d695-4f02-ab92-66aa21e56dd7"
   },
   "outputs": [
    {
     "data": {
      "text/plain": [
       "MSSubClass         int64\n",
       "MSZoning          object\n",
       "LotFrontage      float64\n",
       "LotArea            int64\n",
       "Street            object\n",
       "                  ...   \n",
       "MoSold             int64\n",
       "YrSold             int64\n",
       "SaleType          object\n",
       "SaleCondition     object\n",
       "SalePrice          int64\n",
       "Length: 80, dtype: object"
      ]
     },
     "execution_count": 4,
     "metadata": {},
     "output_type": "execute_result"
    }
   ],
   "source": [
    "house.dtypes"
   ]
  },
  {
   "cell_type": "code",
   "execution_count": 5,
   "metadata": {
    "colab": {
     "base_uri": "https://localhost:8080/",
     "height": 458
    },
    "executionInfo": {
     "elapsed": 21,
     "status": "ok",
     "timestamp": 1724483680308,
     "user": {
      "displayName": "Ömer Faruk Beyca",
      "userId": "11206809171817528994"
     },
     "user_tz": -180
    },
    "id": "9rU8Epe8O_tq",
    "outputId": "04a80687-3209-4ec0-9378-0a571e1a50b1"
   },
   "outputs": [
    {
     "data": {
      "text/plain": [
       "MSSubClass        object\n",
       "MSZoning          object\n",
       "LotFrontage      float64\n",
       "LotArea            int64\n",
       "Street            object\n",
       "                  ...   \n",
       "MoSold             int64\n",
       "YrSold             int64\n",
       "SaleType          object\n",
       "SaleCondition     object\n",
       "SalePrice          int64\n",
       "Length: 80, dtype: object"
      ]
     },
     "execution_count": 5,
     "metadata": {},
     "output_type": "execute_result"
    }
   ],
   "source": [
    "house.MSSubClass = house.MSSubClass.astype(str)\n",
    "house.dtypes"
   ]
  },
  {
   "cell_type": "code",
   "execution_count": 6,
   "metadata": {
    "colab": {
     "base_uri": "https://localhost:8080/"
    },
    "executionInfo": {
     "elapsed": 21,
     "status": "ok",
     "timestamp": 1724483680309,
     "user": {
      "displayName": "Ömer Faruk Beyca",
      "userId": "11206809171817528994"
     },
     "user_tz": -180
    },
    "id": "_q3OfLL5PLnu",
    "outputId": "3fb1c8a6-bf33-4434-dcd8-d3ff0bdafc46"
   },
   "outputs": [
    {
     "data": {
      "text/plain": [
       "7829"
      ]
     },
     "execution_count": 6,
     "metadata": {},
     "output_type": "execute_result"
    }
   ],
   "source": [
    "house.isnull().sum().sum()"
   ]
  },
  {
   "cell_type": "code",
   "execution_count": 7,
   "metadata": {
    "colab": {
     "base_uri": "https://localhost:8080/"
    },
    "executionInfo": {
     "elapsed": 19,
     "status": "ok",
     "timestamp": 1724483680309,
     "user": {
      "displayName": "Ömer Faruk Beyca",
      "userId": "11206809171817528994"
     },
     "user_tz": -180
    },
    "id": "_hrpgEDCP7Ry",
    "outputId": "0bb93007-2fa7-4bb0-df7c-badc77320e05"
   },
   "outputs": [
    {
     "data": {
      "text/plain": [
       "(0, 80)"
      ]
     },
     "execution_count": 7,
     "metadata": {},
     "output_type": "execute_result"
    }
   ],
   "source": [
    "house.dropna().shape"
   ]
  },
  {
   "cell_type": "code",
   "execution_count": 8,
   "metadata": {
    "colab": {
     "base_uri": "https://localhost:8080/",
     "height": 458
    },
    "executionInfo": {
     "elapsed": 18,
     "status": "ok",
     "timestamp": 1724483680309,
     "user": {
      "displayName": "Ömer Faruk Beyca",
      "userId": "11206809171817528994"
     },
     "user_tz": -180
    },
    "id": "-_JnlZrMQQPY",
    "outputId": "d2d8c10c-7b01-4f0b-dac3-1b5589fcc6b7"
   },
   "outputs": [
    {
     "data": {
      "text/plain": [
       "MSSubClass       0.000000\n",
       "MSZoning         0.000000\n",
       "LotFrontage      0.177397\n",
       "LotArea          0.000000\n",
       "Street           0.000000\n",
       "                   ...   \n",
       "MoSold           0.000000\n",
       "YrSold           0.000000\n",
       "SaleType         0.000000\n",
       "SaleCondition    0.000000\n",
       "SalePrice        0.000000\n",
       "Length: 80, dtype: float64"
      ]
     },
     "execution_count": 8,
     "metadata": {},
     "output_type": "execute_result"
    }
   ],
   "source": [
    "miss_percent = house.isnull().mean()\n",
    "miss_percent"
   ]
  },
  {
   "cell_type": "code",
   "execution_count": 9,
   "metadata": {
    "colab": {
     "base_uri": "https://localhost:8080/"
    },
    "executionInfo": {
     "elapsed": 17,
     "status": "ok",
     "timestamp": 1724483680309,
     "user": {
      "displayName": "Ömer Faruk Beyca",
      "userId": "11206809171817528994"
     },
     "user_tz": -180
    },
    "id": "A1e6eDApQZcQ",
    "outputId": "4f5fc11f-f327-4413-9fb2-00923d391ae9"
   },
   "outputs": [
    {
     "data": {
      "text/plain": [
       "['LotFrontage',\n",
       " 'Alley',\n",
       " 'MasVnrType',\n",
       " 'FireplaceQu',\n",
       " 'PoolQC',\n",
       " 'Fence',\n",
       " 'MiscFeature']"
      ]
     },
     "execution_count": 9,
     "metadata": {},
     "output_type": "execute_result"
    }
   ],
   "source": [
    "drop_cols = list(miss_percent[miss_percent > 0.1].index)\n",
    "drop_cols"
   ]
  },
  {
   "cell_type": "code",
   "execution_count": 10,
   "metadata": {
    "colab": {
     "base_uri": "https://localhost:8080/"
    },
    "executionInfo": {
     "elapsed": 15,
     "status": "ok",
     "timestamp": 1724483680309,
     "user": {
      "displayName": "Ömer Faruk Beyca",
      "userId": "11206809171817528994"
     },
     "user_tz": -180
    },
    "id": "XyjM0e0aQzAt",
    "outputId": "16b9ed9a-9330-402f-9b2c-276f60134cca"
   },
   "outputs": [
    {
     "data": {
      "text/plain": [
       "(1460, 73)"
      ]
     },
     "execution_count": 10,
     "metadata": {},
     "output_type": "execute_result"
    }
   ],
   "source": [
    "df_drop_cols = house.drop(drop_cols, axis = 1)\n",
    "df_drop_cols.shape"
   ]
  },
  {
   "cell_type": "code",
   "execution_count": 11,
   "metadata": {
    "colab": {
     "base_uri": "https://localhost:8080/"
    },
    "executionInfo": {
     "elapsed": 14,
     "status": "ok",
     "timestamp": 1724483680309,
     "user": {
      "displayName": "Ömer Faruk Beyca",
      "userId": "11206809171817528994"
     },
     "user_tz": -180
    },
    "id": "IxCnTx7pREVz",
    "outputId": "fc021771-20c2-44bb-e5a3-74698f6396d8"
   },
   "outputs": [
    {
     "data": {
      "text/plain": [
       "601"
      ]
     },
     "execution_count": 11,
     "metadata": {},
     "output_type": "execute_result"
    }
   ],
   "source": [
    "df_drop_cols.isnull().sum().sum()"
   ]
  },
  {
   "cell_type": "code",
   "execution_count": 12,
   "metadata": {
    "colab": {
     "base_uri": "https://localhost:8080/"
    },
    "executionInfo": {
     "elapsed": 12,
     "status": "ok",
     "timestamp": 1724483680309,
     "user": {
      "displayName": "Ömer Faruk Beyca",
      "userId": "11206809171817528994"
     },
     "user_tz": -180
    },
    "id": "LuYuQOU_RKBh",
    "outputId": "da490d9d-f282-42ce-9905-3ad42864b191"
   },
   "outputs": [
    {
     "data": {
      "text/plain": [
       "(1338, 73)"
      ]
     },
     "execution_count": 12,
     "metadata": {},
     "output_type": "execute_result"
    }
   ],
   "source": [
    "df_without_na = df_drop_cols.dropna()\n",
    "df_without_na.shape"
   ]
  },
  {
   "cell_type": "code",
   "execution_count": 13,
   "metadata": {
    "colab": {
     "base_uri": "https://localhost:8080/"
    },
    "executionInfo": {
     "elapsed": 11,
     "status": "ok",
     "timestamp": 1724483680309,
     "user": {
      "displayName": "Ömer Faruk Beyca",
      "userId": "11206809171817528994"
     },
     "user_tz": -180
    },
    "id": "iUSMXxe-Rbs-",
    "outputId": "525b8800-f0b9-4e12-b58c-c4442d547848"
   },
   "outputs": [
    {
     "data": {
      "text/plain": [
       "(1338, 237)"
      ]
     },
     "execution_count": 13,
     "metadata": {},
     "output_type": "execute_result"
    }
   ],
   "source": [
    "df_without_na_dummy = pd.get_dummies(df_without_na, drop_first=True, dtype=\"int\")\n",
    "df_without_na_dummy.shape"
   ]
  },
  {
   "cell_type": "code",
   "execution_count": 14,
   "metadata": {
    "colab": {
     "base_uri": "https://localhost:8080/",
     "height": 89
    },
    "executionInfo": {
     "elapsed": 3616,
     "status": "ok",
     "timestamp": 1724483683916,
     "user": {
      "displayName": "Ömer Faruk Beyca",
      "userId": "11206809171817528994"
     },
     "user_tz": -180
    },
    "id": "XH34dg9HTMZ4",
    "outputId": "ccb7ddd7-cdbd-4883-f868-5c847e4f5021"
   },
   "outputs": [
    {
     "data": {
      "text/html": [
       "<div>\n",
       "<style scoped>\n",
       "    .dataframe tbody tr th:only-of-type {\n",
       "        vertical-align: middle;\n",
       "    }\n",
       "\n",
       "    .dataframe tbody tr th {\n",
       "        vertical-align: top;\n",
       "    }\n",
       "\n",
       "    .dataframe thead th {\n",
       "        text-align: right;\n",
       "    }\n",
       "</style>\n",
       "<table border=\"1\" class=\"dataframe\">\n",
       "  <thead>\n",
       "    <tr style=\"text-align: right;\">\n",
       "      <th></th>\n",
       "      <th>r2_mean</th>\n",
       "      <th>r2_std</th>\n",
       "      <th>r2_test</th>\n",
       "    </tr>\n",
       "  </thead>\n",
       "  <tbody>\n",
       "    <tr>\n",
       "      <th>Without NA</th>\n",
       "      <td>0.548538</td>\n",
       "      <td>0.568624</td>\n",
       "      <td>0.373218</td>\n",
       "    </tr>\n",
       "  </tbody>\n",
       "</table>\n",
       "</div>"
      ],
      "text/plain": [
       "             r2_mean    r2_std   r2_test\n",
       "Without NA  0.548538  0.568624  0.373218"
      ]
     },
     "execution_count": 14,
     "metadata": {},
     "output_type": "execute_result"
    }
   ],
   "source": [
    "from sklearn.model_selection import train_test_split\n",
    "from sklearn.linear_model import LinearRegression\n",
    "from sklearn.metrics import r2_score\n",
    "from sklearn.model_selection import cross_val_score\n",
    "\n",
    "X = df_without_na_dummy.drop(\"SalePrice\", axis = 1)\n",
    "y = df_without_na_dummy.SalePrice\n",
    "\n",
    "X_train, X_test, y_train, y_test = train_test_split(X, y, test_size = 0.2, random_state = 42)\n",
    "mdl = LinearRegression()\n",
    "mdl.fit(X_train, y_train)\n",
    "y_pred = mdl.predict(X_test)\n",
    "r2 = r2_score(y_test, y_pred)\n",
    "\n",
    "scores = cross_val_score(mdl, X_train, y_train, cv=10)\n",
    "\n",
    "results = pd.DataFrame([], columns = [\"r2_mean\", \"r2_std\", \"r2_test\"])\n",
    "results.loc[\"Without NA\"] = [scores.mean(), scores.std(), r2]\n",
    "results"
   ]
  },
  {
   "cell_type": "code",
   "execution_count": 15,
   "metadata": {
    "colab": {
     "base_uri": "https://localhost:8080/",
     "height": 460
    },
    "executionInfo": {
     "elapsed": 9,
     "status": "ok",
     "timestamp": 1724483683916,
     "user": {
      "displayName": "Ömer Faruk Beyca",
      "userId": "11206809171817528994"
     },
     "user_tz": -180
    },
    "id": "0rorcovgbKfq",
    "outputId": "61647e3b-f778-4bb3-9d3b-f6050d306565"
   },
   "outputs": [
    {
     "data": {
      "text/plain": [
       "MasVnrArea      0.005479\n",
       "BsmtQual        0.025342\n",
       "BsmtCond        0.025342\n",
       "BsmtExposure    0.026027\n",
       "BsmtFinType1    0.025342\n",
       "BsmtFinType2    0.026027\n",
       "Electrical      0.000685\n",
       "GarageType      0.055479\n",
       "GarageYrBlt     0.055479\n",
       "GarageFinish    0.055479\n",
       "GarageQual      0.055479\n",
       "GarageCond      0.055479\n",
       "dtype: float64"
      ]
     },
     "execution_count": 15,
     "metadata": {},
     "output_type": "execute_result"
    }
   ],
   "source": [
    "miss_percent = df_drop_cols.isnull().mean()\n",
    "miss_percent[miss_percent > 0]"
   ]
  },
  {
   "cell_type": "code",
   "execution_count": 16,
   "metadata": {
    "colab": {
     "base_uri": "https://localhost:8080/"
    },
    "executionInfo": {
     "elapsed": 9,
     "status": "ok",
     "timestamp": 1724483683917,
     "user": {
      "displayName": "Ömer Faruk Beyca",
      "userId": "11206809171817528994"
     },
     "user_tz": -180
    },
    "id": "nWqxYsfLbm0C",
    "outputId": "6a69e1e6-7eb9-44b9-91c7-bd7659752afc"
   },
   "outputs": [
    {
     "data": {
      "text/plain": [
       "(1460, 73)"
      ]
     },
     "execution_count": 16,
     "metadata": {},
     "output_type": "execute_result"
    }
   ],
   "source": [
    "df_drop_cols.MasVnrArea = df_drop_cols.MasVnrArea.fillna(0)\n",
    "df_drop_cols.BsmtQual = df_drop_cols.BsmtQual.fillna(\"None\")\n",
    "df_drop_cols.BsmtCond = df_drop_cols.BsmtCond.fillna(\"None\")\n",
    "df_drop_cols.BsmtExposure = df_drop_cols.BsmtExposure.fillna(\"None\")\n",
    "df_drop_cols.BsmtFinType1 = df_drop_cols.BsmtFinType1.fillna(\"None\")\n",
    "df_drop_cols.BsmtFinType2 = df_drop_cols.BsmtFinType2.fillna(\"None\")\n",
    "df_drop_cols.Electrical = df_drop_cols.Electrical.fillna(\"None\")\n",
    "df_drop_cols.GarageType = df_drop_cols.GarageType.fillna(\"None\")\n",
    "df_drop_cols.GarageYrBlt = df_drop_cols.GarageYrBlt.fillna(0)\n",
    "df_drop_cols.GarageFinish = df_drop_cols.GarageFinish.fillna(\"None\")\n",
    "df_drop_cols.GarageQual = df_drop_cols.GarageQual.fillna(\"None\")\n",
    "df_drop_cols.GarageCond = df_drop_cols.GarageCond.fillna(\"None\")\n",
    "df_drop_cols.shape"
   ]
  },
  {
   "cell_type": "code",
   "execution_count": 17,
   "metadata": {
    "colab": {
     "base_uri": "https://localhost:8080/",
     "height": 143
    },
    "executionInfo": {
     "elapsed": 1802,
     "status": "ok",
     "timestamp": 1724483685713,
     "user": {
      "displayName": "Ömer Faruk Beyca",
      "userId": "11206809171817528994"
     },
     "user_tz": -180
    },
    "id": "MuUp68bJcbYJ",
    "outputId": "d097f6ba-6780-4ab5-adc1-ca7afbcc155d"
   },
   "outputs": [
    {
     "name": "stdout",
     "output_type": "stream",
     "text": [
      "(1460, 252)\n"
     ]
    },
    {
     "data": {
      "text/html": [
       "<div>\n",
       "<style scoped>\n",
       "    .dataframe tbody tr th:only-of-type {\n",
       "        vertical-align: middle;\n",
       "    }\n",
       "\n",
       "    .dataframe tbody tr th {\n",
       "        vertical-align: top;\n",
       "    }\n",
       "\n",
       "    .dataframe thead th {\n",
       "        text-align: right;\n",
       "    }\n",
       "</style>\n",
       "<table border=\"1\" class=\"dataframe\">\n",
       "  <thead>\n",
       "    <tr style=\"text-align: right;\">\n",
       "      <th></th>\n",
       "      <th>r2_mean</th>\n",
       "      <th>r2_std</th>\n",
       "      <th>r2_test</th>\n",
       "    </tr>\n",
       "  </thead>\n",
       "  <tbody>\n",
       "    <tr>\n",
       "      <th>Without NA</th>\n",
       "      <td>0.548538</td>\n",
       "      <td>0.568624</td>\n",
       "      <td>0.373218</td>\n",
       "    </tr>\n",
       "    <tr>\n",
       "      <th>Fill NA</th>\n",
       "      <td>0.591975</td>\n",
       "      <td>0.416633</td>\n",
       "      <td>0.642582</td>\n",
       "    </tr>\n",
       "  </tbody>\n",
       "</table>\n",
       "</div>"
      ],
      "text/plain": [
       "             r2_mean    r2_std   r2_test\n",
       "Without NA  0.548538  0.568624  0.373218\n",
       "Fill NA     0.591975  0.416633  0.642582"
      ]
     },
     "execution_count": 17,
     "metadata": {},
     "output_type": "execute_result"
    }
   ],
   "source": [
    "df_drop_cols_dummy = pd.get_dummies(df_drop_cols, drop_first=True, dtype=\"int\")\n",
    "print(df_drop_cols_dummy.shape)\n",
    "\n",
    "X = df_drop_cols_dummy.drop(\"SalePrice\", axis = 1)\n",
    "y = df_drop_cols_dummy.SalePrice\n",
    "\n",
    "X_train, X_test, y_train, y_test = train_test_split(X, y, test_size = 0.2, random_state = 42)\n",
    "mdl = LinearRegression()\n",
    "mdl.fit(X_train, y_train)\n",
    "y_pred = mdl.predict(X_test)\n",
    "r2 = r2_score(y_test, y_pred)\n",
    "\n",
    "scores = cross_val_score(mdl, X_train, y_train, cv=10)\n",
    "\n",
    "results.loc[\"Fill NA\"] = [scores.mean(), scores.std(), r2]\n",
    "results"
   ]
  },
  {
   "cell_type": "code",
   "execution_count": 18,
   "metadata": {
    "colab": {
     "base_uri": "https://localhost:8080/"
    },
    "executionInfo": {
     "elapsed": 7,
     "status": "ok",
     "timestamp": 1724483685714,
     "user": {
      "displayName": "Ömer Faruk Beyca",
      "userId": "11206809171817528994"
     },
     "user_tz": -180
    },
    "id": "PzV6758hdYmx",
    "outputId": "cd2e1d49-d0f9-4dc1-de2e-01c096a72931"
   },
   "outputs": [
    {
     "name": "stdout",
     "output_type": "stream",
     "text": [
      "(1460, 80)\n"
     ]
    }
   ],
   "source": [
    "df_drop_cols[\"LotFrontage\"] = house.LotFrontage.fillna(0)\n",
    "df_drop_cols[\"Alley\"] = house.Alley.fillna(\"None\")\n",
    "df_drop_cols[\"FireplaceQu\"] = house.FireplaceQu.fillna(\"None\")\n",
    "df_drop_cols[\"PoolQC\"] = house.PoolQC.fillna(\"None\")\n",
    "df_drop_cols[\"Fence\"] = house.Fence.fillna(\"None\")\n",
    "df_drop_cols[\"MiscFeature\"] = house.MiscFeature.fillna(\"None\")\n",
    "df_drop_cols[\"MasVnrType\"] = house.MasVnrType.fillna(\"None\")\n",
    "print(df_drop_cols.shape)"
   ]
  },
  {
   "cell_type": "code",
   "execution_count": 19,
   "metadata": {
    "colab": {
     "base_uri": "https://localhost:8080/",
     "height": 161
    },
    "executionInfo": {
     "elapsed": 1673,
     "status": "ok",
     "timestamp": 1724483687382,
     "user": {
      "displayName": "Ömer Faruk Beyca",
      "userId": "11206809171817528994"
     },
     "user_tz": -180
    },
    "id": "iXd6mjPgdg1X",
    "outputId": "a2842d82-9efb-4a08-946a-9355d97eb1ea"
   },
   "outputs": [
    {
     "name": "stdout",
     "output_type": "stream",
     "text": [
      "(1460, 274)\n"
     ]
    },
    {
     "data": {
      "text/html": [
       "<div>\n",
       "<style scoped>\n",
       "    .dataframe tbody tr th:only-of-type {\n",
       "        vertical-align: middle;\n",
       "    }\n",
       "\n",
       "    .dataframe tbody tr th {\n",
       "        vertical-align: top;\n",
       "    }\n",
       "\n",
       "    .dataframe thead th {\n",
       "        text-align: right;\n",
       "    }\n",
       "</style>\n",
       "<table border=\"1\" class=\"dataframe\">\n",
       "  <thead>\n",
       "    <tr style=\"text-align: right;\">\n",
       "      <th></th>\n",
       "      <th>r2_mean</th>\n",
       "      <th>r2_std</th>\n",
       "      <th>r2_test</th>\n",
       "    </tr>\n",
       "  </thead>\n",
       "  <tbody>\n",
       "    <tr>\n",
       "      <th>Without NA</th>\n",
       "      <td>0.548538</td>\n",
       "      <td>0.568624</td>\n",
       "      <td>0.373218</td>\n",
       "    </tr>\n",
       "    <tr>\n",
       "      <th>Fill NA</th>\n",
       "      <td>0.591975</td>\n",
       "      <td>0.416633</td>\n",
       "      <td>0.642582</td>\n",
       "    </tr>\n",
       "    <tr>\n",
       "      <th>Full Data</th>\n",
       "      <td>0.123984</td>\n",
       "      <td>0.756375</td>\n",
       "      <td>-0.115897</td>\n",
       "    </tr>\n",
       "  </tbody>\n",
       "</table>\n",
       "</div>"
      ],
      "text/plain": [
       "             r2_mean    r2_std   r2_test\n",
       "Without NA  0.548538  0.568624  0.373218\n",
       "Fill NA     0.591975  0.416633  0.642582\n",
       "Full Data   0.123984  0.756375 -0.115897"
      ]
     },
     "execution_count": 19,
     "metadata": {},
     "output_type": "execute_result"
    }
   ],
   "source": [
    "df_drop_cols_dummy = pd.get_dummies(df_drop_cols, drop_first=True, dtype=\"int\")\n",
    "print(df_drop_cols_dummy.shape)\n",
    "\n",
    "X = df_drop_cols_dummy.drop(\"SalePrice\", axis = 1)\n",
    "y = df_drop_cols_dummy.SalePrice\n",
    "\n",
    "X_train, X_test, y_train, y_test = train_test_split(X, y, test_size = 0.2, random_state = 42)\n",
    "mdl = LinearRegression()\n",
    "mdl.fit(X_train, y_train)\n",
    "y_pred = mdl.predict(X_test)\n",
    "r2 = r2_score(y_test, y_pred)\n",
    "\n",
    "scores = cross_val_score(mdl, X_train, y_train, cv=10)\n",
    "\n",
    "results.loc[\"Full Data\"] = [scores.mean(), scores.std(), r2]\n",
    "results"
   ]
  },
  {
   "cell_type": "code",
   "execution_count": 20,
   "metadata": {
    "id": "vwOoObg5fF0G"
   },
   "outputs": [],
   "source": [
    "df_new = df_drop_cols.copy()\n",
    "category_percent = df_new.MSSubClass.value_counts() / len(df_new)"
   ]
  },
  {
   "cell_type": "code",
   "execution_count": 21,
   "metadata": {
    "colab": {
     "base_uri": "https://localhost:8080/",
     "height": 523
    },
    "executionInfo": {
     "elapsed": 7,
     "status": "ok",
     "timestamp": 1724483687383,
     "user": {
      "displayName": "Ömer Faruk Beyca",
      "userId": "11206809171817528994"
     },
     "user_tz": -180
    },
    "id": "S4qrUFXef05g",
    "outputId": "6c00fcf8-4e4d-4c99-8364-63221b1cbcf2"
   },
   "outputs": [
    {
     "data": {
      "text/plain": [
       "MSSubClass\n",
       "20       0.367123\n",
       "60       0.204795\n",
       "50       0.098630\n",
       "120      0.059589\n",
       "30       0.047260\n",
       "160      0.043151\n",
       "70       0.041096\n",
       "80       0.039726\n",
       "90       0.035616\n",
       "190      0.020548\n",
       "Other    0.017808\n",
       "85       0.013699\n",
       "75       0.010959\n",
       "Name: count, dtype: float64"
      ]
     },
     "execution_count": 21,
     "metadata": {},
     "output_type": "execute_result"
    }
   ],
   "source": [
    "category = list(category_percent[category_percent < 0.01].index)\n",
    "df_new.MSSubClass = df_new.MSSubClass.replace(category, \"Other\")\n",
    "df_new.MSSubClass.value_counts() / len(df_new)"
   ]
  },
  {
   "cell_type": "code",
   "execution_count": 22,
   "metadata": {
    "colab": {
     "base_uri": "https://localhost:8080/",
     "height": 192
    },
    "executionInfo": {
     "elapsed": 2076,
     "status": "ok",
     "timestamp": 1724483689453,
     "user": {
      "displayName": "Ömer Faruk Beyca",
      "userId": "11206809171817528994"
     },
     "user_tz": -180
    },
    "id": "fo3Ve3E-gTb4",
    "outputId": "38f56fbe-2a87-424d-ef60-1ed9d239e5c5"
   },
   "outputs": [
    {
     "name": "stdout",
     "output_type": "stream",
     "text": [
      "(1460, 272)\n"
     ]
    },
    {
     "data": {
      "text/html": [
       "<div>\n",
       "<style scoped>\n",
       "    .dataframe tbody tr th:only-of-type {\n",
       "        vertical-align: middle;\n",
       "    }\n",
       "\n",
       "    .dataframe tbody tr th {\n",
       "        vertical-align: top;\n",
       "    }\n",
       "\n",
       "    .dataframe thead th {\n",
       "        text-align: right;\n",
       "    }\n",
       "</style>\n",
       "<table border=\"1\" class=\"dataframe\">\n",
       "  <thead>\n",
       "    <tr style=\"text-align: right;\">\n",
       "      <th></th>\n",
       "      <th>r2_mean</th>\n",
       "      <th>r2_std</th>\n",
       "      <th>r2_test</th>\n",
       "    </tr>\n",
       "  </thead>\n",
       "  <tbody>\n",
       "    <tr>\n",
       "      <th>Without NA</th>\n",
       "      <td>0.548538</td>\n",
       "      <td>0.568624</td>\n",
       "      <td>0.373218</td>\n",
       "    </tr>\n",
       "    <tr>\n",
       "      <th>Fill NA</th>\n",
       "      <td>0.591975</td>\n",
       "      <td>0.416633</td>\n",
       "      <td>0.642582</td>\n",
       "    </tr>\n",
       "    <tr>\n",
       "      <th>Full Data</th>\n",
       "      <td>0.123984</td>\n",
       "      <td>0.756375</td>\n",
       "      <td>-0.115897</td>\n",
       "    </tr>\n",
       "    <tr>\n",
       "      <th>MSSubclass Simple</th>\n",
       "      <td>0.129578</td>\n",
       "      <td>0.752395</td>\n",
       "      <td>-0.110499</td>\n",
       "    </tr>\n",
       "  </tbody>\n",
       "</table>\n",
       "</div>"
      ],
      "text/plain": [
       "                    r2_mean    r2_std   r2_test\n",
       "Without NA         0.548538  0.568624  0.373218\n",
       "Fill NA            0.591975  0.416633  0.642582\n",
       "Full Data          0.123984  0.756375 -0.115897\n",
       "MSSubclass Simple  0.129578  0.752395 -0.110499"
      ]
     },
     "execution_count": 22,
     "metadata": {},
     "output_type": "execute_result"
    }
   ],
   "source": [
    "df_new_dummy = pd.get_dummies(df_new, drop_first=True, dtype=\"int\")\n",
    "print(df_new_dummy.shape)\n",
    "\n",
    "X = df_new_dummy.drop(\"SalePrice\", axis = 1)\n",
    "y = df_new_dummy.SalePrice\n",
    "\n",
    "X_train, X_test, y_train, y_test = train_test_split(X, y, test_size = 0.2, random_state = 42)\n",
    "mdl = LinearRegression()\n",
    "mdl.fit(X_train, y_train)\n",
    "y_pred = mdl.predict(X_test)\n",
    "r2 = r2_score(y_test, y_pred)\n",
    "\n",
    "scores = cross_val_score(mdl, X_train, y_train, cv=10)\n",
    "\n",
    "results.loc[\"MSSubclass Simple\"] = [scores.mean(), scores.std(), r2]\n",
    "results"
   ]
  },
  {
   "cell_type": "code",
   "execution_count": 23,
   "metadata": {
    "colab": {
     "base_uri": "https://localhost:8080/"
    },
    "executionInfo": {
     "elapsed": 6,
     "status": "ok",
     "timestamp": 1724483689453,
     "user": {
      "displayName": "Ömer Faruk Beyca",
      "userId": "11206809171817528994"
     },
     "user_tz": -180
    },
    "id": "cpQRX6k1gt8j",
    "outputId": "61cff102-ba0e-428f-dd7d-d7d0907f237e"
   },
   "outputs": [
    {
     "data": {
      "text/plain": [
       "['MSSubClass',\n",
       " 'MSZoning',\n",
       " 'Street',\n",
       " 'LotShape',\n",
       " 'LandContour',\n",
       " 'Utilities',\n",
       " 'LotConfig',\n",
       " 'LandSlope',\n",
       " 'Neighborhood',\n",
       " 'Condition1',\n",
       " 'Condition2',\n",
       " 'BldgType',\n",
       " 'HouseStyle',\n",
       " 'RoofStyle',\n",
       " 'RoofMatl',\n",
       " 'Exterior1st',\n",
       " 'Exterior2nd',\n",
       " 'ExterQual',\n",
       " 'ExterCond',\n",
       " 'Foundation',\n",
       " 'BsmtQual',\n",
       " 'BsmtCond',\n",
       " 'BsmtExposure',\n",
       " 'BsmtFinType1',\n",
       " 'BsmtFinType2',\n",
       " 'Heating',\n",
       " 'HeatingQC',\n",
       " 'CentralAir',\n",
       " 'Electrical',\n",
       " 'KitchenQual',\n",
       " 'Functional',\n",
       " 'GarageType',\n",
       " 'GarageFinish',\n",
       " 'GarageQual',\n",
       " 'GarageCond',\n",
       " 'PavedDrive',\n",
       " 'SaleType',\n",
       " 'SaleCondition',\n",
       " 'Alley',\n",
       " 'FireplaceQu',\n",
       " 'PoolQC',\n",
       " 'Fence',\n",
       " 'MiscFeature',\n",
       " 'MasVnrType']"
      ]
     },
     "execution_count": 23,
     "metadata": {},
     "output_type": "execute_result"
    }
   ],
   "source": [
    "cat_cols = [col for col in df_new.columns if df_new[col].dtype == \"object\"]\n",
    "cat_cols"
   ]
  },
  {
   "cell_type": "code",
   "execution_count": 24,
   "metadata": {
    "id": "OE8wuQUdi1U1"
   },
   "outputs": [],
   "source": [
    "def merge_category(x):\n",
    "  category_percent = x.value_counts() / len(x)\n",
    "  category = list(category_percent[category_percent < 0.01].index)\n",
    "  if len(category) >= 2:\n",
    "    return x.replace(category, \"Other\")\n",
    "  else:\n",
    "    return x\n",
    "\n",
    "df_new[cat_cols] = df_new[cat_cols].apply(merge_category)"
   ]
  },
  {
   "cell_type": "code",
   "execution_count": 25,
   "metadata": {
    "colab": {
     "base_uri": "https://localhost:8080/",
     "height": 224
    },
    "executionInfo": {
     "elapsed": 2253,
     "status": "ok",
     "timestamp": 1724483691702,
     "user": {
      "displayName": "Ömer Faruk Beyca",
      "userId": "11206809171817528994"
     },
     "user_tz": -180
    },
    "id": "-Wc6uFCejo7P",
    "outputId": "12791522-ea81-4e1a-dde9-941d27036aa8"
   },
   "outputs": [
    {
     "name": "stdout",
     "output_type": "stream",
     "text": [
      "(1460, 217)\n"
     ]
    },
    {
     "data": {
      "text/html": [
       "<div>\n",
       "<style scoped>\n",
       "    .dataframe tbody tr th:only-of-type {\n",
       "        vertical-align: middle;\n",
       "    }\n",
       "\n",
       "    .dataframe tbody tr th {\n",
       "        vertical-align: top;\n",
       "    }\n",
       "\n",
       "    .dataframe thead th {\n",
       "        text-align: right;\n",
       "    }\n",
       "</style>\n",
       "<table border=\"1\" class=\"dataframe\">\n",
       "  <thead>\n",
       "    <tr style=\"text-align: right;\">\n",
       "      <th></th>\n",
       "      <th>r2_mean</th>\n",
       "      <th>r2_std</th>\n",
       "      <th>r2_test</th>\n",
       "    </tr>\n",
       "  </thead>\n",
       "  <tbody>\n",
       "    <tr>\n",
       "      <th>Without NA</th>\n",
       "      <td>0.548538</td>\n",
       "      <td>0.568624</td>\n",
       "      <td>0.373218</td>\n",
       "    </tr>\n",
       "    <tr>\n",
       "      <th>Fill NA</th>\n",
       "      <td>0.591975</td>\n",
       "      <td>0.416633</td>\n",
       "      <td>0.642582</td>\n",
       "    </tr>\n",
       "    <tr>\n",
       "      <th>Full Data</th>\n",
       "      <td>0.123984</td>\n",
       "      <td>0.756375</td>\n",
       "      <td>-0.115897</td>\n",
       "    </tr>\n",
       "    <tr>\n",
       "      <th>MSSubclass Simple</th>\n",
       "      <td>0.129578</td>\n",
       "      <td>0.752395</td>\n",
       "      <td>-0.110499</td>\n",
       "    </tr>\n",
       "    <tr>\n",
       "      <th>All Category Simple</th>\n",
       "      <td>0.750350</td>\n",
       "      <td>0.177566</td>\n",
       "      <td>0.869965</td>\n",
       "    </tr>\n",
       "  </tbody>\n",
       "</table>\n",
       "</div>"
      ],
      "text/plain": [
       "                      r2_mean    r2_std   r2_test\n",
       "Without NA           0.548538  0.568624  0.373218\n",
       "Fill NA              0.591975  0.416633  0.642582\n",
       "Full Data            0.123984  0.756375 -0.115897\n",
       "MSSubclass Simple    0.129578  0.752395 -0.110499\n",
       "All Category Simple  0.750350  0.177566  0.869965"
      ]
     },
     "execution_count": 25,
     "metadata": {},
     "output_type": "execute_result"
    }
   ],
   "source": [
    "df_new_dummy = pd.get_dummies(df_new, drop_first=True, dtype=\"int\")\n",
    "print(df_new_dummy.shape)\n",
    "\n",
    "X = df_new_dummy.drop(\"SalePrice\", axis = 1)\n",
    "y = df_new_dummy.SalePrice\n",
    "\n",
    "X_train, X_test, y_train, y_test = train_test_split(X, y, test_size = 0.2, random_state = 42)\n",
    "mdl = LinearRegression()\n",
    "mdl.fit(X_train, y_train)\n",
    "y_pred = mdl.predict(X_test)\n",
    "r2 = r2_score(y_test, y_pred)\n",
    "\n",
    "scores = cross_val_score(mdl, X_train, y_train, cv=10)\n",
    "\n",
    "results.loc[\"All Category Simple\"] = [scores.mean(), scores.std(), r2]\n",
    "results"
   ]
  },
  {
   "cell_type": "code",
   "execution_count": 26,
   "metadata": {
    "colab": {
     "base_uri": "https://localhost:8080/"
    },
    "executionInfo": {
     "elapsed": 7,
     "status": "ok",
     "timestamp": 1724483691702,
     "user": {
      "displayName": "Ömer Faruk Beyca",
      "userId": "11206809171817528994"
     },
     "user_tz": -180
    },
    "id": "NhviZE-2k14Q",
    "outputId": "d5c5e411-3966-47d4-f9f0-1b50e1bf671a"
   },
   "outputs": [
    {
     "data": {
      "text/plain": [
       "array(['Gd', 'TA', 'Ex', 'Fa'], dtype=object)"
      ]
     },
     "execution_count": 26,
     "metadata": {},
     "output_type": "execute_result"
    }
   ],
   "source": [
    "df_new.ExterQual.unique()"
   ]
  },
  {
   "cell_type": "code",
   "execution_count": 27,
   "metadata": {
    "colab": {
     "base_uri": "https://localhost:8080/"
    },
    "executionInfo": {
     "elapsed": 6,
     "status": "ok",
     "timestamp": 1724483691703,
     "user": {
      "displayName": "Ömer Faruk Beyca",
      "userId": "11206809171817528994"
     },
     "user_tz": -180
    },
    "id": "g-V0mW3ok8Jj",
    "outputId": "e69ad12f-f3a9-4069-af70-ff1ced2d9ac8"
   },
   "outputs": [
    {
     "data": {
      "text/plain": [
       "array([3, 2, 4, 1])"
      ]
     },
     "execution_count": 27,
     "metadata": {},
     "output_type": "execute_result"
    }
   ],
   "source": [
    "df_new.ExterQual = df_new.ExterQual.replace({\"Fa\" : 1, \"TA\" : 2, \"Gd\" : 3, \"Ex\" : 4})\n",
    "df_new.ExterQual.unique()"
   ]
  },
  {
   "cell_type": "code",
   "execution_count": 28,
   "metadata": {
    "colab": {
     "base_uri": "https://localhost:8080/",
     "height": 255
    },
    "executionInfo": {
     "elapsed": 2041,
     "status": "ok",
     "timestamp": 1724483693740,
     "user": {
      "displayName": "Ömer Faruk Beyca",
      "userId": "11206809171817528994"
     },
     "user_tz": -180
    },
    "id": "Q6c2MBEolYnZ",
    "outputId": "fe2bee7e-03b8-4b33-b4c0-52d47d7975c6"
   },
   "outputs": [
    {
     "name": "stdout",
     "output_type": "stream",
     "text": [
      "(1460, 215)\n"
     ]
    },
    {
     "data": {
      "text/html": [
       "<div>\n",
       "<style scoped>\n",
       "    .dataframe tbody tr th:only-of-type {\n",
       "        vertical-align: middle;\n",
       "    }\n",
       "\n",
       "    .dataframe tbody tr th {\n",
       "        vertical-align: top;\n",
       "    }\n",
       "\n",
       "    .dataframe thead th {\n",
       "        text-align: right;\n",
       "    }\n",
       "</style>\n",
       "<table border=\"1\" class=\"dataframe\">\n",
       "  <thead>\n",
       "    <tr style=\"text-align: right;\">\n",
       "      <th></th>\n",
       "      <th>r2_mean</th>\n",
       "      <th>r2_std</th>\n",
       "      <th>r2_test</th>\n",
       "    </tr>\n",
       "  </thead>\n",
       "  <tbody>\n",
       "    <tr>\n",
       "      <th>Without NA</th>\n",
       "      <td>0.548538</td>\n",
       "      <td>0.568624</td>\n",
       "      <td>0.373218</td>\n",
       "    </tr>\n",
       "    <tr>\n",
       "      <th>Fill NA</th>\n",
       "      <td>0.591975</td>\n",
       "      <td>0.416633</td>\n",
       "      <td>0.642582</td>\n",
       "    </tr>\n",
       "    <tr>\n",
       "      <th>Full Data</th>\n",
       "      <td>0.123984</td>\n",
       "      <td>0.756375</td>\n",
       "      <td>-0.115897</td>\n",
       "    </tr>\n",
       "    <tr>\n",
       "      <th>MSSubclass Simple</th>\n",
       "      <td>0.129578</td>\n",
       "      <td>0.752395</td>\n",
       "      <td>-0.110499</td>\n",
       "    </tr>\n",
       "    <tr>\n",
       "      <th>All Category Simple</th>\n",
       "      <td>0.750350</td>\n",
       "      <td>0.177566</td>\n",
       "      <td>0.869965</td>\n",
       "    </tr>\n",
       "    <tr>\n",
       "      <th>ExterQual Ordinal</th>\n",
       "      <td>0.752284</td>\n",
       "      <td>0.173773</td>\n",
       "      <td>0.868884</td>\n",
       "    </tr>\n",
       "  </tbody>\n",
       "</table>\n",
       "</div>"
      ],
      "text/plain": [
       "                      r2_mean    r2_std   r2_test\n",
       "Without NA           0.548538  0.568624  0.373218\n",
       "Fill NA              0.591975  0.416633  0.642582\n",
       "Full Data            0.123984  0.756375 -0.115897\n",
       "MSSubclass Simple    0.129578  0.752395 -0.110499\n",
       "All Category Simple  0.750350  0.177566  0.869965\n",
       "ExterQual Ordinal    0.752284  0.173773  0.868884"
      ]
     },
     "execution_count": 28,
     "metadata": {},
     "output_type": "execute_result"
    }
   ],
   "source": [
    "df_new_dummy = pd.get_dummies(df_new, drop_first=True, dtype=\"int\")\n",
    "print(df_new_dummy.shape)\n",
    "\n",
    "X = df_new_dummy.drop(\"SalePrice\", axis = 1)\n",
    "y = df_new_dummy.SalePrice\n",
    "\n",
    "X_train, X_test, y_train, y_test = train_test_split(X, y, test_size = 0.2, random_state = 42)\n",
    "mdl = LinearRegression()\n",
    "mdl.fit(X_train, y_train)\n",
    "y_pred = mdl.predict(X_test)\n",
    "r2 = r2_score(y_test, y_pred)\n",
    "\n",
    "scores = cross_val_score(mdl, X_train, y_train, cv=10)\n",
    "\n",
    "results.loc[\"ExterQual Ordinal\"] = [scores.mean(), scores.std(), r2]\n",
    "results"
   ]
  },
  {
   "cell_type": "code",
   "execution_count": 29,
   "metadata": {
    "colab": {
     "base_uri": "https://localhost:8080/",
     "height": 286
    },
    "executionInfo": {
     "elapsed": 362,
     "status": "ok",
     "timestamp": 1724483694460,
     "user": {
      "displayName": "Ömer Faruk Beyca",
      "userId": "11206809171817528994"
     },
     "user_tz": -180
    },
    "id": "J7JEOB2Oskn9",
    "outputId": "fd5892fa-0232-4ac4-cd2d-ba062c743d28"
   },
   "outputs": [
    {
     "name": "stdout",
     "output_type": "stream",
     "text": [
      "(1168, 196)\n"
     ]
    },
    {
     "data": {
      "text/html": [
       "<div>\n",
       "<style scoped>\n",
       "    .dataframe tbody tr th:only-of-type {\n",
       "        vertical-align: middle;\n",
       "    }\n",
       "\n",
       "    .dataframe tbody tr th {\n",
       "        vertical-align: top;\n",
       "    }\n",
       "\n",
       "    .dataframe thead th {\n",
       "        text-align: right;\n",
       "    }\n",
       "</style>\n",
       "<table border=\"1\" class=\"dataframe\">\n",
       "  <thead>\n",
       "    <tr style=\"text-align: right;\">\n",
       "      <th></th>\n",
       "      <th>r2_mean</th>\n",
       "      <th>r2_std</th>\n",
       "      <th>r2_test</th>\n",
       "    </tr>\n",
       "  </thead>\n",
       "  <tbody>\n",
       "    <tr>\n",
       "      <th>Without NA</th>\n",
       "      <td>0.548538</td>\n",
       "      <td>0.568624</td>\n",
       "      <td>0.373218</td>\n",
       "    </tr>\n",
       "    <tr>\n",
       "      <th>Fill NA</th>\n",
       "      <td>0.591975</td>\n",
       "      <td>0.416633</td>\n",
       "      <td>0.642582</td>\n",
       "    </tr>\n",
       "    <tr>\n",
       "      <th>Full Data</th>\n",
       "      <td>0.123984</td>\n",
       "      <td>0.756375</td>\n",
       "      <td>-0.115897</td>\n",
       "    </tr>\n",
       "    <tr>\n",
       "      <th>MSSubclass Simple</th>\n",
       "      <td>0.129578</td>\n",
       "      <td>0.752395</td>\n",
       "      <td>-0.110499</td>\n",
       "    </tr>\n",
       "    <tr>\n",
       "      <th>All Category Simple</th>\n",
       "      <td>0.750350</td>\n",
       "      <td>0.177566</td>\n",
       "      <td>0.869965</td>\n",
       "    </tr>\n",
       "    <tr>\n",
       "      <th>ExterQual Ordinal</th>\n",
       "      <td>0.752284</td>\n",
       "      <td>0.173773</td>\n",
       "      <td>0.868884</td>\n",
       "    </tr>\n",
       "    <tr>\n",
       "      <th>Variance Threshold</th>\n",
       "      <td>0.806228</td>\n",
       "      <td>0.133860</td>\n",
       "      <td>0.868697</td>\n",
       "    </tr>\n",
       "  </tbody>\n",
       "</table>\n",
       "</div>"
      ],
      "text/plain": [
       "                      r2_mean    r2_std   r2_test\n",
       "Without NA           0.548538  0.568624  0.373218\n",
       "Fill NA              0.591975  0.416633  0.642582\n",
       "Full Data            0.123984  0.756375 -0.115897\n",
       "MSSubclass Simple    0.129578  0.752395 -0.110499\n",
       "All Category Simple  0.750350  0.177566  0.869965\n",
       "ExterQual Ordinal    0.752284  0.173773  0.868884\n",
       "Variance Threshold   0.806228  0.133860  0.868697"
      ]
     },
     "execution_count": 29,
     "metadata": {},
     "output_type": "execute_result"
    }
   ],
   "source": [
    "from sklearn.feature_selection import VarianceThreshold\n",
    "\n",
    "selector = VarianceThreshold(0.01)\n",
    "selector.fit(X_train)\n",
    "\n",
    "X_train_new = selector.transform(X_train)\n",
    "X_test_new = selector.transform(X_test)\n",
    "print(X_train_new.shape)\n",
    "\n",
    "mdl = LinearRegression()\n",
    "mdl.fit(X_train_new, y_train)\n",
    "y_pred = mdl.predict(X_test_new)\n",
    "r2 = r2_score(y_test, y_pred)\n",
    "\n",
    "scores = cross_val_score(mdl, X_train_new, y_train, cv=10)\n",
    "\n",
    "results.loc[\"Variance Threshold\"] = [scores.mean(), scores.std(), r2]\n",
    "results"
   ]
  },
  {
   "cell_type": "code",
   "execution_count": 30,
   "metadata": {
    "colab": {
     "base_uri": "https://localhost:8080/",
     "height": 458
    },
    "executionInfo": {
     "elapsed": 518,
     "status": "ok",
     "timestamp": 1724483694976,
     "user": {
      "displayName": "Ömer Faruk Beyca",
      "userId": "11206809171817528994"
     },
     "user_tz": -180
    },
    "id": "nDx-NCNuuha3",
    "outputId": "dd9c6f2f-88df-4bdd-8a28-470cbb7ec792"
   },
   "outputs": [
    {
     "data": {
      "text/plain": [
       "OverallQual             1879.151818\n",
       "GrLivArea               1093.390361\n",
       "ExterQual                927.122414\n",
       "GarageCars               813.186816\n",
       "GarageArea               744.064301\n",
       "                           ...     \n",
       "Condition2_Other           0.047660\n",
       "BsmtFinSF2                 0.038298\n",
       "RoofStyle_Other            0.010914\n",
       "Neighborhood_SawyerW       0.007409\n",
       "Foundation_Other           0.000051\n",
       "Length: 214, dtype: float64"
      ]
     },
     "execution_count": 30,
     "metadata": {},
     "output_type": "execute_result"
    }
   ],
   "source": [
    "from sklearn.feature_selection import SelectKBest, f_regression\n",
    "\n",
    "selector = SelectKBest(f_regression, k=\"all\")\n",
    "selector.fit(X_train, y_train)\n",
    "\n",
    "f_scores = pd.Series(selector.scores_, index = X_train.columns)\n",
    "f_scores = f_scores.sort_values(ascending=False)\n",
    "f_scores"
   ]
  },
  {
   "cell_type": "code",
   "execution_count": 31,
   "metadata": {
    "colab": {
     "base_uri": "https://localhost:8080/",
     "height": 318
    },
    "executionInfo": {
     "elapsed": 757,
     "status": "ok",
     "timestamp": 1724483695727,
     "user": {
      "displayName": "Ömer Faruk Beyca",
      "userId": "11206809171817528994"
     },
     "user_tz": -180
    },
    "id": "D1F2zYyFvPPq",
    "outputId": "0c6ad83d-2bef-4cd4-eb6e-5bf13e30564b"
   },
   "outputs": [
    {
     "name": "stdout",
     "output_type": "stream",
     "text": [
      "(1168, 108)\n"
     ]
    },
    {
     "data": {
      "text/html": [
       "<div>\n",
       "<style scoped>\n",
       "    .dataframe tbody tr th:only-of-type {\n",
       "        vertical-align: middle;\n",
       "    }\n",
       "\n",
       "    .dataframe tbody tr th {\n",
       "        vertical-align: top;\n",
       "    }\n",
       "\n",
       "    .dataframe thead th {\n",
       "        text-align: right;\n",
       "    }\n",
       "</style>\n",
       "<table border=\"1\" class=\"dataframe\">\n",
       "  <thead>\n",
       "    <tr style=\"text-align: right;\">\n",
       "      <th></th>\n",
       "      <th>r2_mean</th>\n",
       "      <th>r2_std</th>\n",
       "      <th>r2_test</th>\n",
       "    </tr>\n",
       "  </thead>\n",
       "  <tbody>\n",
       "    <tr>\n",
       "      <th>Without NA</th>\n",
       "      <td>0.548538</td>\n",
       "      <td>0.568624</td>\n",
       "      <td>0.373218</td>\n",
       "    </tr>\n",
       "    <tr>\n",
       "      <th>Fill NA</th>\n",
       "      <td>0.591975</td>\n",
       "      <td>0.416633</td>\n",
       "      <td>0.642582</td>\n",
       "    </tr>\n",
       "    <tr>\n",
       "      <th>Full Data</th>\n",
       "      <td>0.123984</td>\n",
       "      <td>0.756375</td>\n",
       "      <td>-0.115897</td>\n",
       "    </tr>\n",
       "    <tr>\n",
       "      <th>MSSubclass Simple</th>\n",
       "      <td>0.129578</td>\n",
       "      <td>0.752395</td>\n",
       "      <td>-0.110499</td>\n",
       "    </tr>\n",
       "    <tr>\n",
       "      <th>All Category Simple</th>\n",
       "      <td>0.750350</td>\n",
       "      <td>0.177566</td>\n",
       "      <td>0.869965</td>\n",
       "    </tr>\n",
       "    <tr>\n",
       "      <th>ExterQual Ordinal</th>\n",
       "      <td>0.752284</td>\n",
       "      <td>0.173773</td>\n",
       "      <td>0.868884</td>\n",
       "    </tr>\n",
       "    <tr>\n",
       "      <th>Variance Threshold</th>\n",
       "      <td>0.806228</td>\n",
       "      <td>0.133860</td>\n",
       "      <td>0.868697</td>\n",
       "    </tr>\n",
       "    <tr>\n",
       "      <th>Seleck Kbest</th>\n",
       "      <td>0.812241</td>\n",
       "      <td>0.119639</td>\n",
       "      <td>0.871132</td>\n",
       "    </tr>\n",
       "  </tbody>\n",
       "</table>\n",
       "</div>"
      ],
      "text/plain": [
       "                      r2_mean    r2_std   r2_test\n",
       "Without NA           0.548538  0.568624  0.373218\n",
       "Fill NA              0.591975  0.416633  0.642582\n",
       "Full Data            0.123984  0.756375 -0.115897\n",
       "MSSubclass Simple    0.129578  0.752395 -0.110499\n",
       "All Category Simple  0.750350  0.177566  0.869965\n",
       "ExterQual Ordinal    0.752284  0.173773  0.868884\n",
       "Variance Threshold   0.806228  0.133860  0.868697\n",
       "Seleck Kbest         0.812241  0.119639  0.871132"
      ]
     },
     "execution_count": 31,
     "metadata": {},
     "output_type": "execute_result"
    }
   ],
   "source": [
    "k = 108\n",
    "\n",
    "best_cols = f_scores[:k].index\n",
    "\n",
    "X_train_new = X_train[best_cols]\n",
    "X_test_new = X_test[best_cols]\n",
    "print(X_train_new.shape)\n",
    "\n",
    "mdl = LinearRegression()\n",
    "mdl.fit(X_train_new, y_train)\n",
    "y_pred = mdl.predict(X_test_new)\n",
    "r2 = r2_score(y_test, y_pred)\n",
    "\n",
    "scores = cross_val_score(mdl, X_train_new, y_train, cv=10)\n",
    "\n",
    "results.loc[\"Seleck Kbest\"] = [scores.mean(), scores.std(), r2]\n",
    "results"
   ]
  },
  {
   "cell_type": "code",
   "execution_count": 32,
   "metadata": {
    "colab": {
     "base_uri": "https://localhost:8080/"
    },
    "executionInfo": {
     "elapsed": 115281,
     "status": "ok",
     "timestamp": 1724483811005,
     "user": {
      "displayName": "Ömer Faruk Beyca",
      "userId": "11206809171817528994"
     },
     "user_tz": -180
    },
    "id": "oCFL4tKzxGjF",
    "outputId": "ab276f27-5ae4-4508-b555-09a06e5602cf"
   },
   "outputs": [
    {
     "name": "stdout",
     "output_type": "stream",
     "text": [
      "108\n"
     ]
    }
   ],
   "source": [
    "best_r2 = -np.inf\n",
    "\n",
    "for k in range(2, X_train.shape[1]):\n",
    "  best_cols = f_scores[:k].index\n",
    "  X_train_new = X_train[best_cols]\n",
    "  scores = cross_val_score(mdl, X_train_new, y_train, cv=10)\n",
    "  if scores.mean() > best_r2:\n",
    "    best_r2 = scores.mean()\n",
    "    best_k = k\n",
    "\n",
    "print(best_k)"
   ]
  },
  {
   "cell_type": "code",
   "execution_count": 33,
   "metadata": {
    "colab": {
     "base_uri": "https://localhost:8080/",
     "height": 458
    },
    "executionInfo": {
     "elapsed": 9518,
     "status": "ok",
     "timestamp": 1724484934063,
     "user": {
      "displayName": "Ömer Faruk Beyca",
      "userId": "11206809171817528994"
     },
     "user_tz": -180
    },
    "id": "VfccY3maQO7w",
    "outputId": "0f3a43a9-3b4b-4bea-98a6-33f8f312a4eb"
   },
   "outputs": [
    {
     "data": {
      "text/plain": [
       "OverallQual              1\n",
       "GrLivArea                2\n",
       "TotalBsmtSF              3\n",
       "YearBuilt                4\n",
       "LotArea                  5\n",
       "                      ... \n",
       "Exterior1st_CemntBd    210\n",
       "HouseStyle_SFoyer      211\n",
       "GarageCond_None        212\n",
       "Condition1_PosN        213\n",
       "LotShape_IR3           214\n",
       "Length: 214, dtype: int64"
      ]
     },
     "execution_count": 33,
     "metadata": {},
     "output_type": "execute_result"
    }
   ],
   "source": [
    "from sklearn.feature_selection import RFE\n",
    "from sklearn.tree import DecisionTreeRegressor\n",
    "\n",
    "\n",
    "selector = RFE(DecisionTreeRegressor(random_state = 42), n_features_to_select=1)\n",
    "selector.fit(X_train, y_train)\n",
    "\n",
    "ranks = pd.Series(selector.ranking_, index = X_train.columns)\n",
    "ranks = ranks.sort_values()\n",
    "ranks"
   ]
  },
  {
   "cell_type": "code",
   "execution_count": 34,
   "metadata": {
    "colab": {
     "base_uri": "https://localhost:8080/",
     "height": 349
    },
    "executionInfo": {
     "elapsed": 1393,
     "status": "ok",
     "timestamp": 1724485561668,
     "user": {
      "displayName": "Ömer Faruk Beyca",
      "userId": "11206809171817528994"
     },
     "user_tz": -180
    },
    "id": "pAA1oRmtUEnT",
    "outputId": "c97b7e94-1286-45b4-b094-00e3425d9ef3"
   },
   "outputs": [
    {
     "name": "stdout",
     "output_type": "stream",
     "text": [
      "(1168, 87)\n"
     ]
    },
    {
     "data": {
      "text/html": [
       "<div>\n",
       "<style scoped>\n",
       "    .dataframe tbody tr th:only-of-type {\n",
       "        vertical-align: middle;\n",
       "    }\n",
       "\n",
       "    .dataframe tbody tr th {\n",
       "        vertical-align: top;\n",
       "    }\n",
       "\n",
       "    .dataframe thead th {\n",
       "        text-align: right;\n",
       "    }\n",
       "</style>\n",
       "<table border=\"1\" class=\"dataframe\">\n",
       "  <thead>\n",
       "    <tr style=\"text-align: right;\">\n",
       "      <th></th>\n",
       "      <th>r2_mean</th>\n",
       "      <th>r2_std</th>\n",
       "      <th>r2_test</th>\n",
       "    </tr>\n",
       "  </thead>\n",
       "  <tbody>\n",
       "    <tr>\n",
       "      <th>Without NA</th>\n",
       "      <td>0.548538</td>\n",
       "      <td>0.568624</td>\n",
       "      <td>0.373218</td>\n",
       "    </tr>\n",
       "    <tr>\n",
       "      <th>Fill NA</th>\n",
       "      <td>0.591975</td>\n",
       "      <td>0.416633</td>\n",
       "      <td>0.642582</td>\n",
       "    </tr>\n",
       "    <tr>\n",
       "      <th>Full Data</th>\n",
       "      <td>0.123984</td>\n",
       "      <td>0.756375</td>\n",
       "      <td>-0.115897</td>\n",
       "    </tr>\n",
       "    <tr>\n",
       "      <th>MSSubclass Simple</th>\n",
       "      <td>0.129578</td>\n",
       "      <td>0.752395</td>\n",
       "      <td>-0.110499</td>\n",
       "    </tr>\n",
       "    <tr>\n",
       "      <th>All Category Simple</th>\n",
       "      <td>0.750350</td>\n",
       "      <td>0.177566</td>\n",
       "      <td>0.869965</td>\n",
       "    </tr>\n",
       "    <tr>\n",
       "      <th>ExterQual Ordinal</th>\n",
       "      <td>0.752284</td>\n",
       "      <td>0.173773</td>\n",
       "      <td>0.868884</td>\n",
       "    </tr>\n",
       "    <tr>\n",
       "      <th>Variance Threshold</th>\n",
       "      <td>0.806228</td>\n",
       "      <td>0.133860</td>\n",
       "      <td>0.868697</td>\n",
       "    </tr>\n",
       "    <tr>\n",
       "      <th>Seleck Kbest</th>\n",
       "      <td>0.812241</td>\n",
       "      <td>0.119639</td>\n",
       "      <td>0.871132</td>\n",
       "    </tr>\n",
       "    <tr>\n",
       "      <th>RFE</th>\n",
       "      <td>0.804137</td>\n",
       "      <td>0.129364</td>\n",
       "      <td>0.859627</td>\n",
       "    </tr>\n",
       "  </tbody>\n",
       "</table>\n",
       "</div>"
      ],
      "text/plain": [
       "                      r2_mean    r2_std   r2_test\n",
       "Without NA           0.548538  0.568624  0.373218\n",
       "Fill NA              0.591975  0.416633  0.642582\n",
       "Full Data            0.123984  0.756375 -0.115897\n",
       "MSSubclass Simple    0.129578  0.752395 -0.110499\n",
       "All Category Simple  0.750350  0.177566  0.869965\n",
       "ExterQual Ordinal    0.752284  0.173773  0.868884\n",
       "Variance Threshold   0.806228  0.133860  0.868697\n",
       "Seleck Kbest         0.812241  0.119639  0.871132\n",
       "RFE                  0.804137  0.129364  0.859627"
      ]
     },
     "execution_count": 34,
     "metadata": {},
     "output_type": "execute_result"
    }
   ],
   "source": [
    "k = 87\n",
    "\n",
    "best_cols = ranks[:k].index\n",
    "\n",
    "X_train_new = X_train[best_cols]\n",
    "X_test_new = X_test[best_cols]\n",
    "print(X_train_new.shape)\n",
    "\n",
    "mdl = LinearRegression()\n",
    "mdl.fit(X_train_new, y_train)\n",
    "y_pred = mdl.predict(X_test_new)\n",
    "r2 = r2_score(y_test, y_pred)\n",
    "\n",
    "scores = cross_val_score(mdl, X_train_new, y_train, cv=10)\n",
    "\n",
    "results.loc[\"RFE\"] = [scores.mean(), scores.std(), r2]\n",
    "results"
   ]
  },
  {
   "cell_type": "code",
   "execution_count": 35,
   "metadata": {
    "colab": {
     "base_uri": "https://localhost:8080/"
    },
    "executionInfo": {
     "elapsed": 127892,
     "status": "ok",
     "timestamp": 1724485553433,
     "user": {
      "displayName": "Ömer Faruk Beyca",
      "userId": "11206809171817528994"
     },
     "user_tz": -180
    },
    "id": "5oSE0fLQVzNa",
    "outputId": "013d8bfb-5709-42c2-de66-75e6f75f124b"
   },
   "outputs": [
    {
     "name": "stdout",
     "output_type": "stream",
     "text": [
      "87\n"
     ]
    }
   ],
   "source": [
    "best_r2 = -np.inf\n",
    "\n",
    "for k in range(2, X_train.shape[1]):\n",
    "  best_cols = ranks[:k].index\n",
    "  X_train_new = X_train[best_cols]\n",
    "  scores = cross_val_score(mdl, X_train_new, y_train, cv=10)\n",
    "  if scores.mean() > best_r2:\n",
    "    best_r2 = scores.mean()\n",
    "    best_k = k\n",
    "\n",
    "print(best_k)"
   ]
  },
  {
   "cell_type": "code",
   "execution_count": 36,
   "metadata": {
    "colab": {
     "base_uri": "https://localhost:8080/",
     "height": 458
    },
    "executionInfo": {
     "elapsed": 364,
     "status": "ok",
     "timestamp": 1724485789285,
     "user": {
      "displayName": "Ömer Faruk Beyca",
      "userId": "11206809171817528994"
     },
     "user_tz": -180
    },
    "id": "QqN4zaHWWkmS",
    "outputId": "46facc08-85b5-4ae3-cd4d-93248e8a843b"
   },
   "outputs": [
    {
     "data": {
      "text/plain": [
       "OverallQual            0.634357\n",
       "GrLivArea              0.105921\n",
       "TotalBsmtSF            0.031588\n",
       "2ndFlrSF               0.029569\n",
       "1stFlrSF               0.017808\n",
       "                         ...   \n",
       "GarageType_Other       0.000000\n",
       "GarageFinish_None      0.000000\n",
       "MSSubClass_80          0.000000\n",
       "Exterior1st_WdShing    0.000000\n",
       "MSSubClass_85          0.000000\n",
       "Length: 214, dtype: float64"
      ]
     },
     "execution_count": 36,
     "metadata": {},
     "output_type": "execute_result"
    }
   ],
   "source": [
    "dt_mdl = DecisionTreeRegressor(random_state = 42)\n",
    "dt_mdl.fit(X_train, y_train)\n",
    "\n",
    "importances = dt_mdl.feature_importances_\n",
    "importances = pd.Series(importances, index = X_train.columns)\n",
    "importances = importances.sort_values(ascending=False)\n",
    "importances"
   ]
  },
  {
   "cell_type": "code",
   "execution_count": 37,
   "metadata": {
    "colab": {
     "base_uri": "https://localhost:8080/"
    },
    "executionInfo": {
     "elapsed": 119053,
     "status": "ok",
     "timestamp": 1724485914995,
     "user": {
      "displayName": "Ömer Faruk Beyca",
      "userId": "11206809171817528994"
     },
     "user_tz": -180
    },
    "id": "hDZvVb-rW0tb",
    "outputId": "342f1bf4-3779-4f5b-c3e1-5ebd2c489f5e"
   },
   "outputs": [
    {
     "name": "stdout",
     "output_type": "stream",
     "text": [
      "116\n"
     ]
    }
   ],
   "source": [
    "best_r2 = -np.inf\n",
    "\n",
    "for k in range(2, X_train.shape[1]):\n",
    "  best_cols = importances[:k].index\n",
    "  X_train_new = X_train[best_cols]\n",
    "  scores = cross_val_score(mdl, X_train_new, y_train, cv=10)\n",
    "  if scores.mean() > best_r2:\n",
    "    best_r2 = scores.mean()\n",
    "    best_k = k\n",
    "\n",
    "print(best_k)"
   ]
  },
  {
   "cell_type": "code",
   "execution_count": 38,
   "metadata": {
    "colab": {
     "base_uri": "https://localhost:8080/",
     "height": 380
    },
    "executionInfo": {
     "elapsed": 1331,
     "status": "ok",
     "timestamp": 1724486119478,
     "user": {
      "displayName": "Ömer Faruk Beyca",
      "userId": "11206809171817528994"
     },
     "user_tz": -180
    },
    "id": "8eyHxNbgYZPY",
    "outputId": "87890cb8-2332-4545-84ee-53c4fb67c894"
   },
   "outputs": [
    {
     "name": "stdout",
     "output_type": "stream",
     "text": [
      "(1168, 116)\n"
     ]
    },
    {
     "data": {
      "text/html": [
       "<div>\n",
       "<style scoped>\n",
       "    .dataframe tbody tr th:only-of-type {\n",
       "        vertical-align: middle;\n",
       "    }\n",
       "\n",
       "    .dataframe tbody tr th {\n",
       "        vertical-align: top;\n",
       "    }\n",
       "\n",
       "    .dataframe thead th {\n",
       "        text-align: right;\n",
       "    }\n",
       "</style>\n",
       "<table border=\"1\" class=\"dataframe\">\n",
       "  <thead>\n",
       "    <tr style=\"text-align: right;\">\n",
       "      <th></th>\n",
       "      <th>r2_mean</th>\n",
       "      <th>r2_std</th>\n",
       "      <th>r2_test</th>\n",
       "    </tr>\n",
       "  </thead>\n",
       "  <tbody>\n",
       "    <tr>\n",
       "      <th>Without NA</th>\n",
       "      <td>0.548538</td>\n",
       "      <td>0.568624</td>\n",
       "      <td>0.373218</td>\n",
       "    </tr>\n",
       "    <tr>\n",
       "      <th>Fill NA</th>\n",
       "      <td>0.591975</td>\n",
       "      <td>0.416633</td>\n",
       "      <td>0.642582</td>\n",
       "    </tr>\n",
       "    <tr>\n",
       "      <th>Full Data</th>\n",
       "      <td>0.123984</td>\n",
       "      <td>0.756375</td>\n",
       "      <td>-0.115897</td>\n",
       "    </tr>\n",
       "    <tr>\n",
       "      <th>MSSubclass Simple</th>\n",
       "      <td>0.129578</td>\n",
       "      <td>0.752395</td>\n",
       "      <td>-0.110499</td>\n",
       "    </tr>\n",
       "    <tr>\n",
       "      <th>All Category Simple</th>\n",
       "      <td>0.750350</td>\n",
       "      <td>0.177566</td>\n",
       "      <td>0.869965</td>\n",
       "    </tr>\n",
       "    <tr>\n",
       "      <th>ExterQual Ordinal</th>\n",
       "      <td>0.752284</td>\n",
       "      <td>0.173773</td>\n",
       "      <td>0.868884</td>\n",
       "    </tr>\n",
       "    <tr>\n",
       "      <th>Variance Threshold</th>\n",
       "      <td>0.806228</td>\n",
       "      <td>0.133860</td>\n",
       "      <td>0.868697</td>\n",
       "    </tr>\n",
       "    <tr>\n",
       "      <th>Seleck Kbest</th>\n",
       "      <td>0.812241</td>\n",
       "      <td>0.119639</td>\n",
       "      <td>0.871132</td>\n",
       "    </tr>\n",
       "    <tr>\n",
       "      <th>RFE</th>\n",
       "      <td>0.804137</td>\n",
       "      <td>0.129364</td>\n",
       "      <td>0.859627</td>\n",
       "    </tr>\n",
       "    <tr>\n",
       "      <th>Select From Model</th>\n",
       "      <td>0.812435</td>\n",
       "      <td>0.132485</td>\n",
       "      <td>0.859646</td>\n",
       "    </tr>\n",
       "  </tbody>\n",
       "</table>\n",
       "</div>"
      ],
      "text/plain": [
       "                      r2_mean    r2_std   r2_test\n",
       "Without NA           0.548538  0.568624  0.373218\n",
       "Fill NA              0.591975  0.416633  0.642582\n",
       "Full Data            0.123984  0.756375 -0.115897\n",
       "MSSubclass Simple    0.129578  0.752395 -0.110499\n",
       "All Category Simple  0.750350  0.177566  0.869965\n",
       "ExterQual Ordinal    0.752284  0.173773  0.868884\n",
       "Variance Threshold   0.806228  0.133860  0.868697\n",
       "Seleck Kbest         0.812241  0.119639  0.871132\n",
       "RFE                  0.804137  0.129364  0.859627\n",
       "Select From Model    0.812435  0.132485  0.859646"
      ]
     },
     "execution_count": 38,
     "metadata": {},
     "output_type": "execute_result"
    }
   ],
   "source": [
    "k = 116\n",
    "\n",
    "best_cols = importances[:k].index\n",
    "\n",
    "X_train_new = X_train[best_cols]\n",
    "X_test_new = X_test[best_cols]\n",
    "print(X_train_new.shape)\n",
    "\n",
    "mdl = LinearRegression()\n",
    "mdl.fit(X_train_new, y_train)\n",
    "y_pred = mdl.predict(X_test_new)\n",
    "r2 = r2_score(y_test, y_pred)\n",
    "\n",
    "scores = cross_val_score(mdl, X_train_new, y_train, cv=10)\n",
    "\n",
    "results.loc[\"Select From Model\"] = [scores.mean(), scores.std(), r2]\n",
    "results"
   ]
  },
  {
   "cell_type": "code",
   "execution_count": 39,
   "metadata": {
    "colab": {
     "base_uri": "https://localhost:8080/",
     "height": 435
    },
    "executionInfo": {
     "elapsed": 717,
     "status": "ok",
     "timestamp": 1724486205592,
     "user": {
      "displayName": "Ömer Faruk Beyca",
      "userId": "11206809171817528994"
     },
     "user_tz": -180
    },
    "id": "DDCXOVtzYjr7",
    "outputId": "4b95eea4-6f9e-40b1-8c26-54255005cd1f"
   },
   "outputs": [
    {
     "data": {
      "image/png": "[encoded data removed]",
      "text/plain": [
       "<Figure size 640x480 with 1 Axes>"
      ]
     },
     "metadata": {},
     "output_type": "display_data"
    }
   ],
   "source": [
    "x1 = np.random.normal(0, 1, 10)\n",
    "x2 = 2 * x1 + 3 + np.random.normal(0, 1, 10)\n",
    "\n",
    "plt.plot(x1, x2, \"o\")\n",
    "plt.grid()"
   ]
  },
  {
   "cell_type": "code",
   "execution_count": 40,
   "metadata": {
    "colab": {
     "base_uri": "https://localhost:8080/",
     "height": 502
    },
    "executionInfo": {
     "elapsed": 606,
     "status": "ok",
     "timestamp": 1724486321464,
     "user": {
      "displayName": "Ömer Faruk Beyca",
      "userId": "11206809171817528994"
     },
     "user_tz": -180
    },
    "id": "wFvls2iEY2eG",
    "outputId": "9f0ad2e1-7d7c-42ab-9137-556f9be9896f"
   },
   "outputs": [
    {
     "data": {
      "text/plain": [
       "(-3.5455784850601697, 4.190278642962661, -0.5989784816513909, 7.13687864637144)"
      ]
     },
     "execution_count": 40,
     "metadata": {},
     "output_type": "execute_result"
    },
    {
     "data": {
      "image/png": "[encoded data removed]",
      "text/plain": [
       "<Figure size 640x480 with 1 Axes>"
      ]
     },
     "metadata": {},
     "output_type": "display_data"
    }
   ],
   "source": [
    "from sklearn.decomposition import PCA\n",
    "\n",
    "pca = PCA()\n",
    "X_temp = np.c_[x1,x2]\n",
    "X_temp = pca.fit_transform(X_temp)\n",
    "plt.plot(X_temp[:,0], X_temp[:,1], \"o\")\n",
    "plt.grid()\n",
    "plt.axis(\"square\")"
   ]
  },
  {
   "cell_type": "code",
   "execution_count": 41,
   "metadata": {
    "colab": {
     "base_uri": "https://localhost:8080/",
     "height": 412
    },
    "executionInfo": {
     "elapsed": 732,
     "status": "ok",
     "timestamp": 1724486566036,
     "user": {
      "displayName": "Ömer Faruk Beyca",
      "userId": "11206809171817528994"
     },
     "user_tz": -180
    },
    "id": "JscQh_pfZX63",
    "outputId": "a34ad54d-c245-4386-84ca-48259e36ffe7"
   },
   "outputs": [
    {
     "name": "stdout",
     "output_type": "stream",
     "text": [
      "(1168, 4)\n"
     ]
    },
    {
     "data": {
      "text/html": [
       "<div>\n",
       "<style scoped>\n",
       "    .dataframe tbody tr th:only-of-type {\n",
       "        vertical-align: middle;\n",
       "    }\n",
       "\n",
       "    .dataframe tbody tr th {\n",
       "        vertical-align: top;\n",
       "    }\n",
       "\n",
       "    .dataframe thead th {\n",
       "        text-align: right;\n",
       "    }\n",
       "</style>\n",
       "<table border=\"1\" class=\"dataframe\">\n",
       "  <thead>\n",
       "    <tr style=\"text-align: right;\">\n",
       "      <th></th>\n",
       "      <th>r2_mean</th>\n",
       "      <th>r2_std</th>\n",
       "      <th>r2_test</th>\n",
       "    </tr>\n",
       "  </thead>\n",
       "  <tbody>\n",
       "    <tr>\n",
       "      <th>Without NA</th>\n",
       "      <td>0.548538</td>\n",
       "      <td>0.568624</td>\n",
       "      <td>0.373218</td>\n",
       "    </tr>\n",
       "    <tr>\n",
       "      <th>Fill NA</th>\n",
       "      <td>0.591975</td>\n",
       "      <td>0.416633</td>\n",
       "      <td>0.642582</td>\n",
       "    </tr>\n",
       "    <tr>\n",
       "      <th>Full Data</th>\n",
       "      <td>0.123984</td>\n",
       "      <td>0.756375</td>\n",
       "      <td>-0.115897</td>\n",
       "    </tr>\n",
       "    <tr>\n",
       "      <th>MSSubclass Simple</th>\n",
       "      <td>0.129578</td>\n",
       "      <td>0.752395</td>\n",
       "      <td>-0.110499</td>\n",
       "    </tr>\n",
       "    <tr>\n",
       "      <th>All Category Simple</th>\n",
       "      <td>0.750350</td>\n",
       "      <td>0.177566</td>\n",
       "      <td>0.869965</td>\n",
       "    </tr>\n",
       "    <tr>\n",
       "      <th>ExterQual Ordinal</th>\n",
       "      <td>0.752284</td>\n",
       "      <td>0.173773</td>\n",
       "      <td>0.868884</td>\n",
       "    </tr>\n",
       "    <tr>\n",
       "      <th>Variance Threshold</th>\n",
       "      <td>0.806228</td>\n",
       "      <td>0.133860</td>\n",
       "      <td>0.868697</td>\n",
       "    </tr>\n",
       "    <tr>\n",
       "      <th>Seleck Kbest</th>\n",
       "      <td>0.812241</td>\n",
       "      <td>0.119639</td>\n",
       "      <td>0.871132</td>\n",
       "    </tr>\n",
       "    <tr>\n",
       "      <th>RFE</th>\n",
       "      <td>0.804137</td>\n",
       "      <td>0.129364</td>\n",
       "      <td>0.859627</td>\n",
       "    </tr>\n",
       "    <tr>\n",
       "      <th>Select From Model</th>\n",
       "      <td>0.812435</td>\n",
       "      <td>0.132485</td>\n",
       "      <td>0.859646</td>\n",
       "    </tr>\n",
       "    <tr>\n",
       "      <th>PCA</th>\n",
       "      <td>0.588476</td>\n",
       "      <td>0.214410</td>\n",
       "      <td>0.707351</td>\n",
       "    </tr>\n",
       "  </tbody>\n",
       "</table>\n",
       "</div>"
      ],
      "text/plain": [
       "                      r2_mean    r2_std   r2_test\n",
       "Without NA           0.548538  0.568624  0.373218\n",
       "Fill NA              0.591975  0.416633  0.642582\n",
       "Full Data            0.123984  0.756375 -0.115897\n",
       "MSSubclass Simple    0.129578  0.752395 -0.110499\n",
       "All Category Simple  0.750350  0.177566  0.869965\n",
       "ExterQual Ordinal    0.752284  0.173773  0.868884\n",
       "Variance Threshold   0.806228  0.133860  0.868697\n",
       "Seleck Kbest         0.812241  0.119639  0.871132\n",
       "RFE                  0.804137  0.129364  0.859627\n",
       "Select From Model    0.812435  0.132485  0.859646\n",
       "PCA                  0.588476  0.214410  0.707351"
      ]
     },
     "execution_count": 41,
     "metadata": {},
     "output_type": "execute_result"
    }
   ],
   "source": [
    "pca = PCA(n_components=4)\n",
    "pca.fit(X_train)\n",
    "\n",
    "X_train_new = pca.transform(X_train)\n",
    "X_test_new = pca.transform(X_test)\n",
    "\n",
    "print(X_train_new.shape)\n",
    "\n",
    "mdl = LinearRegression()\n",
    "mdl.fit(X_train_new, y_train)\n",
    "y_pred = mdl.predict(X_test_new)\n",
    "r2 = r2_score(y_test, y_pred)\n",
    "\n",
    "scores = cross_val_score(mdl, X_train_new, y_train, cv=10)\n",
    "\n",
    "results.loc[\"PCA\"] = [scores.mean(), scores.std(), r2]\n",
    "results"
   ]
  },
  {
   "cell_type": "code",
   "execution_count": 42,
   "metadata": {
    "colab": {
     "base_uri": "https://localhost:8080/"
    },
    "executionInfo": {
     "elapsed": 297,
     "status": "ok",
     "timestamp": 1724488039202,
     "user": {
      "displayName": "Ömer Faruk Beyca",
      "userId": "11206809171817528994"
     },
     "user_tz": -180
    },
    "id": "azSwAKBkaBXV",
    "outputId": "5f175f1c-3cf1-4ddf-dcf2-7ee8691b0525"
   },
   "outputs": [
    {
     "data": {
      "text/plain": [
       "array([[0.0331861 , 0.44444444, 0.625     , ..., 0.        , 1.        ,\n",
       "        0.        ],\n",
       "       [0.03055458, 0.55555556, 0.75      , ..., 0.        , 1.        ,\n",
       "        0.        ],\n",
       "       [0.03494823, 0.44444444, 0.75      , ..., 0.        , 1.        ,\n",
       "        0.        ],\n",
       "       ...,\n",
       "       [0.0321204 , 0.44444444, 0.75      , ..., 0.        , 1.        ,\n",
       "        0.        ],\n",
       "       [0.02964313, 0.66666667, 0.875     , ..., 0.        , 1.        ,\n",
       "        0.        ],\n",
       "       [0.01114305, 0.66666667, 0.5       , ..., 1.        , 0.        ,\n",
       "        0.        ]])"
      ]
     },
     "execution_count": 42,
     "metadata": {},
     "output_type": "execute_result"
    }
   ],
   "source": [
    "from sklearn.preprocessing import StandardScaler, MinMaxScaler\n",
    "\n",
    "scaler = MinMaxScaler()\n",
    "scaler.fit(X_train)\n",
    "\n",
    "X_train_new = scaler.transform(X_train)\n",
    "X_test_new = scaler.transform(X_test)\n",
    "X_train_new"
   ]
  },
  {
   "cell_type": "code",
   "execution_count": 43,
   "metadata": {
    "colab": {
     "base_uri": "https://localhost:8080/"
    },
    "executionInfo": {
     "elapsed": 1441,
     "status": "ok",
     "timestamp": 1724488244355,
     "user": {
      "displayName": "Ömer Faruk Beyca",
      "userId": "11206809171817528994"
     },
     "user_tz": -180
    },
    "id": "WkZAEvEOfs9y",
    "outputId": "6089d8d8-fd3e-4d1e-e1a2-fefb81791b6c"
   },
   "outputs": [
    {
     "name": "stdout",
     "output_type": "stream",
     "text": [
      "(1168, 214)\n",
      "(292, 210)\n"
     ]
    }
   ],
   "source": [
    "X = df_new.drop(\"SalePrice\", axis = 1)\n",
    "y = df_new.SalePrice\n",
    "\n",
    "X_train, X_test, y_train, y_test = train_test_split(X, y, test_size = 0.2, random_state = 42)\n",
    "print(pd.get_dummies(X_train, drop_first=True, dtype=\"int\").shape)\n",
    "print(pd.get_dummies(X_test, drop_first=True, dtype=\"int\").shape)"
   ]
  },
  {
   "cell_type": "code",
   "execution_count": 44,
   "metadata": {
    "executionInfo": {
     "elapsed": 366,
     "status": "ok",
     "timestamp": 1724488939672,
     "user": {
      "displayName": "Ömer Faruk Beyca",
      "userId": "11206809171817528994"
     },
     "user_tz": -180
    },
    "id": "wsl6vzG7jBmh"
   },
   "outputs": [],
   "source": [
    "cat_cols = [col for col in df_new.columns if df_new[col].dtype == \"object\"]\n",
    "num_cols = [col for col in df_new.columns if col not in cat_cols]"
   ]
  },
  {
   "cell_type": "code",
   "execution_count": 45,
   "metadata": {
    "colab": {
     "base_uri": "https://localhost:8080/"
    },
    "executionInfo": {
     "elapsed": 342,
     "status": "ok",
     "timestamp": 1724489236685,
     "user": {
      "displayName": "Ömer Faruk Beyca",
      "userId": "11206809171817528994"
     },
     "user_tz": -180
    },
    "id": "nA7Cx3Usg37i",
    "outputId": "23b92112-a034-471d-e788-759340cde914"
   },
   "outputs": [
    {
     "data": {
      "text/plain": [
       "array([[0., 0., 1., ..., 0., 1., 0.],\n",
       "       [0., 0., 0., ..., 1., 0., 0.],\n",
       "       [0., 0., 0., ..., 0., 1., 0.],\n",
       "       ...,\n",
       "       [0., 0., 0., ..., 0., 1., 0.],\n",
       "       [0., 0., 0., ..., 0., 1., 0.],\n",
       "       [0., 0., 1., ..., 0., 1., 0.]])"
      ]
     },
     "execution_count": 45,
     "metadata": {},
     "output_type": "execute_result"
    }
   ],
   "source": [
    "from sklearn.preprocessing import OneHotEncoder\n",
    "\n",
    "encoder = OneHotEncoder(handle_unknown=\"ignore\", sparse_output=False, drop = \"first\")\n",
    "encoder.fit(X_train[cat_cols])\n",
    "encoder.transform(X_train[cat_cols]).shape\n",
    "encoder.transform(X_test[cat_cols])"
   ]
  },
  {
   "cell_type": "code",
   "execution_count": 46,
   "metadata": {
    "executionInfo": {
     "elapsed": 329,
     "status": "ok",
     "timestamp": 1724489505341,
     "user": {
      "displayName": "Ömer Faruk Beyca",
      "userId": "11206809171817528994"
     },
     "user_tz": -180
    },
    "id": "P4K10nS2kiON"
   },
   "outputs": [],
   "source": [
    "X = house.drop(\"SalePrice\", axis = 1)\n",
    "y = house.SalePrice\n",
    "\n",
    "X_train, X_test, y_train, y_test = train_test_split(X, y, test_size = 0.2, random_state = 42)\n",
    "\n",
    "cat_cols = [col for col in X.columns if X[col].dtype == \"object\"]\n",
    "num_cols = [col for col in X.columns if col not in cat_cols]"
   ]
  },
  {
   "cell_type": "code",
   "execution_count": 47,
   "metadata": {
    "colab": {
     "base_uri": "https://localhost:8080/"
    },
    "executionInfo": {
     "elapsed": 369,
     "status": "ok",
     "timestamp": 1724489571860,
     "user": {
      "displayName": "Ömer Faruk Beyca",
      "userId": "11206809171817528994"
     },
     "user_tz": -180
    },
    "id": "SynUNvSKkwlg",
    "outputId": "0739b2e2-c6a4-4cfd-d0f1-0ccc8a963456"
   },
   "outputs": [
    {
     "data": {
      "text/plain": [
       "array([['20', 'RL', 'Pave', ..., 'Shed', 'WD', 'Normal'],\n",
       "       ['60', 'RL', 'Pave', ..., 'Shed', 'WD', 'Normal'],\n",
       "       ['30', 'RL', 'Pave', ..., 'Shed', 'WD', 'Normal'],\n",
       "       ...,\n",
       "       ['20', 'RL', 'Pave', ..., 'Shed', 'WD', 'Normal'],\n",
       "       ['50', 'RL', 'Pave', ..., 'Shed', 'WD', 'Normal'],\n",
       "       ['120', 'RL', 'Pave', ..., 'Shed', 'WD', 'Normal']], dtype=object)"
      ]
     },
     "execution_count": 47,
     "metadata": {},
     "output_type": "execute_result"
    }
   ],
   "source": [
    "from sklearn.impute import SimpleImputer\n",
    "\n",
    "imputer = SimpleImputer(strategy = \"median\")\n",
    "\n",
    "imputer.fit(X_train[num_cols])\n",
    "imputer.transform(X_train[num_cols])\n",
    "\n",
    "\n",
    "imputer = SimpleImputer(strategy = \"most_frequent\")\n",
    "\n",
    "imputer.fit(X_train[cat_cols])\n",
    "imputer.transform(X_train[cat_cols])"
   ]
  },
  {
   "cell_type": "code",
   "execution_count": 48,
   "metadata": {
    "colab": {
     "base_uri": "https://localhost:8080/"
    },
    "executionInfo": {
     "elapsed": 403,
     "status": "ok",
     "timestamp": 1724489951175,
     "user": {
      "displayName": "Ömer Faruk Beyca",
      "userId": "11206809171817528994"
     },
     "user_tz": -180
    },
    "id": "5tLrZKCAmslj",
    "outputId": "137779db-3509-429f-e6a6-60e895806a70"
   },
   "outputs": [
    {
     "data": {
      "text/plain": [
       "array([[7.000e+01, 8.400e+03, 5.000e+00, ..., 0.000e+00, 6.000e+00,\n",
       "        2.010e+03],\n",
       "       [5.900e+01, 7.837e+03, 6.000e+00, ..., 0.000e+00, 5.000e+00,\n",
       "        2.009e+03],\n",
       "       [6.700e+01, 8.777e+03, 5.000e+00, ..., 0.000e+00, 5.000e+00,\n",
       "        2.008e+03],\n",
       "       ...,\n",
       "       [6.000e+01, 8.172e+03, 5.000e+00, ..., 0.000e+00, 4.000e+00,\n",
       "        2.006e+03],\n",
       "       [5.500e+01, 7.642e+03, 7.000e+00, ..., 0.000e+00, 6.000e+00,\n",
       "        2.007e+03],\n",
       "       [5.300e+01, 3.684e+03, 7.000e+00, ..., 0.000e+00, 6.000e+00,\n",
       "        2.009e+03]])"
      ]
     },
     "execution_count": 48,
     "metadata": {},
     "output_type": "execute_result"
    }
   ],
   "source": [
    "from sklearn.impute import KNNImputer\n",
    "\n",
    "imputer = KNNImputer(n_neighbors=5)\n",
    "imputer.fit(X_train[num_cols])\n",
    "imputer.transform(X_train[num_cols])"
   ]
  },
  {
   "cell_type": "code",
   "execution_count": 49,
   "metadata": {
    "colab": {
     "base_uri": "https://localhost:8080/"
    },
    "executionInfo": {
     "elapsed": 350,
     "status": "ok",
     "timestamp": 1724491819437,
     "user": {
      "displayName": "Ömer Faruk Beyca",
      "userId": "11206809171817528994"
     },
     "user_tz": -180
    },
    "id": "zvGN1aqYswQe",
    "outputId": "3d3c0df8-ba56-4697-a8e4-ecb0dd4711da"
   },
   "outputs": [
    {
     "name": "stdout",
     "output_type": "stream",
     "text": [
      "0.8670392039874422\n"
     ]
    }
   ],
   "source": [
    "import warnings\n",
    "warnings.filterwarnings('ignore', category=UserWarning, module='sklearn.preprocessing._encoders')\n",
    "\n",
    "X = house.drop(\"SalePrice\", axis = 1)\n",
    "y = house.SalePrice\n",
    "\n",
    "X_train, X_test, y_train, y_test = train_test_split(X, y, test_size = 0.2, random_state = 42)\n",
    "\n",
    "cat_cols = [col for col in X.columns if X[col].dtype == \"object\"]\n",
    "num_cols = [col for col in X.columns if col not in cat_cols]\n",
    "\n",
    "imputer_cat = SimpleImputer(strategy = \"most_frequent\")\n",
    "imputer_num = SimpleImputer(strategy = \"median\")\n",
    "\n",
    "imputer_cat.fit(X_train[cat_cols])\n",
    "imputer_num.fit(X_train[num_cols])\n",
    "\n",
    "X_train_cat = imputer_cat.transform(X_train[cat_cols])\n",
    "X_train_num = imputer_num.transform(X_train[num_cols])\n",
    "\n",
    "X_test_cat = imputer_cat.transform(X_test[cat_cols])\n",
    "X_test_num = imputer_num.transform(X_test[num_cols])\n",
    "\n",
    "encoder = OneHotEncoder(handle_unknown=\"ignore\", sparse_output=False, drop = \"first\")\n",
    "encoder.fit(X_train_cat)\n",
    "X_train_cat = encoder.transform(X_train_cat)\n",
    "X_test_cat = encoder.transform(X_test_cat)\n",
    "\n",
    "scaler = StandardScaler()\n",
    "scaler.fit(X_train_num)\n",
    "X_train_num = scaler.transform(X_train_num)\n",
    "X_test_num = scaler.transform(X_test_num)\n",
    "\n",
    "X_train_new = np.c_[X_train_cat, X_train_num]\n",
    "X_test_new = np.c_[X_test_cat, X_test_num]\n",
    "\n",
    "selector = SelectKBest(f_regression, k=100)\n",
    "selector.fit(X_train_new, y_train)\n",
    "\n",
    "X_train_new = selector.transform(X_train_new)\n",
    "X_test_new = selector.transform(X_test_new)\n",
    "\n",
    "mdl = LinearRegression()\n",
    "mdl.fit(X_train_new, y_train)\n",
    "y_pred = mdl.predict(X_test_new)\n",
    "r2 = r2_score(y_test, y_pred)\n",
    "print(r2)"
   ]
  },
  {
   "cell_type": "code",
   "execution_count": 50,
   "metadata": {
    "colab": {
     "base_uri": "https://localhost:8080/"
    },
    "executionInfo": {
     "elapsed": 369,
     "status": "ok",
     "timestamp": 1724492753387,
     "user": {
      "displayName": "Ömer Faruk Beyca",
      "userId": "11206809171817528994"
     },
     "user_tz": -180
    },
    "id": "UhZNAZcZumGj",
    "outputId": "cf0334fb-0fa1-42de-9eec-6356e41d359d"
   },
   "outputs": [
    {
     "name": "stdout",
     "output_type": "stream",
     "text": [
      "0.8669547993126923\n"
     ]
    }
   ],
   "source": [
    "from sklearn.pipeline import Pipeline\n",
    "from sklearn.compose import ColumnTransformer\n",
    "\n",
    "preprocess_num = Pipeline([\n",
    "    (\"imputer\", KNNImputer(n_neighbors=5)),\n",
    "    (\"scaler\", StandardScaler())\n",
    "])\n",
    "\n",
    "preprocess_cat = Pipeline([\n",
    "    (\"imputer\", SimpleImputer(strategy = \"most_frequent\")),\n",
    "    (\"encoder\", OneHotEncoder(handle_unknown=\"ignore\", sparse_output=False, drop = \"first\"))\n",
    "])\n",
    "\n",
    "preprocess = ColumnTransformer([\n",
    "    (\"preprocess_num\", preprocess_num, num_cols),\n",
    "    (\"preprocess_cat\", preprocess_cat, cat_cols)\n",
    "])\n",
    "\n",
    "ml_pipe = Pipeline([\n",
    "    (\"preprocess\", preprocess),\n",
    "    (\"selector\", SelectKBest(f_regression, k=100)),\n",
    "    (\"mdl\", LinearRegression())\n",
    "])\n",
    "\n",
    "ml_pipe.fit(X_train, y_train)\n",
    "y_pred = ml_pipe.predict(X_test)\n",
    "r2 = r2_score(y_test, y_pred)\n",
    "print(r2)"
   ]
  },
  {
   "cell_type": "code",
   "execution_count": 51,
   "metadata": {
    "executionInfo": {
     "elapsed": 334,
     "status": "ok",
     "timestamp": 1724492869301,
     "user": {
      "displayName": "Ömer Faruk Beyca",
      "userId": "11206809171817528994"
     },
     "user_tz": -180
    },
    "id": "uN-Wz9lKx9BL"
   },
   "outputs": [
    {
     "data": {
      "text/html": [
       "<style>#sk-container-id-1 {color: black;}#sk-container-id-1 pre{padding: 0;}#sk-container-id-1 div.sk-toggleable {background-color: white;}#sk-container-id-1 label.sk-toggleable__label {cursor: pointer;display: block;width: 100%;margin-bottom: 0;padding: 0.3em;box-sizing: border-box;text-align: center;}#sk-container-id-1 label.sk-toggleable__label-arrow:before {content: \"▸\";float: left;margin-right: 0.25em;color: #696969;}#sk-container-id-1 label.sk-toggleable__label-arrow:hover:before {color: black;}#sk-container-id-1 div.sk-estimator:hover label.sk-toggleable__label-arrow:before {color: black;}#sk-container-id-1 div.sk-toggleable__content {max-height: 0;max-width: 0;overflow: hidden;text-align: left;background-color: #f0f8ff;}#sk-container-id-1 div.sk-toggleable__content pre {margin: 0.2em;color: black;border-radius: 0.25em;background-color: #f0f8ff;}#sk-container-id-1 input.sk-toggleable__control:checked~div.sk-toggleable__content {max-height: 200px;max-width: 100%;overflow: auto;}#sk-container-id-1 input.sk-toggleable__control:checked~label.sk-toggleable__label-arrow:before {content: \"▾\";}#sk-container-id-1 div.sk-estimator input.sk-toggleable__control:checked~label.sk-toggleable__label {background-color: #d4ebff;}#sk-container-id-1 div.sk-label input.sk-toggleable__control:checked~label.sk-toggleable__label {background-color: #d4ebff;}#sk-container-id-1 input.sk-hidden--visually {border: 0;clip: rect(1px 1px 1px 1px);clip: rect(1px, 1px, 1px, 1px);height: 1px;margin: -1px;overflow: hidden;padding: 0;position: absolute;width: 1px;}#sk-container-id-1 div.sk-estimator {font-family: monospace;background-color: #f0f8ff;border: 1px dotted black;border-radius: 0.25em;box-sizing: border-box;margin-bottom: 0.5em;}#sk-container-id-1 div.sk-estimator:hover {background-color: #d4ebff;}#sk-container-id-1 div.sk-parallel-item::after {content: \"\";width: 100%;border-bottom: 1px solid gray;flex-grow: 1;}#sk-container-id-1 div.sk-label:hover label.sk-toggleable__label {background-color: #d4ebff;}#sk-container-id-1 div.sk-serial::before {content: \"\";position: absolute;border-left: 1px solid gray;box-sizing: border-box;top: 0;bottom: 0;left: 50%;z-index: 0;}#sk-container-id-1 div.sk-serial {display: flex;flex-direction: column;align-items: center;background-color: white;padding-right: 0.2em;padding-left: 0.2em;position: relative;}#sk-container-id-1 div.sk-item {position: relative;z-index: 1;}#sk-container-id-1 div.sk-parallel {display: flex;align-items: stretch;justify-content: center;background-color: white;position: relative;}#sk-container-id-1 div.sk-item::before, #sk-container-id-1 div.sk-parallel-item::before {content: \"\";position: absolute;border-left: 1px solid gray;box-sizing: border-box;top: 0;bottom: 0;left: 50%;z-index: -1;}#sk-container-id-1 div.sk-parallel-item {display: flex;flex-direction: column;z-index: 1;position: relative;background-color: white;}#sk-container-id-1 div.sk-parallel-item:first-child::after {align-self: flex-end;width: 50%;}#sk-container-id-1 div.sk-parallel-item:last-child::after {align-self: flex-start;width: 50%;}#sk-container-id-1 div.sk-parallel-item:only-child::after {width: 0;}#sk-container-id-1 div.sk-dashed-wrapped {border: 1px dashed gray;margin: 0 0.4em 0.5em 0.4em;box-sizing: border-box;padding-bottom: 0.4em;background-color: white;}#sk-container-id-1 div.sk-label label {font-family: monospace;font-weight: bold;display: inline-block;line-height: 1.2em;}#sk-container-id-1 div.sk-label-container {text-align: center;}#sk-container-id-1 div.sk-container {/* jupyter's `normalize.less` sets `[hidden] { display: none; }` but bootstrap.min.css set `[hidden] { display: none !important; }` so we also need the `!important` here to be able to override the default hidden behavior on the sphinx rendered scikit-learn.org. See: https://github.com/scikit-learn/scikit-learn/issues/21755 */display: inline-block !important;position: relative;}#sk-container-id-1 div.sk-text-repr-fallback {display: none;}</style><div id=\"sk-container-id-1\" class=\"sk-top-container\"><div class=\"sk-text-repr-fallback\"><pre>Pipeline(steps=[(&#x27;preprocess&#x27;,\n",
       "                 ColumnTransformer(transformers=[(&#x27;preprocess_num&#x27;,\n",
       "                                                  Pipeline(steps=[(&#x27;imputer&#x27;,\n",
       "                                                                   KNNImputer()),\n",
       "                                                                  (&#x27;scaler&#x27;,\n",
       "                                                                   StandardScaler())]),\n",
       "                                                  [&#x27;LotFrontage&#x27;, &#x27;LotArea&#x27;,\n",
       "                                                   &#x27;OverallQual&#x27;, &#x27;OverallCond&#x27;,\n",
       "                                                   &#x27;YearBuilt&#x27;, &#x27;YearRemodAdd&#x27;,\n",
       "                                                   &#x27;MasVnrArea&#x27;, &#x27;BsmtFinSF1&#x27;,\n",
       "                                                   &#x27;BsmtFinSF2&#x27;, &#x27;BsmtUnfSF&#x27;,\n",
       "                                                   &#x27;TotalBsmtSF&#x27;, &#x27;1stFlrSF&#x27;,\n",
       "                                                   &#x27;2ndFlrSF&#x27;, &#x27;LowQualFinSF&#x27;,\n",
       "                                                   &#x27;GrLivArea&#x27;, &#x27;Bsmt...\n",
       "                                                   &#x27;Condition1&#x27;, &#x27;Condition2&#x27;,\n",
       "                                                   &#x27;BldgType&#x27;, &#x27;HouseStyle&#x27;,\n",
       "                                                   &#x27;RoofStyle&#x27;, &#x27;RoofMatl&#x27;,\n",
       "                                                   &#x27;Exterior1st&#x27;, &#x27;Exterior2nd&#x27;,\n",
       "                                                   &#x27;MasVnrType&#x27;, &#x27;ExterQual&#x27;,\n",
       "                                                   &#x27;ExterCond&#x27;, &#x27;Foundation&#x27;,\n",
       "                                                   &#x27;BsmtQual&#x27;, &#x27;BsmtCond&#x27;,\n",
       "                                                   &#x27;BsmtExposure&#x27;,\n",
       "                                                   &#x27;BsmtFinType1&#x27;,\n",
       "                                                   &#x27;BsmtFinType2&#x27;, &#x27;Heating&#x27;,\n",
       "                                                   &#x27;HeatingQC&#x27;, &#x27;CentralAir&#x27;, ...])])),\n",
       "                (&#x27;selector&#x27;,\n",
       "                 SelectKBest(score_func=&lt;function f_regression at 0x1533dcd60&gt;)),\n",
       "                (&#x27;mdl&#x27;, RandomForestRegressor())])</pre><b>In a Jupyter environment, please rerun this cell to show the HTML representation or trust the notebook. <br />On GitHub, the HTML representation is unable to render, please try loading this page with nbviewer.org.</b></div><div class=\"sk-container\" hidden><div class=\"sk-item sk-dashed-wrapped\"><div class=\"sk-label-container\"><div class=\"sk-label sk-toggleable\"><input class=\"sk-toggleable__control sk-hidden--visually\" id=\"sk-estimator-id-1\" type=\"checkbox\" ><label for=\"sk-estimator-id-1\" class=\"sk-toggleable__label sk-toggleable__label-arrow\">Pipeline</label><div class=\"sk-toggleable__content\"><pre>Pipeline(steps=[(&#x27;preprocess&#x27;,\n",
       "                 ColumnTransformer(transformers=[(&#x27;preprocess_num&#x27;,\n",
       "                                                  Pipeline(steps=[(&#x27;imputer&#x27;,\n",
       "                                                                   KNNImputer()),\n",
       "                                                                  (&#x27;scaler&#x27;,\n",
       "                                                                   StandardScaler())]),\n",
       "                                                  [&#x27;LotFrontage&#x27;, &#x27;LotArea&#x27;,\n",
       "                                                   &#x27;OverallQual&#x27;, &#x27;OverallCond&#x27;,\n",
       "                                                   &#x27;YearBuilt&#x27;, &#x27;YearRemodAdd&#x27;,\n",
       "                                                   &#x27;MasVnrArea&#x27;, &#x27;BsmtFinSF1&#x27;,\n",
       "                                                   &#x27;BsmtFinSF2&#x27;, &#x27;BsmtUnfSF&#x27;,\n",
       "                                                   &#x27;TotalBsmtSF&#x27;, &#x27;1stFlrSF&#x27;,\n",
       "                                                   &#x27;2ndFlrSF&#x27;, &#x27;LowQualFinSF&#x27;,\n",
       "                                                   &#x27;GrLivArea&#x27;, &#x27;Bsmt...\n",
       "                                                   &#x27;Condition1&#x27;, &#x27;Condition2&#x27;,\n",
       "                                                   &#x27;BldgType&#x27;, &#x27;HouseStyle&#x27;,\n",
       "                                                   &#x27;RoofStyle&#x27;, &#x27;RoofMatl&#x27;,\n",
       "                                                   &#x27;Exterior1st&#x27;, &#x27;Exterior2nd&#x27;,\n",
       "                                                   &#x27;MasVnrType&#x27;, &#x27;ExterQual&#x27;,\n",
       "                                                   &#x27;ExterCond&#x27;, &#x27;Foundation&#x27;,\n",
       "                                                   &#x27;BsmtQual&#x27;, &#x27;BsmtCond&#x27;,\n",
       "                                                   &#x27;BsmtExposure&#x27;,\n",
       "                                                   &#x27;BsmtFinType1&#x27;,\n",
       "                                                   &#x27;BsmtFinType2&#x27;, &#x27;Heating&#x27;,\n",
       "                                                   &#x27;HeatingQC&#x27;, &#x27;CentralAir&#x27;, ...])])),\n",
       "                (&#x27;selector&#x27;,\n",
       "                 SelectKBest(score_func=&lt;function f_regression at 0x1533dcd60&gt;)),\n",
       "                (&#x27;mdl&#x27;, RandomForestRegressor())])</pre></div></div></div><div class=\"sk-serial\"><div class=\"sk-item sk-dashed-wrapped\"><div class=\"sk-label-container\"><div class=\"sk-label sk-toggleable\"><input class=\"sk-toggleable__control sk-hidden--visually\" id=\"sk-estimator-id-2\" type=\"checkbox\" ><label for=\"sk-estimator-id-2\" class=\"sk-toggleable__label sk-toggleable__label-arrow\">preprocess: ColumnTransformer</label><div class=\"sk-toggleable__content\"><pre>ColumnTransformer(transformers=[(&#x27;preprocess_num&#x27;,\n",
       "                                 Pipeline(steps=[(&#x27;imputer&#x27;, KNNImputer()),\n",
       "                                                 (&#x27;scaler&#x27;, StandardScaler())]),\n",
       "                                 [&#x27;LotFrontage&#x27;, &#x27;LotArea&#x27;, &#x27;OverallQual&#x27;,\n",
       "                                  &#x27;OverallCond&#x27;, &#x27;YearBuilt&#x27;, &#x27;YearRemodAdd&#x27;,\n",
       "                                  &#x27;MasVnrArea&#x27;, &#x27;BsmtFinSF1&#x27;, &#x27;BsmtFinSF2&#x27;,\n",
       "                                  &#x27;BsmtUnfSF&#x27;, &#x27;TotalBsmtSF&#x27;, &#x27;1stFlrSF&#x27;,\n",
       "                                  &#x27;2ndFlrSF&#x27;, &#x27;LowQualFinSF&#x27;, &#x27;GrLivArea&#x27;,\n",
       "                                  &#x27;BsmtFullBath&#x27;, &#x27;BsmtHalfBath&#x27;, &#x27;Full...\n",
       "                                 [&#x27;MSSubClass&#x27;, &#x27;MSZoning&#x27;, &#x27;Street&#x27;, &#x27;Alley&#x27;,\n",
       "                                  &#x27;LotShape&#x27;, &#x27;LandContour&#x27;, &#x27;Utilities&#x27;,\n",
       "                                  &#x27;LotConfig&#x27;, &#x27;LandSlope&#x27;, &#x27;Neighborhood&#x27;,\n",
       "                                  &#x27;Condition1&#x27;, &#x27;Condition2&#x27;, &#x27;BldgType&#x27;,\n",
       "                                  &#x27;HouseStyle&#x27;, &#x27;RoofStyle&#x27;, &#x27;RoofMatl&#x27;,\n",
       "                                  &#x27;Exterior1st&#x27;, &#x27;Exterior2nd&#x27;, &#x27;MasVnrType&#x27;,\n",
       "                                  &#x27;ExterQual&#x27;, &#x27;ExterCond&#x27;, &#x27;Foundation&#x27;,\n",
       "                                  &#x27;BsmtQual&#x27;, &#x27;BsmtCond&#x27;, &#x27;BsmtExposure&#x27;,\n",
       "                                  &#x27;BsmtFinType1&#x27;, &#x27;BsmtFinType2&#x27;, &#x27;Heating&#x27;,\n",
       "                                  &#x27;HeatingQC&#x27;, &#x27;CentralAir&#x27;, ...])])</pre></div></div></div><div class=\"sk-parallel\"><div class=\"sk-parallel-item\"><div class=\"sk-item\"><div class=\"sk-label-container\"><div class=\"sk-label sk-toggleable\"><input class=\"sk-toggleable__control sk-hidden--visually\" id=\"sk-estimator-id-3\" type=\"checkbox\" ><label for=\"sk-estimator-id-3\" class=\"sk-toggleable__label sk-toggleable__label-arrow\">preprocess_num</label><div class=\"sk-toggleable__content\"><pre>[&#x27;LotFrontage&#x27;, &#x27;LotArea&#x27;, &#x27;OverallQual&#x27;, &#x27;OverallCond&#x27;, &#x27;YearBuilt&#x27;, &#x27;YearRemodAdd&#x27;, &#x27;MasVnrArea&#x27;, &#x27;BsmtFinSF1&#x27;, &#x27;BsmtFinSF2&#x27;, &#x27;BsmtUnfSF&#x27;, &#x27;TotalBsmtSF&#x27;, &#x27;1stFlrSF&#x27;, &#x27;2ndFlrSF&#x27;, &#x27;LowQualFinSF&#x27;, &#x27;GrLivArea&#x27;, &#x27;BsmtFullBath&#x27;, &#x27;BsmtHalfBath&#x27;, &#x27;FullBath&#x27;, &#x27;HalfBath&#x27;, &#x27;BedroomAbvGr&#x27;, &#x27;KitchenAbvGr&#x27;, &#x27;TotRmsAbvGrd&#x27;, &#x27;Fireplaces&#x27;, &#x27;GarageYrBlt&#x27;, &#x27;GarageCars&#x27;, &#x27;GarageArea&#x27;, &#x27;WoodDeckSF&#x27;, &#x27;OpenPorchSF&#x27;, &#x27;EnclosedPorch&#x27;, &#x27;3SsnPorch&#x27;, &#x27;ScreenPorch&#x27;, &#x27;PoolArea&#x27;, &#x27;MiscVal&#x27;, &#x27;MoSold&#x27;, &#x27;YrSold&#x27;]</pre></div></div></div><div class=\"sk-serial\"><div class=\"sk-item\"><div class=\"sk-serial\"><div class=\"sk-item\"><div class=\"sk-estimator sk-toggleable\"><input class=\"sk-toggleable__control sk-hidden--visually\" id=\"sk-estimator-id-4\" type=\"checkbox\" ><label for=\"sk-estimator-id-4\" class=\"sk-toggleable__label sk-toggleable__label-arrow\">KNNImputer</label><div class=\"sk-toggleable__content\"><pre>KNNImputer()</pre></div></div></div><div class=\"sk-item\"><div class=\"sk-estimator sk-toggleable\"><input class=\"sk-toggleable__control sk-hidden--visually\" id=\"sk-estimator-id-5\" type=\"checkbox\" ><label for=\"sk-estimator-id-5\" class=\"sk-toggleable__label sk-toggleable__label-arrow\">StandardScaler</label><div class=\"sk-toggleable__content\"><pre>StandardScaler()</pre></div></div></div></div></div></div></div></div><div class=\"sk-parallel-item\"><div class=\"sk-item\"><div class=\"sk-label-container\"><div class=\"sk-label sk-toggleable\"><input class=\"sk-toggleable__control sk-hidden--visually\" id=\"sk-estimator-id-6\" type=\"checkbox\" ><label for=\"sk-estimator-id-6\" class=\"sk-toggleable__label sk-toggleable__label-arrow\">preprocess_cat</label><div class=\"sk-toggleable__content\"><pre>[&#x27;MSSubClass&#x27;, &#x27;MSZoning&#x27;, &#x27;Street&#x27;, &#x27;Alley&#x27;, &#x27;LotShape&#x27;, &#x27;LandContour&#x27;, &#x27;Utilities&#x27;, &#x27;LotConfig&#x27;, &#x27;LandSlope&#x27;, &#x27;Neighborhood&#x27;, &#x27;Condition1&#x27;, &#x27;Condition2&#x27;, &#x27;BldgType&#x27;, &#x27;HouseStyle&#x27;, &#x27;RoofStyle&#x27;, &#x27;RoofMatl&#x27;, &#x27;Exterior1st&#x27;, &#x27;Exterior2nd&#x27;, &#x27;MasVnrType&#x27;, &#x27;ExterQual&#x27;, &#x27;ExterCond&#x27;, &#x27;Foundation&#x27;, &#x27;BsmtQual&#x27;, &#x27;BsmtCond&#x27;, &#x27;BsmtExposure&#x27;, &#x27;BsmtFinType1&#x27;, &#x27;BsmtFinType2&#x27;, &#x27;Heating&#x27;, &#x27;HeatingQC&#x27;, &#x27;CentralAir&#x27;, &#x27;Electrical&#x27;, &#x27;KitchenQual&#x27;, &#x27;Functional&#x27;, &#x27;FireplaceQu&#x27;, &#x27;GarageType&#x27;, &#x27;GarageFinish&#x27;, &#x27;GarageQual&#x27;, &#x27;GarageCond&#x27;, &#x27;PavedDrive&#x27;, &#x27;PoolQC&#x27;, &#x27;Fence&#x27;, &#x27;MiscFeature&#x27;, &#x27;SaleType&#x27;, &#x27;SaleCondition&#x27;]</pre></div></div></div><div class=\"sk-serial\"><div class=\"sk-item\"><div class=\"sk-serial\"><div class=\"sk-item\"><div class=\"sk-estimator sk-toggleable\"><input class=\"sk-toggleable__control sk-hidden--visually\" id=\"sk-estimator-id-7\" type=\"checkbox\" ><label for=\"sk-estimator-id-7\" class=\"sk-toggleable__label sk-toggleable__label-arrow\">SimpleImputer</label><div class=\"sk-toggleable__content\"><pre>SimpleImputer(strategy=&#x27;most_frequent&#x27;)</pre></div></div></div><div class=\"sk-item\"><div class=\"sk-estimator sk-toggleable\"><input class=\"sk-toggleable__control sk-hidden--visually\" id=\"sk-estimator-id-8\" type=\"checkbox\" ><label for=\"sk-estimator-id-8\" class=\"sk-toggleable__label sk-toggleable__label-arrow\">OneHotEncoder</label><div class=\"sk-toggleable__content\"><pre>OneHotEncoder(drop=&#x27;first&#x27;, handle_unknown=&#x27;ignore&#x27;, sparse_output=False)</pre></div></div></div></div></div></div></div></div></div></div><div class=\"sk-item\"><div class=\"sk-estimator sk-toggleable\"><input class=\"sk-toggleable__control sk-hidden--visually\" id=\"sk-estimator-id-9\" type=\"checkbox\" ><label for=\"sk-estimator-id-9\" class=\"sk-toggleable__label sk-toggleable__label-arrow\">SelectKBest</label><div class=\"sk-toggleable__content\"><pre>SelectKBest(score_func=&lt;function f_regression at 0x1533dcd60&gt;)</pre></div></div></div><div class=\"sk-item\"><div class=\"sk-estimator sk-toggleable\"><input class=\"sk-toggleable__control sk-hidden--visually\" id=\"sk-estimator-id-10\" type=\"checkbox\" ><label for=\"sk-estimator-id-10\" class=\"sk-toggleable__label sk-toggleable__label-arrow\">RandomForestRegressor</label><div class=\"sk-toggleable__content\"><pre>RandomForestRegressor()</pre></div></div></div></div></div></div></div>"
      ],
      "text/plain": [
       "Pipeline(steps=[('preprocess',\n",
       "                 ColumnTransformer(transformers=[('preprocess_num',\n",
       "                                                  Pipeline(steps=[('imputer',\n",
       "                                                                   KNNImputer()),\n",
       "                                                                  ('scaler',\n",
       "                                                                   StandardScaler())]),\n",
       "                                                  ['LotFrontage', 'LotArea',\n",
       "                                                   'OverallQual', 'OverallCond',\n",
       "                                                   'YearBuilt', 'YearRemodAdd',\n",
       "                                                   'MasVnrArea', 'BsmtFinSF1',\n",
       "                                                   'BsmtFinSF2', 'BsmtUnfSF',\n",
       "                                                   'TotalBsmtSF', '1stFlrSF',\n",
       "                                                   '2ndFlrSF', 'LowQualFinSF',\n",
       "                                                   'GrLivArea', 'Bsmt...\n",
       "                                                   'Condition1', 'Condition2',\n",
       "                                                   'BldgType', 'HouseStyle',\n",
       "                                                   'RoofStyle', 'RoofMatl',\n",
       "                                                   'Exterior1st', 'Exterior2nd',\n",
       "                                                   'MasVnrType', 'ExterQual',\n",
       "                                                   'ExterCond', 'Foundation',\n",
       "                                                   'BsmtQual', 'BsmtCond',\n",
       "                                                   'BsmtExposure',\n",
       "                                                   'BsmtFinType1',\n",
       "                                                   'BsmtFinType2', 'Heating',\n",
       "                                                   'HeatingQC', 'CentralAir', ...])])),\n",
       "                ('selector',\n",
       "                 SelectKBest(score_func=<function f_regression at 0x1533dcd60>)),\n",
       "                ('mdl', RandomForestRegressor())])"
      ]
     },
     "execution_count": 51,
     "metadata": {},
     "output_type": "execute_result"
    }
   ],
   "source": [
    "from sklearn.ensemble import RandomForestRegressor\n",
    "\n",
    "preprocess_num = Pipeline([\n",
    "    (\"imputer\", KNNImputer(n_neighbors=5)),\n",
    "    (\"scaler\", StandardScaler())\n",
    "])\n",
    "\n",
    "preprocess_cat = Pipeline([\n",
    "    (\"imputer\", SimpleImputer(strategy = \"most_frequent\")),\n",
    "    (\"encoder\", OneHotEncoder(handle_unknown=\"ignore\", sparse_output=False, drop = \"first\"))\n",
    "])\n",
    "\n",
    "preprocess = ColumnTransformer([\n",
    "    (\"preprocess_num\", preprocess_num, num_cols),\n",
    "    (\"preprocess_cat\", preprocess_cat, cat_cols)\n",
    "])\n",
    "\n",
    "ml_pipe = Pipeline([\n",
    "    (\"preprocess\", preprocess),\n",
    "    (\"selector\", SelectKBest(f_regression)),\n",
    "    (\"mdl\", RandomForestRegressor())\n",
    "])\n",
    "\n",
    "ml_pipe"
   ]
  },
  {
   "cell_type": "code",
   "execution_count": 52,
   "metadata": {
    "colab": {
     "base_uri": "https://localhost:8080/",
     "height": 1000
    },
    "executionInfo": {
     "elapsed": 1825182,
     "status": "error",
     "timestamp": 1724494858791,
     "user": {
      "displayName": "Ömer Faruk Beyca",
      "userId": "11206809171817528994"
     },
     "user_tz": -180
    },
    "id": "Vu6wTAYMyPLi",
    "outputId": "2611c372-fe45-4ac1-cb2e-36fc12ddd94d"
   },
   "outputs": [
    {
     "name": "stdout",
     "output_type": "stream",
     "text": [
      "Best parameters: {'mdl__max_depth': 15, 'mdl__n_estimators': 250, 'selector__k': 150}\n",
      "Best score: 0.8449735518984619\n",
      "Elapsed time: 18 min 42 sec\n"
     ]
    }
   ],
   "source": [
    "import time\n",
    "from sklearn.model_selection import GridSearchCV\n",
    "\n",
    "param_grid = {\"selector__k\" : [50,75,100,125,150],\n",
    "              \"mdl__n_estimators\" : [100,250,500],\n",
    "              \"mdl__max_depth\" : [5,7,10,15]\n",
    "}\n",
    "start_time = time.time()\n",
    "\n",
    "grid_search = GridSearchCV(ml_pipe, param_grid, cv=10, scoring=\"r2\")\n",
    "grid_search.fit(X_train, y_train)\n",
    "\n",
    "end_time = time.time()\n",
    "elapsed_time = end_time - start_time\n",
    "minutes, seconds = divmod(elapsed_time, 60)\n",
    "\n",
    "print(f\"Best parameters: {grid_search.best_params_}\")\n",
    "print(f\"Best score: {grid_search.best_score_}\")\n",
    "print(f\"Elapsed time: {int(minutes)} min {int(seconds)} sec\")"
   ]
  },
  {
   "cell_type": "code",
   "execution_count": 53,
   "metadata": {},
   "outputs": [
    {
     "name": "stdout",
     "output_type": "stream",
     "text": [
      "R2 Score: 0.8892870664788977\n"
     ]
    }
   ],
   "source": [
    "best_model = grid_search.best_estimator_\n",
    "y_pred = best_model.predict(X_test)\n",
    "r2 = r2_score(y_test, y_pred)\n",
    "print(f\"R2 Score: {r2}\")"
   ]
  }
 ],
 "metadata": {
  "colab": {
   "authorship_tag": "ABX9TyNbN7/SbcSAedv7/d95+cAq",
   "provenance": []
  },
  "kernelspec": {
   "display_name": "Python 3 (ipykernel)",
   "language": "python",
   "name": "python3"
  },
  "language_info": {
   "codemirror_mode": {
    "name": "ipython",
    "version": 3
   },
   "file_extension": ".py",
   "mimetype": "text/x-python",
   "name": "python",
   "nbconvert_exporter": "python",
   "pygments_lexer": "ipython3",
   "version": "3.11.4"
  }
 },
 "nbformat": 4,
 "nbformat_minor": 4
}
