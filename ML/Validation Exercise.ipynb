{
 "cells": [
  {
   "cell_type": "code",
   "execution_count": 1,
   "id": "e4c78a06-1d6b-4e99-8089-f9d86e772084",
   "metadata": {},
   "outputs": [],
   "source": [
    "%matplotlib inline\n",
    "import pandas as pd\n",
    "import numpy as np\n",
    "import matplotlib.pyplot as plt\n",
    "import seaborn as sns\n",
    "\n",
    "\n",
    "from sklearn.model_selection import train_test_split\n",
    "from sklearn.preprocessing import PolynomialFeatures\n",
    "from sklearn.linear_model import LinearRegression\n",
    "from sklearn.metrics import mean_squared_error"
   ]
  },
  {
   "cell_type": "code",
   "execution_count": 2,
   "id": "347a9375-af65-4461-be95-dda86a0339d2",
   "metadata": {},
   "outputs": [
    {
     "data": {
      "text/html": [
       "<div>\n",
       "<style scoped>\n",
       "    .dataframe tbody tr th:only-of-type {\n",
       "        vertical-align: middle;\n",
       "    }\n",
       "\n",
       "    .dataframe tbody tr th {\n",
       "        vertical-align: top;\n",
       "    }\n",
       "\n",
       "    .dataframe thead th {\n",
       "        text-align: right;\n",
       "    }\n",
       "</style>\n",
       "<table border=\"1\" class=\"dataframe\">\n",
       "  <thead>\n",
       "    <tr style=\"text-align: right;\">\n",
       "      <th></th>\n",
       "      <th>x</th>\n",
       "      <th>y</th>\n",
       "    </tr>\n",
       "  </thead>\n",
       "  <tbody>\n",
       "    <tr>\n",
       "      <th>0</th>\n",
       "      <td>-4.809264</td>\n",
       "      <td>-92.911272</td>\n",
       "    </tr>\n",
       "    <tr>\n",
       "      <th>1</th>\n",
       "      <td>-4.722680</td>\n",
       "      <td>-98.506658</td>\n",
       "    </tr>\n",
       "    <tr>\n",
       "      <th>2</th>\n",
       "      <td>-3.852326</td>\n",
       "      <td>-63.212666</td>\n",
       "    </tr>\n",
       "    <tr>\n",
       "      <th>3</th>\n",
       "      <td>-3.687668</td>\n",
       "      <td>-51.036538</td>\n",
       "    </tr>\n",
       "    <tr>\n",
       "      <th>4</th>\n",
       "      <td>-3.602674</td>\n",
       "      <td>-54.784580</td>\n",
       "    </tr>\n",
       "    <tr>\n",
       "      <th>...</th>\n",
       "      <td>...</td>\n",
       "      <td>...</td>\n",
       "    </tr>\n",
       "    <tr>\n",
       "      <th>95</th>\n",
       "      <td>6.890595</td>\n",
       "      <td>39.282364</td>\n",
       "    </tr>\n",
       "    <tr>\n",
       "      <th>96</th>\n",
       "      <td>7.118811</td>\n",
       "      <td>49.384561</td>\n",
       "    </tr>\n",
       "    <tr>\n",
       "      <th>97</th>\n",
       "      <td>7.178848</td>\n",
       "      <td>51.564875</td>\n",
       "    </tr>\n",
       "    <tr>\n",
       "      <th>98</th>\n",
       "      <td>7.942389</td>\n",
       "      <td>85.676290</td>\n",
       "    </tr>\n",
       "    <tr>\n",
       "      <th>99</th>\n",
       "      <td>9.658969</td>\n",
       "      <td>184.533262</td>\n",
       "    </tr>\n",
       "  </tbody>\n",
       "</table>\n",
       "<p>100 rows × 2 columns</p>\n",
       "</div>"
      ],
      "text/plain": [
       "           x           y\n",
       "0  -4.809264  -92.911272\n",
       "1  -4.722680  -98.506658\n",
       "2  -3.852326  -63.212666\n",
       "3  -3.687668  -51.036538\n",
       "4  -3.602674  -54.784580\n",
       "..       ...         ...\n",
       "95  6.890595   39.282364\n",
       "96  7.118811   49.384561\n",
       "97  7.178848   51.564875\n",
       "98  7.942389   85.676290\n",
       "99  9.658969  184.533262\n",
       "\n",
       "[100 rows x 2 columns]"
      ]
     },
     "execution_count": 2,
     "metadata": {},
     "output_type": "execute_result"
    }
   ],
   "source": [
    "df = pd.read_csv(\"data/Exercise1DataSet.csv\")\n",
    "df"
   ]
  },
  {
   "cell_type": "code",
   "execution_count": 3,
   "id": "aa6f41ef-3cdb-4a14-b260-59273527686d",
   "metadata": {},
   "outputs": [],
   "source": [
    "x = np.array(df.x).reshape(-1, 1)\n",
    "y = df.y.values"
   ]
  },
  {
   "cell_type": "code",
   "execution_count": 4,
   "id": "734399b5-0e6a-4411-957f-6aef107695e7",
   "metadata": {},
   "outputs": [
    {
     "data": {
      "text/plain": [
       "(100, 1)"
      ]
     },
     "execution_count": 4,
     "metadata": {},
     "output_type": "execute_result"
    }
   ],
   "source": [
    "x.shape"
   ]
  },
  {
   "cell_type": "code",
   "execution_count": 5,
   "id": "50328595-7656-450f-8562-5e6fc0638f14",
   "metadata": {},
   "outputs": [
    {
     "data": {
      "text/plain": [
       "(100,)"
      ]
     },
     "execution_count": 5,
     "metadata": {},
     "output_type": "execute_result"
    }
   ],
   "source": [
    "y.shape"
   ]
  },
  {
   "cell_type": "code",
   "execution_count": 6,
   "id": "9d988a9f-0b31-43ba-a744-7ad86f8ec171",
   "metadata": {},
   "outputs": [
    {
     "data": {
      "text/plain": [
       "Text(0, 0.5, 'Y')"
      ]
     },
     "execution_count": 6,
     "metadata": {},
     "output_type": "execute_result"
    },
    {
     "data": {
      "image/png": "[encoded data removed]",
      "text/plain": [
       "<Figure size 640x480 with 1 Axes>"
      ]
     },
     "metadata": {},
     "output_type": "display_data"
    }
   ],
   "source": [
    "plt.scatter(x, y, marker=\"o\", color=\"indigo\", alpha=0.7)\n",
    "plt.title(\"X vs Y\")\n",
    "plt.xlabel(\"X\")\n",
    "plt.ylabel(\"Y\")"
   ]
  },
  {
   "cell_type": "code",
   "execution_count": 7,
   "id": "81fd3c30-d650-46bf-996b-e81e9e5150aa",
   "metadata": {},
   "outputs": [],
   "source": [
    "# Splitting train and test data\n",
    "x_train, x_test, y_train, y_test = train_test_split(x, y, test_size=0.2, random_state=12)"
   ]
  },
  {
   "cell_type": "code",
   "execution_count": 8,
   "id": "d32da6eb-3824-45bf-a284-caecb5eab9f6",
   "metadata": {},
   "outputs": [],
   "source": [
    "# Splitting train and validation data\n",
    "x_trainv, x_valid, y_trainv, y_valid = train_test_split(x_train, y_train, test_size=0.2, random_state=12)"
   ]
  },
  {
   "cell_type": "code",
   "execution_count": 9,
   "id": "99bc713d-b563-4e6b-b4af-74e819b83d2d",
   "metadata": {},
   "outputs": [],
   "source": [
    "def create_polynomial_regression_model(degree):\n",
    "    \"Creates a polynomial regression model for the given degree\"\n",
    "    poly_features = PolynomialFeatures(degree=degree, include_bias=False)\n",
    "\n",
    "    x_train_poly = poly_features.fit_transform(x_trainv)\n",
    "    x_valid_poly = poly_features.fit_transform(x_valid)\n",
    "\n",
    "    poly_model = LinearRegression()\n",
    "    poly_model.fit(x_train_poly, y_trainv)\n",
    "\n",
    "    y_traing_predict = poly_model.predict(x_train_poly)\n",
    "    y_valid_predict = poly_model.predict(x_valid_poly)\n",
    "    \n",
    "    mse_train = mean_squared_error(y_trainv, y_traing_predict)\n",
    "    mse_valid = mean_squared_error(y_valid, y_valid_predict)\n",
    "\n",
    "    return (mse_train, mse_valid, degree)"
   ]
  },
  {
   "cell_type": "code",
   "execution_count": 10,
   "id": "24e7278a-8e83-4346-93fa-d915f3a3efba",
   "metadata": {},
   "outputs": [
    {
     "data": {
      "text/html": [
       "<div>\n",
       "<style scoped>\n",
       "    .dataframe tbody tr th:only-of-type {\n",
       "        vertical-align: middle;\n",
       "    }\n",
       "\n",
       "    .dataframe tbody tr th {\n",
       "        vertical-align: top;\n",
       "    }\n",
       "\n",
       "    .dataframe thead th {\n",
       "        text-align: right;\n",
       "    }\n",
       "</style>\n",
       "<table border=\"1\" class=\"dataframe\">\n",
       "  <thead>\n",
       "    <tr style=\"text-align: right;\">\n",
       "      <th></th>\n",
       "      <th>Training Error</th>\n",
       "      <th>Validation Error</th>\n",
       "      <th>Degree</th>\n",
       "    </tr>\n",
       "  </thead>\n",
       "  <tbody>\n",
       "    <tr>\n",
       "      <th>0</th>\n",
       "      <td>481.500330</td>\n",
       "      <td>374.856487</td>\n",
       "      <td>1</td>\n",
       "    </tr>\n",
       "    <tr>\n",
       "      <th>1</th>\n",
       "      <td>446.296071</td>\n",
       "      <td>362.636566</td>\n",
       "      <td>2</td>\n",
       "    </tr>\n",
       "    <tr>\n",
       "      <th>2</th>\n",
       "      <td>8.976886</td>\n",
       "      <td>5.689167</td>\n",
       "      <td>3</td>\n",
       "    </tr>\n",
       "    <tr>\n",
       "      <th>3</th>\n",
       "      <td>8.976548</td>\n",
       "      <td>5.661346</td>\n",
       "      <td>4</td>\n",
       "    </tr>\n",
       "    <tr>\n",
       "      <th>4</th>\n",
       "      <td>8.751592</td>\n",
       "      <td>5.868799</td>\n",
       "      <td>5</td>\n",
       "    </tr>\n",
       "    <tr>\n",
       "      <th>5</th>\n",
       "      <td>8.660864</td>\n",
       "      <td>6.041903</td>\n",
       "      <td>6</td>\n",
       "    </tr>\n",
       "    <tr>\n",
       "      <th>6</th>\n",
       "      <td>7.682670</td>\n",
       "      <td>4.998024</td>\n",
       "      <td>7</td>\n",
       "    </tr>\n",
       "  </tbody>\n",
       "</table>\n",
       "</div>"
      ],
      "text/plain": [
       "   Training Error  Validation Error  Degree\n",
       "0      481.500330        374.856487       1\n",
       "1      446.296071        362.636566       2\n",
       "2        8.976886          5.689167       3\n",
       "3        8.976548          5.661346       4\n",
       "4        8.751592          5.868799       5\n",
       "5        8.660864          6.041903       6\n",
       "6        7.682670          4.998024       7"
      ]
     },
     "execution_count": 10,
     "metadata": {},
     "output_type": "execute_result"
    }
   ],
   "source": [
    "a = []\n",
    "for i in range(1, 8):\n",
    "    a.append(create_polynomial_regression_model(i))\n",
    "df = pd.DataFrame(a, columns= [\"Training Error\", \"Validation Error\", \"Degree\"])\n",
    "df"
   ]
  },
  {
   "cell_type": "code",
   "execution_count": 11,
   "id": "3dd69b4d-7735-4790-b58c-06d3e106c2b1",
   "metadata": {},
   "outputs": [
    {
     "data": {
      "text/html": [
       "<div>\n",
       "<style scoped>\n",
       "    .dataframe tbody tr th:only-of-type {\n",
       "        vertical-align: middle;\n",
       "    }\n",
       "\n",
       "    .dataframe tbody tr th {\n",
       "        vertical-align: top;\n",
       "    }\n",
       "\n",
       "    .dataframe thead th {\n",
       "        text-align: right;\n",
       "    }\n",
       "</style>\n",
       "<table border=\"1\" class=\"dataframe\">\n",
       "  <thead>\n",
       "    <tr style=\"text-align: right;\">\n",
       "      <th></th>\n",
       "      <th>Training Error</th>\n",
       "      <th>Validation Error</th>\n",
       "      <th>Degree</th>\n",
       "    </tr>\n",
       "  </thead>\n",
       "  <tbody>\n",
       "    <tr>\n",
       "      <th>6</th>\n",
       "      <td>7.682670</td>\n",
       "      <td>4.998024</td>\n",
       "      <td>7</td>\n",
       "    </tr>\n",
       "    <tr>\n",
       "      <th>3</th>\n",
       "      <td>8.976548</td>\n",
       "      <td>5.661346</td>\n",
       "      <td>4</td>\n",
       "    </tr>\n",
       "    <tr>\n",
       "      <th>2</th>\n",
       "      <td>8.976886</td>\n",
       "      <td>5.689167</td>\n",
       "      <td>3</td>\n",
       "    </tr>\n",
       "    <tr>\n",
       "      <th>4</th>\n",
       "      <td>8.751592</td>\n",
       "      <td>5.868799</td>\n",
       "      <td>5</td>\n",
       "    </tr>\n",
       "    <tr>\n",
       "      <th>5</th>\n",
       "      <td>8.660864</td>\n",
       "      <td>6.041903</td>\n",
       "      <td>6</td>\n",
       "    </tr>\n",
       "    <tr>\n",
       "      <th>1</th>\n",
       "      <td>446.296071</td>\n",
       "      <td>362.636566</td>\n",
       "      <td>2</td>\n",
       "    </tr>\n",
       "    <tr>\n",
       "      <th>0</th>\n",
       "      <td>481.500330</td>\n",
       "      <td>374.856487</td>\n",
       "      <td>1</td>\n",
       "    </tr>\n",
       "  </tbody>\n",
       "</table>\n",
       "</div>"
      ],
      "text/plain": [
       "   Training Error  Validation Error  Degree\n",
       "6        7.682670          4.998024       7\n",
       "3        8.976548          5.661346       4\n",
       "2        8.976886          5.689167       3\n",
       "4        8.751592          5.868799       5\n",
       "5        8.660864          6.041903       6\n",
       "1      446.296071        362.636566       2\n",
       "0      481.500330        374.856487       1"
      ]
     },
     "execution_count": 11,
     "metadata": {},
     "output_type": "execute_result"
    }
   ],
   "source": [
    "df.sort_values(\"Validation Error\")"
   ]
  },
  {
   "cell_type": "code",
   "execution_count": 12,
   "id": "0c010257-32ac-40e7-a048-3504e821431f",
   "metadata": {},
   "outputs": [
    {
     "data": {
      "text/plain": [
       "<matplotlib.legend.Legend at 0x1500e3310>"
      ]
     },
     "execution_count": 12,
     "metadata": {},
     "output_type": "execute_result"
    },
    {
     "data": {
      "image/png": "[encoded data removed]",
      "text/plain": [
       "<Figure size 640x480 with 1 Axes>"
      ]
     },
     "metadata": {},
     "output_type": "display_data"
    }
   ],
   "source": [
    "plt.plot(df.Degree, df[\"Training Error\"], label = \"Training Error\")\n",
    "plt.plot(df.Degree, df[\"Validation Error\"], label = \"Validation Error\")\n",
    "plt.xlabel(\"Degree\")\n",
    "plt.ylabel(\"Errors\")\n",
    "plt.legend(loc=\"best\")"
   ]
  },
  {
   "cell_type": "code",
   "execution_count": 13,
   "id": "f57f4ba0-6ad6-4189-a20d-b6d0a89ce14d",
   "metadata": {},
   "outputs": [
    {
     "data": {
      "text/plain": [
       "13.661701823404723"
      ]
     },
     "execution_count": 13,
     "metadata": {},
     "output_type": "execute_result"
    }
   ],
   "source": [
    "#Let's finally fit a model with a chosen order of polynomial\n",
    "poly_features = PolynomialFeatures(degree=7, include_bias=False)\n",
    "\n",
    "x_train_poly = poly_features.fit_transform(x_train)\n",
    "x_test_poly = poly_features.fit_transform(x_test)\n",
    "\n",
    "poly_model = LinearRegression()\n",
    "poly_model.fit(x_train_poly, y_train)\n",
    "\n",
    "y_predict = poly_model.predict(x_test_poly)\n",
    "mean_squared_error(y_test, y_predict)"
   ]
  },
  {
   "cell_type": "code",
   "execution_count": 14,
   "id": "0bb7925f-85b2-4592-a215-180eab9b42d7",
   "metadata": {},
   "outputs": [
    {
     "data": {
      "text/plain": [
       "Text(0, 0.5, 'Errors')"
      ]
     },
     "execution_count": 14,
     "metadata": {},
     "output_type": "execute_result"
    },
    {
     "data": {
      "image/png": "[encoded data removed]",
      "text/plain": [
       "<Figure size 640x480 with 1 Axes>"
      ]
     },
     "metadata": {},
     "output_type": "display_data"
    }
   ],
   "source": [
    "fig = plt.figure()\n",
    "ax = fig.add_subplot(1, 1, 1)\n",
    "for i in range(1, 13):\n",
    "    a = []\n",
    "    x_trainv, x_valid, y_trainv, y_valid = train_test_split(x_train, y_train, test_size=0.2, random_state=i)\n",
    "    for j in range(1, 8):\n",
    "        a.append(create_polynomial_regression_model(j))\n",
    "    df = pd.DataFrame(a, columns=[\"Training Error\", \"Validation Error\", \"Degree\"])\n",
    "    ax.plot(df[\"Degree\"], df[\"Validation Error\"])\n",
    "    \n",
    "ax.set_xlabel(\"Degrees\")\n",
    "ax.set_ylabel(\"Errors\")"
   ]
  },
  {
   "cell_type": "code",
   "execution_count": 15,
   "id": "bf1ad614-1347-44fd-9c44-b51415031c86",
   "metadata": {},
   "outputs": [
    {
     "data": {
      "text/html": [
       "<div>\n",
       "<style scoped>\n",
       "    .dataframe tbody tr th:only-of-type {\n",
       "        vertical-align: middle;\n",
       "    }\n",
       "\n",
       "    .dataframe tbody tr th {\n",
       "        vertical-align: top;\n",
       "    }\n",
       "\n",
       "    .dataframe thead th {\n",
       "        text-align: right;\n",
       "    }\n",
       "</style>\n",
       "<table border=\"1\" class=\"dataframe\">\n",
       "  <thead>\n",
       "    <tr style=\"text-align: right;\">\n",
       "      <th></th>\n",
       "      <th>Training Error</th>\n",
       "      <th>Validation Error</th>\n",
       "      <th>Degree</th>\n",
       "    </tr>\n",
       "  </thead>\n",
       "  <tbody>\n",
       "    <tr>\n",
       "      <th>0</th>\n",
       "      <td>481.500330</td>\n",
       "      <td>374.856487</td>\n",
       "      <td>1</td>\n",
       "    </tr>\n",
       "    <tr>\n",
       "      <th>1</th>\n",
       "      <td>446.296071</td>\n",
       "      <td>362.636566</td>\n",
       "      <td>2</td>\n",
       "    </tr>\n",
       "    <tr>\n",
       "      <th>2</th>\n",
       "      <td>8.976886</td>\n",
       "      <td>5.689167</td>\n",
       "      <td>3</td>\n",
       "    </tr>\n",
       "    <tr>\n",
       "      <th>3</th>\n",
       "      <td>8.976548</td>\n",
       "      <td>5.661346</td>\n",
       "      <td>4</td>\n",
       "    </tr>\n",
       "    <tr>\n",
       "      <th>4</th>\n",
       "      <td>8.751592</td>\n",
       "      <td>5.868799</td>\n",
       "      <td>5</td>\n",
       "    </tr>\n",
       "    <tr>\n",
       "      <th>5</th>\n",
       "      <td>8.660864</td>\n",
       "      <td>6.041903</td>\n",
       "      <td>6</td>\n",
       "    </tr>\n",
       "    <tr>\n",
       "      <th>6</th>\n",
       "      <td>7.682670</td>\n",
       "      <td>4.998024</td>\n",
       "      <td>7</td>\n",
       "    </tr>\n",
       "  </tbody>\n",
       "</table>\n",
       "</div>"
      ],
      "text/plain": [
       "   Training Error  Validation Error  Degree\n",
       "0      481.500330        374.856487       1\n",
       "1      446.296071        362.636566       2\n",
       "2        8.976886          5.689167       3\n",
       "3        8.976548          5.661346       4\n",
       "4        8.751592          5.868799       5\n",
       "5        8.660864          6.041903       6\n",
       "6        7.682670          4.998024       7"
      ]
     },
     "execution_count": 15,
     "metadata": {},
     "output_type": "execute_result"
    }
   ],
   "source": [
    "df"
   ]
  },
  {
   "cell_type": "markdown",
   "id": "f301baf0-73e7-4496-a313-7b46f625b716",
   "metadata": {},
   "source": [
    "# Leave One Out Validation"
   ]
  },
  {
   "cell_type": "code",
   "execution_count": 16,
   "id": "1d7f7bbf-3107-4304-a342-b2d1ef259760",
   "metadata": {},
   "outputs": [],
   "source": [
    "# Splitting train and test data for LeaveOneOut\n",
    "x_train, x_test, y_train, y_test = train_test_split(x, y, test_size=0.2, random_state=1)"
   ]
  },
  {
   "cell_type": "code",
   "execution_count": 17,
   "id": "778a8d9c-d14b-4cd6-b87d-44689a4cae39",
   "metadata": {},
   "outputs": [
    {
     "data": {
      "text/html": [
       "<div>\n",
       "<style scoped>\n",
       "    .dataframe tbody tr th:only-of-type {\n",
       "        vertical-align: middle;\n",
       "    }\n",
       "\n",
       "    .dataframe tbody tr th {\n",
       "        vertical-align: top;\n",
       "    }\n",
       "\n",
       "    .dataframe thead th {\n",
       "        text-align: right;\n",
       "    }\n",
       "</style>\n",
       "<table border=\"1\" class=\"dataframe\">\n",
       "  <thead>\n",
       "    <tr style=\"text-align: right;\">\n",
       "      <th></th>\n",
       "      <th>Traning Error</th>\n",
       "      <th>Validation Error</th>\n",
       "      <th>Degree</th>\n",
       "    </tr>\n",
       "  </thead>\n",
       "  <tbody>\n",
       "    <tr>\n",
       "      <th>0</th>\n",
       "      <td>8.059542</td>\n",
       "      <td>24.070812</td>\n",
       "      <td>5</td>\n",
       "    </tr>\n",
       "    <tr>\n",
       "      <th>1</th>\n",
       "      <td>8.325282</td>\n",
       "      <td>0.285836</td>\n",
       "      <td>5</td>\n",
       "    </tr>\n",
       "    <tr>\n",
       "      <th>2</th>\n",
       "      <td>8.325149</td>\n",
       "      <td>0.334871</td>\n",
       "      <td>5</td>\n",
       "    </tr>\n",
       "    <tr>\n",
       "      <th>3</th>\n",
       "      <td>8.118258</td>\n",
       "      <td>17.194763</td>\n",
       "      <td>5</td>\n",
       "    </tr>\n",
       "    <tr>\n",
       "      <th>4</th>\n",
       "      <td>8.303641</td>\n",
       "      <td>2.072676</td>\n",
       "      <td>5</td>\n",
       "    </tr>\n",
       "    <tr>\n",
       "      <th>...</th>\n",
       "      <td>...</td>\n",
       "      <td>...</td>\n",
       "      <td>...</td>\n",
       "    </tr>\n",
       "    <tr>\n",
       "      <th>75</th>\n",
       "      <td>8.166777</td>\n",
       "      <td>13.411192</td>\n",
       "      <td>5</td>\n",
       "    </tr>\n",
       "    <tr>\n",
       "      <th>76</th>\n",
       "      <td>8.183664</td>\n",
       "      <td>12.448743</td>\n",
       "      <td>5</td>\n",
       "    </tr>\n",
       "    <tr>\n",
       "      <th>77</th>\n",
       "      <td>8.120118</td>\n",
       "      <td>17.177775</td>\n",
       "      <td>5</td>\n",
       "    </tr>\n",
       "    <tr>\n",
       "      <th>78</th>\n",
       "      <td>8.114667</td>\n",
       "      <td>17.889624</td>\n",
       "      <td>5</td>\n",
       "    </tr>\n",
       "    <tr>\n",
       "      <th>79</th>\n",
       "      <td>8.314909</td>\n",
       "      <td>1.132582</td>\n",
       "      <td>5</td>\n",
       "    </tr>\n",
       "  </tbody>\n",
       "</table>\n",
       "<p>80 rows × 3 columns</p>\n",
       "</div>"
      ],
      "text/plain": [
       "    Traning Error  Validation Error  Degree\n",
       "0        8.059542         24.070812       5\n",
       "1        8.325282          0.285836       5\n",
       "2        8.325149          0.334871       5\n",
       "3        8.118258         17.194763       5\n",
       "4        8.303641          2.072676       5\n",
       "..            ...               ...     ...\n",
       "75       8.166777         13.411192       5\n",
       "76       8.183664         12.448743       5\n",
       "77       8.120118         17.177775       5\n",
       "78       8.114667         17.889624       5\n",
       "79       8.314909          1.132582       5\n",
       "\n",
       "[80 rows x 3 columns]"
      ]
     },
     "execution_count": 17,
     "metadata": {},
     "output_type": "execute_result"
    }
   ],
   "source": [
    "from sklearn.model_selection import LeaveOneOut\n",
    "loo = LeaveOneOut()\n",
    "LeaveOneOutErrors=[]\n",
    "\n",
    "for train_index, validation_index in loo.split(x_train):\n",
    "    x_trainv, x_valid = x_train[train_index], x_train[validation_index]\n",
    "    y_trainv, y_valid = y_train[train_index], y_train[validation_index]\n",
    "    LeaveOneOutErrors.append(create_polynomial_regression_model(5))\n",
    "\n",
    "df = pd.DataFrame(LeaveOneOutErrors, columns=[\"Traning Error\", \"Validation Error\", \"Degree\"])\n",
    "df"
   ]
  },
  {
   "cell_type": "code",
   "execution_count": 18,
   "id": "58135cfa-5f4e-43fe-b55e-0786790e79b3",
   "metadata": {},
   "outputs": [
    {
     "data": {
      "text/html": [
       "<div>\n",
       "<style scoped>\n",
       "    .dataframe tbody tr th:only-of-type {\n",
       "        vertical-align: middle;\n",
       "    }\n",
       "\n",
       "    .dataframe tbody tr th {\n",
       "        vertical-align: top;\n",
       "    }\n",
       "\n",
       "    .dataframe thead th {\n",
       "        text-align: right;\n",
       "    }\n",
       "</style>\n",
       "<table border=\"1\" class=\"dataframe\">\n",
       "  <thead>\n",
       "    <tr style=\"text-align: right;\">\n",
       "      <th></th>\n",
       "      <th>Validation Error</th>\n",
       "      <th>Degree</th>\n",
       "    </tr>\n",
       "  </thead>\n",
       "  <tbody>\n",
       "    <tr>\n",
       "      <th>0</th>\n",
       "      <td>522.536143</td>\n",
       "      <td>1</td>\n",
       "    </tr>\n",
       "    <tr>\n",
       "      <th>1</th>\n",
       "      <td>615.206270</td>\n",
       "      <td>2</td>\n",
       "    </tr>\n",
       "    <tr>\n",
       "      <th>2</th>\n",
       "      <td>10.257541</td>\n",
       "      <td>3</td>\n",
       "    </tr>\n",
       "    <tr>\n",
       "      <th>3</th>\n",
       "      <td>12.556636</td>\n",
       "      <td>4</td>\n",
       "    </tr>\n",
       "    <tr>\n",
       "      <th>4</th>\n",
       "      <td>15.705177</td>\n",
       "      <td>5</td>\n",
       "    </tr>\n",
       "    <tr>\n",
       "      <th>5</th>\n",
       "      <td>34.482614</td>\n",
       "      <td>6</td>\n",
       "    </tr>\n",
       "    <tr>\n",
       "      <th>6</th>\n",
       "      <td>19.589947</td>\n",
       "      <td>7</td>\n",
       "    </tr>\n",
       "  </tbody>\n",
       "</table>\n",
       "</div>"
      ],
      "text/plain": [
       "   Validation Error  Degree\n",
       "0        522.536143       1\n",
       "1        615.206270       2\n",
       "2         10.257541       3\n",
       "3         12.556636       4\n",
       "4         15.705177       5\n",
       "5         34.482614       6\n",
       "6         19.589947       7"
      ]
     },
     "execution_count": 18,
     "metadata": {},
     "output_type": "execute_result"
    }
   ],
   "source": [
    "loo = LeaveOneOut()\n",
    "LeaveOneOutCV = []\n",
    "\n",
    "for i in range(1, 8):\n",
    "    LeaveOneOutErrors=[]\n",
    "    for train_index, validation_index in loo.split(x_train):\n",
    "        x_trainv, x_valid = x_train[train_index], x_train[validation_index]\n",
    "        y_trainv, y_valid = y_train[train_index], y_train[validation_index]\n",
    "        LeaveOneOutErrors.append(create_polynomial_regression_model(i))\n",
    "        df = pd.DataFrame(LeaveOneOutErrors, columns=[\"Traning Error\", \"Validation Error\", \"Degree\"])\n",
    "        \n",
    "    LeaveOneOutCV.append([df[\"Validation Error\"].mean(), i])\n",
    "LeaveOneOutCV_df = pd.DataFrame(LeaveOneOutCV, columns=[\"Validation Error\", \"Degree\"])\n",
    "LeaveOneOutCV_df"
   ]
  },
  {
   "cell_type": "code",
   "execution_count": 19,
   "id": "38caeb7b-4538-47f2-9ed1-4bb715017e35",
   "metadata": {},
   "outputs": [
    {
     "data": {
      "text/plain": [
       "<matplotlib.legend.Legend at 0x1500bb3d0>"
      ]
     },
     "execution_count": 19,
     "metadata": {},
     "output_type": "execute_result"
    },
    {
     "data": {
      "image/png": "[encoded data removed]",
      "text/plain": [
       "<Figure size 640x480 with 1 Axes>"
      ]
     },
     "metadata": {},
     "output_type": "display_data"
    }
   ],
   "source": [
    "fig = plt.figure()\n",
    "ax = fig.add_subplot(1, 1, 1)\n",
    "ax.plot(LeaveOneOutCV_df.Degree, LeaveOneOutCV_df[\"Validation Error\"], label= \"Leave One Out Error\")\n",
    "ax.set_xlabel(\"Degree\")\n",
    "ax.set_ylabel(\"Validation Error\")\n",
    "ax.legend(loc=\"best\")"
   ]
  },
  {
   "cell_type": "code",
   "execution_count": 20,
   "id": "3ad76666-6f59-42ce-9706-1aed099466ad",
   "metadata": {},
   "outputs": [
    {
     "data": {
      "text/plain": [
       "9.569802779249255"
      ]
     },
     "execution_count": 20,
     "metadata": {},
     "output_type": "execute_result"
    }
   ],
   "source": [
    "#Let's finally fit a model with a chosen order of polynomial\n",
    "poly_features = PolynomialFeatures(degree=3, include_bias=False)\n",
    "x_train_poly = poly_features.fit_transform(x_train)\n",
    "x_test_poly = poly_features.fit_transform(x_test)\n",
    "\n",
    "poly_model = LinearRegression()\n",
    "poly_model.fit(x_train_poly, y_train)\n",
    "\n",
    "y_pred = poly_model.predict(x_test_poly)\n",
    "mean_squared_error(y_test, y_pred)"
   ]
  },
  {
   "cell_type": "markdown",
   "id": "7c1dfc88-94f7-42b0-b2b5-959db3ad0be1",
   "metadata": {},
   "source": [
    "# K-Fold Validation"
   ]
  },
  {
   "cell_type": "code",
   "execution_count": 21,
   "id": "f0407143-6f1a-4a3f-af5f-c44b83302506",
   "metadata": {},
   "outputs": [],
   "source": [
    "from sklearn.model_selection import KFold"
   ]
  },
  {
   "cell_type": "code",
   "execution_count": 22,
   "id": "02b32645-5f0f-4f91-a7c9-d9b84123e80e",
   "metadata": {},
   "outputs": [],
   "source": [
    "# Splitting train and test data for LeaveOneOut\n",
    "x_train, x_test, y_train, y_test = train_test_split(x, y, test_size=0.2, random_state=12)"
   ]
  },
  {
   "cell_type": "code",
   "execution_count": 23,
   "id": "d0aa8fb1-ff3a-441e-b3f1-576cbb8176aa",
   "metadata": {},
   "outputs": [
    {
     "data": {
      "text/html": [
       "<div>\n",
       "<style scoped>\n",
       "    .dataframe tbody tr th:only-of-type {\n",
       "        vertical-align: middle;\n",
       "    }\n",
       "\n",
       "    .dataframe tbody tr th {\n",
       "        vertical-align: top;\n",
       "    }\n",
       "\n",
       "    .dataframe thead th {\n",
       "        text-align: right;\n",
       "    }\n",
       "</style>\n",
       "<table border=\"1\" class=\"dataframe\">\n",
       "  <thead>\n",
       "    <tr style=\"text-align: right;\">\n",
       "      <th></th>\n",
       "      <th>Traning Error</th>\n",
       "      <th>Validation Error</th>\n",
       "      <th>Degree</th>\n",
       "    </tr>\n",
       "  </thead>\n",
       "  <tbody>\n",
       "    <tr>\n",
       "      <th>0</th>\n",
       "      <td>457.128794</td>\n",
       "      <td>302.181206</td>\n",
       "      <td>2</td>\n",
       "    </tr>\n",
       "    <tr>\n",
       "      <th>1</th>\n",
       "      <td>423.814064</td>\n",
       "      <td>451.290607</td>\n",
       "      <td>2</td>\n",
       "    </tr>\n",
       "    <tr>\n",
       "      <th>2</th>\n",
       "      <td>252.049337</td>\n",
       "      <td>1400.161591</td>\n",
       "      <td>2</td>\n",
       "    </tr>\n",
       "    <tr>\n",
       "      <th>3</th>\n",
       "      <td>465.197494</td>\n",
       "      <td>241.794972</td>\n",
       "      <td>2</td>\n",
       "    </tr>\n",
       "    <tr>\n",
       "      <th>4</th>\n",
       "      <td>430.573414</td>\n",
       "      <td>406.104040</td>\n",
       "      <td>2</td>\n",
       "    </tr>\n",
       "  </tbody>\n",
       "</table>\n",
       "</div>"
      ],
      "text/plain": [
       "   Traning Error  Validation Error  Degree\n",
       "0     457.128794        302.181206       2\n",
       "1     423.814064        451.290607       2\n",
       "2     252.049337       1400.161591       2\n",
       "3     465.197494        241.794972       2\n",
       "4     430.573414        406.104040       2"
      ]
     },
     "execution_count": 23,
     "metadata": {},
     "output_type": "execute_result"
    }
   ],
   "source": [
    "cv = KFold(n_splits=5, shuffle=True, random_state=42)\n",
    "CVErrors = []\n",
    "\n",
    "for train_index, validation_index in cv.split(x_train):\n",
    "    x_trainv, x_valid = x_train[train_index], x_train[validation_index]\n",
    "    y_trainv, y_valid = y_train[train_index], y_train[validation_index]\n",
    "    CVErrors.append(create_polynomial_regression_model(2))\n",
    "\n",
    "df = pd.DataFrame(CVErrors, columns=[\"Traning Error\", \"Validation Error\", \"Degree\"])\n",
    "df"
   ]
  },
  {
   "cell_type": "code",
   "execution_count": 24,
   "id": "7813bb2a-dc3b-4f22-b597-40e2fd702704",
   "metadata": {},
   "outputs": [
    {
     "data": {
      "text/html": [
       "<div>\n",
       "<style scoped>\n",
       "    .dataframe tbody tr th:only-of-type {\n",
       "        vertical-align: middle;\n",
       "    }\n",
       "\n",
       "    .dataframe tbody tr th {\n",
       "        vertical-align: top;\n",
       "    }\n",
       "\n",
       "    .dataframe thead th {\n",
       "        text-align: right;\n",
       "    }\n",
       "</style>\n",
       "<table border=\"1\" class=\"dataframe\">\n",
       "  <thead>\n",
       "    <tr style=\"text-align: right;\">\n",
       "      <th></th>\n",
       "      <th>Validation Error</th>\n",
       "      <th>Degree</th>\n",
       "    </tr>\n",
       "  </thead>\n",
       "  <tbody>\n",
       "    <tr>\n",
       "      <th>0</th>\n",
       "      <td>491.023574</td>\n",
       "      <td>1</td>\n",
       "    </tr>\n",
       "    <tr>\n",
       "      <th>1</th>\n",
       "      <td>560.306483</td>\n",
       "      <td>2</td>\n",
       "    </tr>\n",
       "    <tr>\n",
       "      <th>2</th>\n",
       "      <td>10.320544</td>\n",
       "      <td>3</td>\n",
       "    </tr>\n",
       "    <tr>\n",
       "      <th>3</th>\n",
       "      <td>12.012723</td>\n",
       "      <td>4</td>\n",
       "    </tr>\n",
       "    <tr>\n",
       "      <th>4</th>\n",
       "      <td>18.650768</td>\n",
       "      <td>5</td>\n",
       "    </tr>\n",
       "    <tr>\n",
       "      <th>5</th>\n",
       "      <td>42.742494</td>\n",
       "      <td>6</td>\n",
       "    </tr>\n",
       "    <tr>\n",
       "      <th>6</th>\n",
       "      <td>25.709752</td>\n",
       "      <td>7</td>\n",
       "    </tr>\n",
       "  </tbody>\n",
       "</table>\n",
       "</div>"
      ],
      "text/plain": [
       "   Validation Error  Degree\n",
       "0        491.023574       1\n",
       "1        560.306483       2\n",
       "2         10.320544       3\n",
       "3         12.012723       4\n",
       "4         18.650768       5\n",
       "5         42.742494       6\n",
       "6         25.709752       7"
      ]
     },
     "execution_count": 24,
     "metadata": {},
     "output_type": "execute_result"
    }
   ],
   "source": [
    "cv = KFold(n_splits=5, shuffle=True, random_state=42)\n",
    "CVErrorCV = []\n",
    "\n",
    "for i in range(1, 8):\n",
    "    CVErrors = []\n",
    "    for train_index,  validation_index in cv.split(x_train):\n",
    "        x_trainv, x_valid = x_train[train_index], x_train[validation_index]\n",
    "        y_trainv, y_valid = y_train[train_index], y_train[validation_index]\n",
    "        CVErrors.append(create_polynomial_regression_model(i))\n",
    "        df = pd.DataFrame(CVErrors, columns=[\"Traning Error\", \"Validation Error\", \"Degree\"])\n",
    "    CVErrorCV.append([df[\"Validation Error\"].mean(), i])\n",
    "    \n",
    "KFoldCV_df = pd.DataFrame(CVErrorCV, columns=[\"Validation Error\", \"Degree\"])\n",
    "KFoldCV_df"
   ]
  },
  {
   "cell_type": "code",
   "execution_count": 25,
   "id": "f2b7818e-5392-456c-bdc7-c2f37ed0e480",
   "metadata": {},
   "outputs": [
    {
     "data": {
      "text/html": [
       "<div>\n",
       "<style scoped>\n",
       "    .dataframe tbody tr th:only-of-type {\n",
       "        vertical-align: middle;\n",
       "    }\n",
       "\n",
       "    .dataframe tbody tr th {\n",
       "        vertical-align: top;\n",
       "    }\n",
       "\n",
       "    .dataframe thead th {\n",
       "        text-align: right;\n",
       "    }\n",
       "</style>\n",
       "<table border=\"1\" class=\"dataframe\">\n",
       "  <thead>\n",
       "    <tr style=\"text-align: right;\">\n",
       "      <th></th>\n",
       "      <th>Degree</th>\n",
       "      <th>Validation Error</th>\n",
       "    </tr>\n",
       "  </thead>\n",
       "  <tbody>\n",
       "    <tr>\n",
       "      <th>0</th>\n",
       "      <td>1</td>\n",
       "      <td>491.023574</td>\n",
       "    </tr>\n",
       "    <tr>\n",
       "      <th>1</th>\n",
       "      <td>2</td>\n",
       "      <td>560.306483</td>\n",
       "    </tr>\n",
       "    <tr>\n",
       "      <th>2</th>\n",
       "      <td>3</td>\n",
       "      <td>10.320544</td>\n",
       "    </tr>\n",
       "    <tr>\n",
       "      <th>3</th>\n",
       "      <td>4</td>\n",
       "      <td>12.012723</td>\n",
       "    </tr>\n",
       "    <tr>\n",
       "      <th>4</th>\n",
       "      <td>5</td>\n",
       "      <td>18.650768</td>\n",
       "    </tr>\n",
       "    <tr>\n",
       "      <th>5</th>\n",
       "      <td>6</td>\n",
       "      <td>42.742494</td>\n",
       "    </tr>\n",
       "    <tr>\n",
       "      <th>6</th>\n",
       "      <td>7</td>\n",
       "      <td>25.709752</td>\n",
       "    </tr>\n",
       "  </tbody>\n",
       "</table>\n",
       "</div>"
      ],
      "text/plain": [
       "   Degree  Validation Error\n",
       "0       1        491.023574\n",
       "1       2        560.306483\n",
       "2       3         10.320544\n",
       "3       4         12.012723\n",
       "4       5         18.650768\n",
       "5       6         42.742494\n",
       "6       7         25.709752"
      ]
     },
     "execution_count": 25,
     "metadata": {},
     "output_type": "execute_result"
    }
   ],
   "source": [
    "cv = KFold(n_splits=5, shuffle=True, random_state=42)\n",
    "CVErrors = []\n",
    "\n",
    "for i in range(1, 8):\n",
    "    for train_index, validation_index in cv.split(x_train):\n",
    "        x_trainv, x_valid = x_train[train_index], x_train[validation_index]\n",
    "        y_trainv, y_valid = y_train[train_index], y_train[validation_index]\n",
    "        CVErrors.append(create_polynomial_regression_model(i))\n",
    "    df = pd.DataFrame(CVErrors, columns=[\"Traning Error\", \"Validation Error\", \"Degree\"])\n",
    "    \n",
    "kfoldCV_by_degree = df.groupby(\"Degree\").mean()\n",
    "kfoldCV_by_degree = kfoldCV_by_degree.reset_index()\n",
    "kfoldCV_by_degree[['Degree', 'Validation Error']]"
   ]
  },
  {
   "cell_type": "code",
   "execution_count": 26,
   "id": "eb26d3a4-2191-4af4-8875-3fa6cdf8e750",
   "metadata": {},
   "outputs": [
    {
     "data": {
      "text/plain": [
       "<matplotlib.legend.Legend at 0x1501e1b50>"
      ]
     },
     "execution_count": 26,
     "metadata": {},
     "output_type": "execute_result"
    },
    {
     "data": {
      "image/png": "[encoded data removed]",
      "text/plain": [
       "<Figure size 640x480 with 1 Axes>"
      ]
     },
     "metadata": {},
     "output_type": "display_data"
    }
   ],
   "source": [
    "fig = plt.figure()\n",
    "ax = fig.add_subplot(1, 1, 1)\n",
    "ax.plot(kfoldCV_by_degree[\"Degree\"], kfoldCV_by_degree[\"Validation Error\"], label=\"5-Fold Error\")\n",
    "ax.set_xlabel(\"Degree\")\n",
    "ax.set_ylabel(\"Validation Error\")\n",
    "ax.legend(loc=\"best\")"
   ]
  },
  {
   "cell_type": "code",
   "execution_count": 27,
   "id": "51a66976-1407-4310-a965-53321e465771",
   "metadata": {},
   "outputs": [
    {
     "data": {
      "text/plain": [
       "Text(0, 0.5, 'Errors')"
      ]
     },
     "execution_count": 27,
     "metadata": {},
     "output_type": "execute_result"
    },
    {
     "data": {
      "image/png": "[encoded data removed]",
      "text/plain": [
       "<Figure size 640x480 with 1 Axes>"
      ]
     },
     "metadata": {},
     "output_type": "display_data"
    }
   ],
   "source": [
    "fig = plt.figure()\n",
    "ax = fig.add_subplot(1, 1, 1)\n",
    "\n",
    "for i in range (1, 10):\n",
    "    CVErrors = []\n",
    "    cv = KFold(n_splits=5, shuffle=True, random_state=i)\n",
    "    for j in range (1, 8):\n",
    "        for train_index, validation_index in cv.split(x_train):\n",
    "            x_trainv, x_valid = x_train[train_index], x_train[validation_index]\n",
    "            y_trainv, y_valid = y_train[train_index], y_train[validation_index]\n",
    "            CVErrors.append(create_polynomial_regression_model(j))\n",
    "        df = pd.DataFrame(CVErrors, columns=[\"Traning Error\", \"Validation Error\", \"Degree\"])\n",
    "    kfoldCV_by_degree = df.groupby(\"Degree\").mean()\n",
    "    kfoldCV_by_degree = kfoldCV_by_degree.reset_index()\n",
    "    ax.plot(kfoldCV_by_degree[\"Degree\"], kfoldCV_by_degree[\"Validation Error\"])\n",
    "ax.set_xlabel('Degree')\n",
    "ax.set_ylabel('Errors')"
   ]
  },
  {
   "cell_type": "code",
   "execution_count": 28,
   "id": "daf05de3-e044-420f-933a-1785a8548dfb",
   "metadata": {},
   "outputs": [
    {
     "data": {
      "text/html": [
       "<div>\n",
       "<style scoped>\n",
       "    .dataframe tbody tr th:only-of-type {\n",
       "        vertical-align: middle;\n",
       "    }\n",
       "\n",
       "    .dataframe tbody tr th {\n",
       "        vertical-align: top;\n",
       "    }\n",
       "\n",
       "    .dataframe thead th {\n",
       "        text-align: right;\n",
       "    }\n",
       "</style>\n",
       "<table border=\"1\" class=\"dataframe\">\n",
       "  <thead>\n",
       "    <tr style=\"text-align: right;\">\n",
       "      <th></th>\n",
       "      <th>Degree</th>\n",
       "      <th>Validation Error</th>\n",
       "    </tr>\n",
       "  </thead>\n",
       "  <tbody>\n",
       "    <tr>\n",
       "      <th>0</th>\n",
       "      <td>1</td>\n",
       "      <td>524.520757</td>\n",
       "    </tr>\n",
       "    <tr>\n",
       "      <th>1</th>\n",
       "      <td>2</td>\n",
       "      <td>566.379773</td>\n",
       "    </tr>\n",
       "    <tr>\n",
       "      <th>2</th>\n",
       "      <td>3</td>\n",
       "      <td>9.935205</td>\n",
       "    </tr>\n",
       "    <tr>\n",
       "      <th>3</th>\n",
       "      <td>4</td>\n",
       "      <td>13.544290</td>\n",
       "    </tr>\n",
       "    <tr>\n",
       "      <th>4</th>\n",
       "      <td>5</td>\n",
       "      <td>14.397570</td>\n",
       "    </tr>\n",
       "    <tr>\n",
       "      <th>5</th>\n",
       "      <td>6</td>\n",
       "      <td>45.623574</td>\n",
       "    </tr>\n",
       "    <tr>\n",
       "      <th>6</th>\n",
       "      <td>7</td>\n",
       "      <td>41.462287</td>\n",
       "    </tr>\n",
       "  </tbody>\n",
       "</table>\n",
       "</div>"
      ],
      "text/plain": [
       "   Degree  Validation Error\n",
       "0       1        524.520757\n",
       "1       2        566.379773\n",
       "2       3          9.935205\n",
       "3       4         13.544290\n",
       "4       5         14.397570\n",
       "5       6         45.623574\n",
       "6       7         41.462287"
      ]
     },
     "execution_count": 28,
     "metadata": {},
     "output_type": "execute_result"
    }
   ],
   "source": [
    "kfoldCV_by_degree[[\"Degree\", \"Validation Error\"]]"
   ]
  },
  {
   "cell_type": "code",
   "execution_count": 29,
   "id": "aea4e58d-8730-47a5-942b-84989f4399e9",
   "metadata": {},
   "outputs": [
    {
     "data": {
      "text/plain": [
       "10.422657803430786"
      ]
     },
     "execution_count": 29,
     "metadata": {},
     "output_type": "execute_result"
    }
   ],
   "source": [
    "#Let's finally fit a model with a chosen order of polynomial\n",
    "poly_features = PolynomialFeatures(degree=3, include_bias=False)\n",
    "\n",
    "x_train_poly = poly_features.fit_transform(x_train)\n",
    "x_test_poly = poly_features.fit_transform(x_test)\n",
    "\n",
    "poly_model = LinearRegression()\n",
    "poly_model.fit(x_train_poly, y_train)\n",
    "\n",
    "y_predict = poly_model.predict(x_test_poly)\n",
    "mean_squared_error(y_test, y_predict)"
   ]
  },
  {
   "cell_type": "code",
   "execution_count": 30,
   "id": "44fb80e8-48c8-4f71-ad8a-13c23ed312e7",
   "metadata": {},
   "outputs": [
    {
     "data": {
      "text/plain": [
       "8.602520876415438"
      ]
     },
     "execution_count": 30,
     "metadata": {},
     "output_type": "execute_result"
    }
   ],
   "source": [
    "#Let's predict all data target\n",
    "poly_features = PolynomialFeatures(degree=3, include_bias=False)\n",
    "\n",
    "x_poly = poly_features.fit_transform(x)\n",
    "\n",
    "poly_model = LinearRegression()\n",
    "poly_model.fit(x_poly, y)\n",
    "\n",
    "all_y_predict = poly_model.predict(x_poly)\n",
    "mean_squared_error(y, all_y_predict)"
   ]
  },
  {
   "cell_type": "code",
   "execution_count": null,
   "id": "f95551a5-fefe-45e5-92ee-a6d825ec5655",
   "metadata": {},
   "outputs": [],
   "source": [
    "plt.scatter(x, y, marker=\"o\", color=\"indigo\", alpha=0.7)\n",
    "plt.plot(x, all_y_predict, c=\"red\")\n",
    "plt.title(\"X vs Y\")\n",
    "plt.xlabel(\"X\")\n",
    "plt.ylabel(\"Y\")"
   ]
  },
  {
   "cell_type": "code",
   "execution_count": null,
   "id": "17d72b99-4561-43e4-9fee-4ea961a0b872",
   "metadata": {},
   "outputs": [],
   "source": []
  }
 ],
 "metadata": {
  "kernelspec": {
   "display_name": "Python 3 (ipykernel)",
   "language": "python",
   "name": "python3"
  },
  "language_info": {
   "codemirror_mode": {
    "name": "ipython",
    "version": 3
   },
   "file_extension": ".py",
   "mimetype": "text/x-python",
   "name": "python",
   "nbconvert_exporter": "python",
   "pygments_lexer": "ipython3",
   "version": "3.11.4"
  }
 },
 "nbformat": 4,
 "nbformat_minor": 5
}
