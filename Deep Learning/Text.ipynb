{
 "cells": [
  {
   "cell_type": "code",
   "execution_count": 38,
   "id": "8a0637e4-bb35-4e61-b94d-b15e617573f5",
   "metadata": {},
   "outputs": [],
   "source": [
    "from sklearn.datasets import fetch_20newsgroups\n",
    "\n",
    "documents_train = fetch_20newsgroups(\n",
    "    subset = \"train\",\n",
    "    categories = [\"comp.graphics\", \"comp.windows.x\", \"rec.autos\", \"sci.space\"]\n",
    ")\n",
    "\n",
    "documents_test = fetch_20newsgroups(\n",
    "    subset = \"test\",\n",
    "    categories = [\"comp.graphics\", \"comp.windows.x\", \"rec.autos\", \"sci.space\"]\n",
    ")"
   ]
  },
  {
   "cell_type": "code",
   "execution_count": 39,
   "id": "d44db247-af3f-4d89-8682-0c4c9e20349b",
   "metadata": {},
   "outputs": [
    {
     "data": {
      "text/plain": [
       "1574"
      ]
     },
     "execution_count": 39,
     "metadata": {},
     "output_type": "execute_result"
    }
   ],
   "source": [
    "len(documents_train[\"data\"])\n",
    "len(documents_test[\"data\"])"
   ]
  },
  {
   "cell_type": "code",
   "execution_count": 40,
   "id": "6fc59606-8159-458e-8fd4-8c5b8f7e0022",
   "metadata": {},
   "outputs": [
    {
     "name": "stdout",
     "output_type": "stream",
     "text": [
      "From: orourke@sophia.smith.edu (Joseph O'Rourke)\n",
      "Subject: Re: Delaunay Triangulation\n",
      "Organization: Smith College, Northampton, MA, US\n",
      "Lines: 22\n",
      "\n",
      "In article <lsk1v9INN93c@caspian.usc.edu> zyeh@caspian.usc.edu (zhenghao yeh) writes:\n",
      ">\n",
      ">Does anybody know what Delaunay Triangulation is?\n",
      ">Is there any reference to it? \n",
      ">Is it useful for creating 3-D objects? If yes, what's the advantage?\n",
      "\n",
      "There is a vast literature on Delaunay triangulations, literally\n",
      "hundreds of papers.  A program is even provided with every copy of \n",
      "Mathematica nowadays.  You might look at this if you are interested in \n",
      "using it for creating 3D objects:\n",
      "\n",
      "@article{Boissonnat5,\n",
      "  author = \"J.D. Boissonnat\",\n",
      "  title = \"Geometric Structures for Three-Dimensional Shape Representation\",\n",
      "  journal = \"ACM Transactions on Graphics\",\n",
      "  month = \"October\",\n",
      "  year = {1984},\n",
      "  volume = {3},\n",
      "  number = {4},\n",
      "  pages = {266-286}\n",
      "}\n",
      "\n",
      "\n",
      "0\n",
      "['comp.graphics', 'comp.windows.x', 'rec.autos', 'sci.space']\n"
     ]
    }
   ],
   "source": [
    "print(documents_train[\"data\"][0])\n",
    "print(documents_train[\"target\"][0])\n",
    "print(documents_train.target_names)"
   ]
  },
  {
   "cell_type": "markdown",
   "id": "8589343d-2ffc-4f3f-ab84-49d82d6e222d",
   "metadata": {},
   "source": [
    "## Bag of Words"
   ]
  },
  {
   "cell_type": "code",
   "execution_count": 41,
   "id": "4c5f493d-42ee-4fee-b8e5-78e88f8e0e95",
   "metadata": {},
   "outputs": [
    {
     "data": {
      "text/plain": [
       "matrix([[0, 0, 0, ..., 0, 0, 0],\n",
       "        [0, 0, 0, ..., 0, 0, 0],\n",
       "        [0, 0, 0, ..., 0, 0, 0],\n",
       "        ...,\n",
       "        [0, 0, 0, ..., 0, 0, 0],\n",
       "        [0, 0, 0, ..., 0, 0, 0],\n",
       "        [0, 0, 0, ..., 0, 0, 0]])"
      ]
     },
     "execution_count": 41,
     "metadata": {},
     "output_type": "execute_result"
    }
   ],
   "source": [
    "from sklearn.feature_extraction.text import CountVectorizer\n",
    "\n",
    "vectorizer = CountVectorizer()\n",
    "vectorizer.fit(documents_train[\"data\"])\n",
    "\n",
    "X_train = vectorizer.transform(documents_train[\"data\"])\n",
    "X_test = vectorizer.transform(documents_test[\"data\"])\n",
    "X_train.todense()"
   ]
  },
  {
   "cell_type": "code",
   "execution_count": 42,
   "id": "631d894c-4f03-4c86-a278-161f2748fa48",
   "metadata": {},
   "outputs": [
    {
     "name": "stdout",
     "output_type": "stream",
     "text": [
      "              precision    recall  f1-score   support\n",
      "\n",
      "           0       0.81      0.90      0.85       389\n",
      "           1       0.93      0.80      0.86       395\n",
      "           2       0.97      0.99      0.98       396\n",
      "           3       0.95      0.97      0.96       394\n",
      "\n",
      "    accuracy                           0.91      1574\n",
      "   macro avg       0.92      0.91      0.91      1574\n",
      "weighted avg       0.92      0.91      0.91      1574\n",
      "\n"
     ]
    }
   ],
   "source": [
    "from sklearn.naive_bayes import MultinomialNB\n",
    "from sklearn.metrics import classification_report\n",
    "\n",
    "mdl = MultinomialNB()\n",
    "mdl.fit(X_train, documents_train[\"target\"])\n",
    "\n",
    "ypred = mdl.predict(X_test)\n",
    "\n",
    "print(classification_report(documents_test[\"target\"], ypred))"
   ]
  },
  {
   "cell_type": "markdown",
   "id": "1cbf8cbe-1271-48c0-8dad-8d0812034889",
   "metadata": {},
   "source": [
    "## Term Frequency"
   ]
  },
  {
   "cell_type": "code",
   "execution_count": 43,
   "id": "b17b6d57-db89-4179-8da2-b804c63f4a20",
   "metadata": {},
   "outputs": [
    {
     "name": "stdout",
     "output_type": "stream",
     "text": [
      "              precision    recall  f1-score   support\n",
      "\n",
      "           0       0.82      0.78      0.80       389\n",
      "           1       0.92      0.79      0.85       395\n",
      "           2       0.85      0.98      0.91       396\n",
      "           3       0.92      0.95      0.93       394\n",
      "\n",
      "    accuracy                           0.87      1574\n",
      "   macro avg       0.88      0.87      0.87      1574\n",
      "weighted avg       0.88      0.87      0.87      1574\n",
      "\n"
     ]
    }
   ],
   "source": [
    "from sklearn.feature_extraction.text import TfidfTransformer\n",
    "\n",
    "tf_transformer = TfidfTransformer(use_idf = False)\n",
    "\n",
    "X_train_tf = tf_transformer.fit_transform(X_train)\n",
    "X_test_tf = tf_transformer.transform(X_test)\n",
    "\n",
    "mdl.fit(X_train_tf, documents_train[\"target\"])\n",
    "\n",
    "ypred = mdl.predict(X_test_tf)\n",
    "\n",
    "print(classification_report(documents_test[\"target\"], ypred))"
   ]
  },
  {
   "cell_type": "markdown",
   "id": "9a7d1a18-0634-45ea-91f8-76ac5cbcea46",
   "metadata": {},
   "source": [
    "## Term Frequency Inverse Document Frequency"
   ]
  },
  {
   "cell_type": "code",
   "execution_count": 44,
   "id": "611ed5f2-5539-444c-bfe6-6c49c9ce40d3",
   "metadata": {},
   "outputs": [
    {
     "name": "stdout",
     "output_type": "stream",
     "text": [
      "              precision    recall  f1-score   support\n",
      "\n",
      "           0       0.85      0.80      0.83       389\n",
      "           1       0.91      0.84      0.87       395\n",
      "           2       0.90      0.98      0.94       396\n",
      "           3       0.93      0.97      0.95       394\n",
      "\n",
      "    accuracy                           0.90      1574\n",
      "   macro avg       0.90      0.90      0.90      1574\n",
      "weighted avg       0.90      0.90      0.90      1574\n",
      "\n"
     ]
    }
   ],
   "source": [
    "tfidf_transformer = TfidfTransformer(use_idf = True)\n",
    "\n",
    "X_train_tfidf = tfidf_transformer.fit_transform(X_train)\n",
    "X_test_tfidf = tfidf_transformer.transform(X_test)\n",
    "\n",
    "mdl.fit(X_train_tfidf, documents_train[\"target\"])\n",
    "\n",
    "ypred = mdl.predict(X_test_tfidf)\n",
    "\n",
    "print(classification_report(documents_test[\"target\"], ypred))"
   ]
  },
  {
   "cell_type": "markdown",
   "id": "cc0eb362-32e6-4038-98b8-a9e6b8d687a6",
   "metadata": {},
   "source": [
    "# Deep Leaning"
   ]
  },
  {
   "cell_type": "code",
   "execution_count": 45,
   "id": "0fdd480f-03c8-4a4d-8fac-e281c19d9271",
   "metadata": {},
   "outputs": [],
   "source": [
    "import tensorflow as tf\n",
    "from tensorflow.keras import layers, Sequential"
   ]
  },
  {
   "cell_type": "code",
   "execution_count": 46,
   "id": "bc60194c-eceb-4340-8c2f-3407019c8071",
   "metadata": {},
   "outputs": [
    {
     "data": {
      "text/plain": [
       "(2364, 36608)"
      ]
     },
     "execution_count": 46,
     "metadata": {},
     "output_type": "execute_result"
    }
   ],
   "source": [
    "X_train.shape"
   ]
  },
  {
   "cell_type": "code",
   "execution_count": 47,
   "id": "ada909c8-d88a-4f72-9f23-804f075340d9",
   "metadata": {},
   "outputs": [
    {
     "data": {
      "text/plain": [
       "<tf.Tensor: shape=(2364, 10000), dtype=float32, numpy=\n",
       "array([[ 47.9559   ,   0.7299776,   0.765898 , ...,   0.       ,\n",
       "          0.       ,   0.       ],\n",
       "       [ 37.29903  ,   0.7299776,   2.297694 , ...,   0.       ,\n",
       "          0.       ,   0.       ],\n",
       "       [ 15.985299 ,   3.649888 ,   1.531796 , ...,   0.       ,\n",
       "          0.       ,   0.       ],\n",
       "       ...,\n",
       "       [ 26.642166 ,   5.1098433,   1.531796 , ...,   0.       ,\n",
       "          0.       ,   0.       ],\n",
       "       [ 79.9265   ,  18.979418 ,   7.65898  , ...,   0.       ,\n",
       "          0.       ,   0.       ],\n",
       "       [101.24023  ,   8.759731 ,   5.361286 , ...,   0.       ,\n",
       "          0.       ,   0.       ]], dtype=float32)>"
      ]
     },
     "execution_count": 47,
     "metadata": {},
     "output_type": "execute_result"
    }
   ],
   "source": [
    "text_vectorizer = layers.TextVectorization(\n",
    "    max_tokens = 10000,\n",
    "    output_mode = \"tf-idf\"\n",
    ")\n",
    "\n",
    "text_vectorizer.adapt(documents_train[\"data\"])\n",
    "X_train = text_vectorizer(documents_train[\"data\"])\n",
    "X_test = text_vectorizer(documents_test[\"data\"])\n",
    "\n",
    "X_train"
   ]
  },
  {
   "cell_type": "code",
   "execution_count": 48,
   "id": "7bae6283-2b3c-482a-92fa-325204360d3d",
   "metadata": {},
   "outputs": [
    {
     "name": "stdout",
     "output_type": "stream",
     "text": [
      "Epoch 1/10\n",
      "\u001b[1m74/74\u001b[0m \u001b[32m━━━━━━━━━━━━━━━━━━━━\u001b[0m\u001b[37m\u001b[0m \u001b[1m1s\u001b[0m 4ms/step - accuracy: 0.6886 - loss: 0.9243\n",
      "Epoch 2/10\n",
      "\u001b[1m74/74\u001b[0m \u001b[32m━━━━━━━━━━━━━━━━━━━━\u001b[0m\u001b[37m\u001b[0m \u001b[1m0s\u001b[0m 3ms/step - accuracy: 0.9927 - loss: 0.0346\n",
      "Epoch 3/10\n",
      "\u001b[1m74/74\u001b[0m \u001b[32m━━━━━━━━━━━━━━━━━━━━\u001b[0m\u001b[37m\u001b[0m \u001b[1m0s\u001b[0m 4ms/step - accuracy: 1.0000 - loss: 0.0063\n",
      "Epoch 4/10\n",
      "\u001b[1m74/74\u001b[0m \u001b[32m━━━━━━━━━━━━━━━━━━━━\u001b[0m\u001b[37m\u001b[0m \u001b[1m0s\u001b[0m 4ms/step - accuracy: 1.0000 - loss: 0.0019\n",
      "Epoch 5/10\n",
      "\u001b[1m74/74\u001b[0m \u001b[32m━━━━━━━━━━━━━━━━━━━━\u001b[0m\u001b[37m\u001b[0m \u001b[1m0s\u001b[0m 4ms/step - accuracy: 1.0000 - loss: 9.3713e-04\n",
      "Epoch 6/10\n",
      "\u001b[1m74/74\u001b[0m \u001b[32m━━━━━━━━━━━━━━━━━━━━\u001b[0m\u001b[37m\u001b[0m \u001b[1m0s\u001b[0m 4ms/step - accuracy: 1.0000 - loss: 4.7390e-04\n",
      "Epoch 7/10\n",
      "\u001b[1m74/74\u001b[0m \u001b[32m━━━━━━━━━━━━━━━━━━━━\u001b[0m\u001b[37m\u001b[0m \u001b[1m0s\u001b[0m 4ms/step - accuracy: 1.0000 - loss: 2.4962e-04\n",
      "Epoch 8/10\n",
      "\u001b[1m74/74\u001b[0m \u001b[32m━━━━━━━━━━━━━━━━━━━━\u001b[0m\u001b[37m\u001b[0m \u001b[1m0s\u001b[0m 5ms/step - accuracy: 1.0000 - loss: 2.0040e-04\n",
      "Epoch 9/10\n",
      "\u001b[1m74/74\u001b[0m \u001b[32m━━━━━━━━━━━━━━━━━━━━\u001b[0m\u001b[37m\u001b[0m \u001b[1m0s\u001b[0m 4ms/step - accuracy: 1.0000 - loss: 1.2212e-04\n",
      "Epoch 10/10\n",
      "\u001b[1m74/74\u001b[0m \u001b[32m━━━━━━━━━━━━━━━━━━━━\u001b[0m\u001b[37m\u001b[0m \u001b[1m0s\u001b[0m 4ms/step - accuracy: 1.0000 - loss: 9.4139e-05\n"
     ]
    },
    {
     "data": {
      "text/plain": [
       "<keras.src.callbacks.history.History at 0x333719c10>"
      ]
     },
     "execution_count": 48,
     "metadata": {},
     "output_type": "execute_result"
    }
   ],
   "source": [
    "mdl = Sequential()\n",
    "\n",
    "mdl.add(layers.Input(shape=(X_train.shape[1], )))\n",
    "mdl.add(layers.Dense(128, activation = \"relu\"))\n",
    "mdl.add(layers.Dense(128, activation = \"relu\"))\n",
    "mdl.add(layers.Dense(4, activation = \"softmax\"))\n",
    "\n",
    "mdl.compile(optimizer = \"adam\", loss = \"sparse_categorical_crossentropy\", metrics = [\"accuracy\"])\n",
    "\n",
    "mdl.fit(X_train, documents_train[\"target\"], epochs = 10)"
   ]
  },
  {
   "cell_type": "code",
   "execution_count": 49,
   "id": "de80b1ae-8cd7-4be7-a0cc-4792c8d6a058",
   "metadata": {},
   "outputs": [
    {
     "name": "stdout",
     "output_type": "stream",
     "text": [
      "\u001b[1m50/50\u001b[0m \u001b[32m━━━━━━━━━━━━━━━━━━━━\u001b[0m\u001b[37m\u001b[0m \u001b[1m0s\u001b[0m 763us/step - accuracy: 0.8950 - loss: 0.5053\n"
     ]
    },
    {
     "data": {
      "text/plain": [
       "[0.4895995259284973, 0.9040660858154297]"
      ]
     },
     "execution_count": 49,
     "metadata": {},
     "output_type": "execute_result"
    }
   ],
   "source": [
    "mdl.evaluate(X_test, documents_test.target)"
   ]
  },
  {
   "cell_type": "markdown",
   "id": "f4b15a1c-fe1a-41d7-830f-9a11217a0464",
   "metadata": {},
   "source": [
    "## Sequential Data for Deep Learning"
   ]
  },
  {
   "cell_type": "code",
   "execution_count": 50,
   "id": "11c77c6e-5ba8-4f4b-8a7d-bcf532ff4fdb",
   "metadata": {},
   "outputs": [
    {
     "data": {
      "text/plain": [
       "TensorShape([2364, 10, 1000])"
      ]
     },
     "execution_count": 50,
     "metadata": {},
     "output_type": "execute_result"
    }
   ],
   "source": [
    "text_vectorizer = layers.TextVectorization(\n",
    "    max_tokens = 1000,\n",
    "    output_mode = \"int\",\n",
    "    output_sequence_length = 10\n",
    ")\n",
    "\n",
    "text_vectorizer.adapt(documents_train[\"data\"])\n",
    "X_train = text_vectorizer(documents_train[\"data\"])\n",
    "X_test = text_vectorizer(documents_test[\"data\"])\n",
    "\n",
    "X_train = tf.one_hot(X_train, depth = 1000)\n",
    "X_test = tf.one_hot(X_test, depth = 1000)\n",
    "X_train.shape"
   ]
  },
  {
   "cell_type": "code",
   "execution_count": 51,
   "id": "d4f7b03b-d723-4787-ba68-f5386dde2a3d",
   "metadata": {},
   "outputs": [
    {
     "name": "stdout",
     "output_type": "stream",
     "text": [
      "Epoch 1/10\n",
      "\u001b[1m74/74\u001b[0m \u001b[32m━━━━━━━━━━━━━━━━━━━━\u001b[0m\u001b[37m\u001b[0m \u001b[1m1s\u001b[0m 8ms/step - accuracy: 0.3584 - loss: 1.3473\n",
      "Epoch 2/10\n",
      "\u001b[1m74/74\u001b[0m \u001b[32m━━━━━━━━━━━━━━━━━━━━\u001b[0m\u001b[37m\u001b[0m \u001b[1m1s\u001b[0m 10ms/step - accuracy: 0.6494 - loss: 0.8918\n",
      "Epoch 3/10\n",
      "\u001b[1m74/74\u001b[0m \u001b[32m━━━━━━━━━━━━━━━━━━━━\u001b[0m\u001b[37m\u001b[0m \u001b[1m1s\u001b[0m 9ms/step - accuracy: 0.8057 - loss: 0.5554\n",
      "Epoch 4/10\n",
      "\u001b[1m74/74\u001b[0m \u001b[32m━━━━━━━━━━━━━━━━━━━━\u001b[0m\u001b[37m\u001b[0m \u001b[1m1s\u001b[0m 9ms/step - accuracy: 0.8464 - loss: 0.4274\n",
      "Epoch 5/10\n",
      "\u001b[1m74/74\u001b[0m \u001b[32m━━━━━━━━━━━━━━━━━━━━\u001b[0m\u001b[37m\u001b[0m \u001b[1m1s\u001b[0m 8ms/step - accuracy: 0.8623 - loss: 0.3891\n",
      "Epoch 6/10\n",
      "\u001b[1m74/74\u001b[0m \u001b[32m━━━━━━━━━━━━━━━━━━━━\u001b[0m\u001b[37m\u001b[0m \u001b[1m1s\u001b[0m 8ms/step - accuracy: 0.8839 - loss: 0.3174\n",
      "Epoch 7/10\n",
      "\u001b[1m74/74\u001b[0m \u001b[32m━━━━━━━━━━━━━━━━━━━━\u001b[0m\u001b[37m\u001b[0m \u001b[1m1s\u001b[0m 8ms/step - accuracy: 0.8936 - loss: 0.2826\n",
      "Epoch 8/10\n",
      "\u001b[1m74/74\u001b[0m \u001b[32m━━━━━━━━━━━━━━━━━━━━\u001b[0m\u001b[37m\u001b[0m \u001b[1m1s\u001b[0m 8ms/step - accuracy: 0.8963 - loss: 0.2786\n",
      "Epoch 9/10\n",
      "\u001b[1m74/74\u001b[0m \u001b[32m━━━━━━━━━━━━━━━━━━━━\u001b[0m\u001b[37m\u001b[0m \u001b[1m1s\u001b[0m 8ms/step - accuracy: 0.9038 - loss: 0.2726\n",
      "Epoch 10/10\n",
      "\u001b[1m74/74\u001b[0m \u001b[32m━━━━━━━━━━━━━━━━━━━━\u001b[0m\u001b[37m\u001b[0m \u001b[1m1s\u001b[0m 8ms/step - accuracy: 0.9068 - loss: 0.2640\n"
     ]
    },
    {
     "data": {
      "text/plain": [
       "<keras.src.callbacks.history.History at 0x162e8ddd0>"
      ]
     },
     "execution_count": 51,
     "metadata": {},
     "output_type": "execute_result"
    }
   ],
   "source": [
    "mdl = Sequential()\n",
    "\n",
    "mdl.add(layers.Input(shape=X_train.shape[1:]))\n",
    "mdl.add(layers.LSTM(128))\n",
    "mdl.add(layers.Dense(128, activation = \"relu\"))\n",
    "mdl.add(layers.Dense(4, activation = \"softmax\"))\n",
    "\n",
    "mdl.compile(optimizer = \"adam\", loss = \"sparse_categorical_crossentropy\", metrics = [\"accuracy\"])\n",
    "\n",
    "mdl.fit(X_train, documents_train[\"target\"], epochs = 10)"
   ]
  },
  {
   "cell_type": "code",
   "execution_count": 52,
   "id": "98d1b89e-9ab1-44a9-9a19-c06f9f5c6251",
   "metadata": {},
   "outputs": [
    {
     "name": "stdout",
     "output_type": "stream",
     "text": [
      "\u001b[1m50/50\u001b[0m \u001b[32m━━━━━━━━━━━━━━━━━━━━\u001b[0m\u001b[37m\u001b[0m \u001b[1m0s\u001b[0m 3ms/step - accuracy: 0.6707 - loss: 1.0174\n"
     ]
    },
    {
     "data": {
      "text/plain": [
       "[1.0309085845947266, 0.6766200661659241]"
      ]
     },
     "execution_count": 52,
     "metadata": {},
     "output_type": "execute_result"
    }
   ],
   "source": [
    "mdl.evaluate(X_test, documents_test[\"target\"])"
   ]
  },
  {
   "cell_type": "markdown",
   "id": "2eb96b65-6f1b-4ab1-9095-5ae848968c5e",
   "metadata": {},
   "source": [
    "## Embedding"
   ]
  },
  {
   "cell_type": "code",
   "execution_count": 58,
   "id": "b4f1387c-b403-4097-acb8-870da41a4424",
   "metadata": {},
   "outputs": [],
   "source": [
    "text_vectorizer = layers.TextVectorization(\n",
    "    max_tokens = 10000,\n",
    "    output_mode = \"int\",\n",
    "    output_sequence_length = 100\n",
    ")\n",
    "\n",
    "text_vectorizer.adapt(documents_train[\"data\"])\n",
    "X_train = text_vectorizer(documents_train[\"data\"])\n",
    "X_test = text_vectorizer(documents_test[\"data\"])"
   ]
  },
  {
   "cell_type": "code",
   "execution_count": 59,
   "id": "13554413-30d5-423b-8c7a-930eb529d3f4",
   "metadata": {},
   "outputs": [
    {
     "name": "stdout",
     "output_type": "stream",
     "text": [
      "Epoch 1/10\n",
      "\u001b[1m74/74\u001b[0m \u001b[32m━━━━━━━━━━━━━━━━━━━━\u001b[0m\u001b[37m\u001b[0m \u001b[1m4s\u001b[0m 48ms/step - accuracy: 0.2999 - loss: 1.3521\n",
      "Epoch 2/10\n",
      "\u001b[1m74/74\u001b[0m \u001b[32m━━━━━━━━━━━━━━━━━━━━\u001b[0m\u001b[37m\u001b[0m \u001b[1m4s\u001b[0m 53ms/step - accuracy: 0.4944 - loss: 0.8975\n",
      "Epoch 3/10\n",
      "\u001b[1m74/74\u001b[0m \u001b[32m━━━━━━━━━━━━━━━━━━━━\u001b[0m\u001b[37m\u001b[0m \u001b[1m4s\u001b[0m 53ms/step - accuracy: 0.5591 - loss: 0.8250\n",
      "Epoch 4/10\n",
      "\u001b[1m74/74\u001b[0m \u001b[32m━━━━━━━━━━━━━━━━━━━━\u001b[0m\u001b[37m\u001b[0m \u001b[1m4s\u001b[0m 49ms/step - accuracy: 0.7080 - loss: 0.6216\n",
      "Epoch 5/10\n",
      "\u001b[1m74/74\u001b[0m \u001b[32m━━━━━━━━━━━━━━━━━━━━\u001b[0m\u001b[37m\u001b[0m \u001b[1m4s\u001b[0m 52ms/step - accuracy: 0.7587 - loss: 0.5558\n",
      "Epoch 6/10\n",
      "\u001b[1m74/74\u001b[0m \u001b[32m━━━━━━━━━━━━━━━━━━━━\u001b[0m\u001b[37m\u001b[0m \u001b[1m3s\u001b[0m 46ms/step - accuracy: 0.8293 - loss: 0.4510\n",
      "Epoch 7/10\n",
      "\u001b[1m74/74\u001b[0m \u001b[32m━━━━━━━━━━━━━━━━━━━━\u001b[0m\u001b[37m\u001b[0m \u001b[1m4s\u001b[0m 54ms/step - accuracy: 0.7945 - loss: 0.5858\n",
      "Epoch 8/10\n",
      "\u001b[1m74/74\u001b[0m \u001b[32m━━━━━━━━━━━━━━━━━━━━\u001b[0m\u001b[37m\u001b[0m \u001b[1m4s\u001b[0m 47ms/step - accuracy: 0.8449 - loss: 0.4302\n",
      "Epoch 9/10\n",
      "\u001b[1m74/74\u001b[0m \u001b[32m━━━━━━━━━━━━━━━━━━━━\u001b[0m\u001b[37m\u001b[0m \u001b[1m4s\u001b[0m 50ms/step - accuracy: 0.8795 - loss: 0.3283\n",
      "Epoch 10/10\n",
      "\u001b[1m74/74\u001b[0m \u001b[32m━━━━━━━━━━━━━━━━━━━━\u001b[0m\u001b[37m\u001b[0m \u001b[1m4s\u001b[0m 48ms/step - accuracy: 0.9367 - loss: 0.2096\n"
     ]
    },
    {
     "data": {
      "text/plain": [
       "<keras.src.callbacks.history.History at 0x162b964d0>"
      ]
     },
     "execution_count": 59,
     "metadata": {},
     "output_type": "execute_result"
    }
   ],
   "source": [
    "mdl = Sequential()\n",
    "\n",
    "mdl.add(layers.Embedding(input_dim=10000, output_dim=128))\n",
    "mdl.add(layers.LSTM(128))\n",
    "mdl.add(layers.Dense(128, activation = \"relu\"))\n",
    "mdl.add(layers.Dense(4, activation = \"softmax\"))\n",
    "\n",
    "mdl.compile(optimizer = \"adam\", loss = \"sparse_categorical_crossentropy\", metrics = [\"accuracy\"])\n",
    "\n",
    "mdl.fit(X_train, documents_train[\"target\"], epochs = 10)"
   ]
  },
  {
   "cell_type": "code",
   "execution_count": 60,
   "id": "da6b77b6-442b-47aa-88ff-ab135540a691",
   "metadata": {},
   "outputs": [
    {
     "name": "stdout",
     "output_type": "stream",
     "text": [
      "\u001b[1m50/50\u001b[0m \u001b[32m━━━━━━━━━━━━━━━━━━━━\u001b[0m\u001b[37m\u001b[0m \u001b[1m1s\u001b[0m 14ms/step - accuracy: 0.7654 - loss: 0.7655\n"
     ]
    },
    {
     "data": {
      "text/plain": [
       "[0.7629914879798889, 0.7642948031425476]"
      ]
     },
     "execution_count": 60,
     "metadata": {},
     "output_type": "execute_result"
    }
   ],
   "source": [
    "mdl.evaluate(X_test, documents_test[\"target\"])"
   ]
  },
  {
   "cell_type": "code",
   "execution_count": null,
   "id": "85732c9d-663a-415d-b397-06770dde6ef9",
   "metadata": {},
   "outputs": [],
   "source": []
  }
 ],
 "metadata": {
  "kernelspec": {
   "display_name": "Python 3 (ipykernel)",
   "language": "python",
   "name": "python3"
  },
  "language_info": {
   "codemirror_mode": {
    "name": "ipython",
    "version": 3
   },
   "file_extension": ".py",
   "mimetype": "text/x-python",
   "name": "python",
   "nbconvert_exporter": "python",
   "pygments_lexer": "ipython3",
   "version": "3.11.4"
  }
 },
 "nbformat": 4,
 "nbformat_minor": 5
}
